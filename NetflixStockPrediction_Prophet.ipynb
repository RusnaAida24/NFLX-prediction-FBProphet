{
  "cells": [
    {
      "cell_type": "markdown",
      "metadata": {
        "id": "view-in-github",
        "colab_type": "text"
      },
      "source": [
        "<a href=\"https://colab.research.google.com/github/RusnaAida24/NFLX-prediction-Prophet/blob/main/NetflixStockPrediction_Prophet.ipynb\" target=\"_parent\"><img src=\"https://colab.research.google.com/assets/colab-badge.svg\" alt=\"Open In Colab\"/></a>"
      ]
    },
    {
      "cell_type": "markdown",
      "metadata": {
        "id": "mrG0EKYUXRoY"
      },
      "source": [
        "#**NETFLIX (NFLX) Stock Prediction using Prophet**\n",
        "\n"
      ]
    },
    {
      "cell_type": "code",
      "execution_count": 1,
      "metadata": {
        "id": "z-5WsJ9Ef6k_"
      },
      "outputs": [],
      "source": [
        "## Switch to GPU mode for faster Computation (Runtime> Change runtime> GPU)"
      ]
    },
    {
      "cell_type": "markdown",
      "metadata": {
        "id": "EJPImZ5za2DY"
      },
      "source": [
        "## Importing all the necessary Libraries"
      ]
    },
    {
      "cell_type": "code",
      "execution_count": 2,
      "metadata": {
        "id": "ZNPlTwMfbBbv"
      },
      "outputs": [],
      "source": [
        "#Necessary libraries = Pandas, fbprophet and plotly\n",
        "\n",
        "#pandas= data Manipulation and analysis\n",
        "#fbprophet = Forecasting\n",
        "#plotly= data visualization"
      ]
    },
    {
      "cell_type": "code",
      "source": [
        "import io, os, sys, setuptools, tokenize"
      ],
      "metadata": {
        "id": "kKSOUcGaoVNk"
      },
      "execution_count": 3,
      "outputs": []
    },
    {
      "cell_type": "code",
      "source": [
        "!pip install prophet\n",
        "from prophet import Prophet"
      ],
      "metadata": {
        "colab": {
          "base_uri": "https://localhost:8080/"
        },
        "id": "RLbYy_qEixpi",
        "outputId": "3268821f-262d-42b0-a5a4-202cf4f5f219"
      },
      "execution_count": 4,
      "outputs": [
        {
          "output_type": "stream",
          "name": "stdout",
          "text": [
            "Requirement already satisfied: prophet in /usr/local/lib/python3.10/dist-packages (1.1.4)\n",
            "Requirement already satisfied: cmdstanpy>=1.0.4 in /usr/local/lib/python3.10/dist-packages (from prophet) (1.1.0)\n",
            "Requirement already satisfied: numpy>=1.15.4 in /usr/local/lib/python3.10/dist-packages (from prophet) (1.22.4)\n",
            "Requirement already satisfied: matplotlib>=2.0.0 in /usr/local/lib/python3.10/dist-packages (from prophet) (3.7.1)\n",
            "Requirement already satisfied: pandas>=1.0.4 in /usr/local/lib/python3.10/dist-packages (from prophet) (1.5.3)\n",
            "Requirement already satisfied: LunarCalendar>=0.0.9 in /usr/local/lib/python3.10/dist-packages (from prophet) (0.0.9)\n",
            "Requirement already satisfied: convertdate>=2.1.2 in /usr/local/lib/python3.10/dist-packages (from prophet) (2.4.0)\n",
            "Requirement already satisfied: holidays>=0.25 in /usr/local/lib/python3.10/dist-packages (from prophet) (0.27.1)\n",
            "Requirement already satisfied: python-dateutil>=2.8.0 in /usr/local/lib/python3.10/dist-packages (from prophet) (2.8.2)\n",
            "Requirement already satisfied: tqdm>=4.36.1 in /usr/local/lib/python3.10/dist-packages (from prophet) (4.65.0)\n",
            "Requirement already satisfied: importlib-resources in /usr/local/lib/python3.10/dist-packages (from prophet) (5.12.0)\n",
            "Requirement already satisfied: pymeeus<=1,>=0.3.13 in /usr/local/lib/python3.10/dist-packages (from convertdate>=2.1.2->prophet) (0.5.12)\n",
            "Requirement already satisfied: ephem>=3.7.5.3 in /usr/local/lib/python3.10/dist-packages (from LunarCalendar>=0.0.9->prophet) (4.1.4)\n",
            "Requirement already satisfied: pytz in /usr/local/lib/python3.10/dist-packages (from LunarCalendar>=0.0.9->prophet) (2022.7.1)\n",
            "Requirement already satisfied: contourpy>=1.0.1 in /usr/local/lib/python3.10/dist-packages (from matplotlib>=2.0.0->prophet) (1.1.0)\n",
            "Requirement already satisfied: cycler>=0.10 in /usr/local/lib/python3.10/dist-packages (from matplotlib>=2.0.0->prophet) (0.11.0)\n",
            "Requirement already satisfied: fonttools>=4.22.0 in /usr/local/lib/python3.10/dist-packages (from matplotlib>=2.0.0->prophet) (4.40.0)\n",
            "Requirement already satisfied: kiwisolver>=1.0.1 in /usr/local/lib/python3.10/dist-packages (from matplotlib>=2.0.0->prophet) (1.4.4)\n",
            "Requirement already satisfied: packaging>=20.0 in /usr/local/lib/python3.10/dist-packages (from matplotlib>=2.0.0->prophet) (23.1)\n",
            "Requirement already satisfied: pillow>=6.2.0 in /usr/local/lib/python3.10/dist-packages (from matplotlib>=2.0.0->prophet) (8.4.0)\n",
            "Requirement already satisfied: pyparsing>=2.3.1 in /usr/local/lib/python3.10/dist-packages (from matplotlib>=2.0.0->prophet) (3.1.0)\n",
            "Requirement already satisfied: six>=1.5 in /usr/local/lib/python3.10/dist-packages (from python-dateutil>=2.8.0->prophet) (1.16.0)\n"
          ]
        }
      ]
    },
    {
      "cell_type": "code",
      "execution_count": 5,
      "metadata": {
        "id": "tR4fFCxE8fAg"
      },
      "outputs": [],
      "source": [
        "import pandas as pd\n",
        "import plotly.express as px"
      ]
    },
    {
      "cell_type": "code",
      "source": [
        "#Initializing Plotly\n",
        "import plotly.io as pio\n",
        "pio.renderers.default='colab'"
      ],
      "metadata": {
        "id": "ZAwfMVKesgEl"
      },
      "execution_count": 6,
      "outputs": []
    },
    {
      "cell_type": "markdown",
      "metadata": {
        "id": "LQr_B55bbjQ1"
      },
      "source": [
        "## Importing the Dataset & Exploring it"
      ]
    },
    {
      "cell_type": "code",
      "execution_count": 7,
      "metadata": {
        "id": "vezMkspZboYX",
        "colab": {
          "base_uri": "https://localhost:8080/",
          "height": 206
        },
        "outputId": "85dec80d-e4b9-4822-dee9-3e49b581a1f1"
      },
      "outputs": [
        {
          "output_type": "execute_result",
          "data": {
            "text/plain": [
              "         Date        Open        High         Low       Close   Adj Close  \\\n",
              "0  2022-06-10  182.639999  185.860001  180.850006  182.940002  182.940002   \n",
              "1  2022-06-13  177.070007  179.089996  168.960007  169.690002  169.690002   \n",
              "2  2022-06-14  169.750000  172.059998  164.279999  167.539993  167.539993   \n",
              "3  2022-06-15  169.259995  183.850006  168.529999  180.110001  180.110001   \n",
              "4  2022-06-16  174.000000  176.270004  171.559998  173.350006  173.350006   \n",
              "\n",
              "     Volume  \n",
              "0  13065600  \n",
              "1  10222400  \n",
              "2  11555300  \n",
              "3  12396000  \n",
              "4   8201300  "
            ],
            "text/html": [
              "\n",
              "  <div id=\"df-fda68dcf-3475-4b7f-9e27-0a999ff7805f\">\n",
              "    <div class=\"colab-df-container\">\n",
              "      <div>\n",
              "<style scoped>\n",
              "    .dataframe tbody tr th:only-of-type {\n",
              "        vertical-align: middle;\n",
              "    }\n",
              "\n",
              "    .dataframe tbody tr th {\n",
              "        vertical-align: top;\n",
              "    }\n",
              "\n",
              "    .dataframe thead th {\n",
              "        text-align: right;\n",
              "    }\n",
              "</style>\n",
              "<table border=\"1\" class=\"dataframe\">\n",
              "  <thead>\n",
              "    <tr style=\"text-align: right;\">\n",
              "      <th></th>\n",
              "      <th>Date</th>\n",
              "      <th>Open</th>\n",
              "      <th>High</th>\n",
              "      <th>Low</th>\n",
              "      <th>Close</th>\n",
              "      <th>Adj Close</th>\n",
              "      <th>Volume</th>\n",
              "    </tr>\n",
              "  </thead>\n",
              "  <tbody>\n",
              "    <tr>\n",
              "      <th>0</th>\n",
              "      <td>2022-06-10</td>\n",
              "      <td>182.639999</td>\n",
              "      <td>185.860001</td>\n",
              "      <td>180.850006</td>\n",
              "      <td>182.940002</td>\n",
              "      <td>182.940002</td>\n",
              "      <td>13065600</td>\n",
              "    </tr>\n",
              "    <tr>\n",
              "      <th>1</th>\n",
              "      <td>2022-06-13</td>\n",
              "      <td>177.070007</td>\n",
              "      <td>179.089996</td>\n",
              "      <td>168.960007</td>\n",
              "      <td>169.690002</td>\n",
              "      <td>169.690002</td>\n",
              "      <td>10222400</td>\n",
              "    </tr>\n",
              "    <tr>\n",
              "      <th>2</th>\n",
              "      <td>2022-06-14</td>\n",
              "      <td>169.750000</td>\n",
              "      <td>172.059998</td>\n",
              "      <td>164.279999</td>\n",
              "      <td>167.539993</td>\n",
              "      <td>167.539993</td>\n",
              "      <td>11555300</td>\n",
              "    </tr>\n",
              "    <tr>\n",
              "      <th>3</th>\n",
              "      <td>2022-06-15</td>\n",
              "      <td>169.259995</td>\n",
              "      <td>183.850006</td>\n",
              "      <td>168.529999</td>\n",
              "      <td>180.110001</td>\n",
              "      <td>180.110001</td>\n",
              "      <td>12396000</td>\n",
              "    </tr>\n",
              "    <tr>\n",
              "      <th>4</th>\n",
              "      <td>2022-06-16</td>\n",
              "      <td>174.000000</td>\n",
              "      <td>176.270004</td>\n",
              "      <td>171.559998</td>\n",
              "      <td>173.350006</td>\n",
              "      <td>173.350006</td>\n",
              "      <td>8201300</td>\n",
              "    </tr>\n",
              "  </tbody>\n",
              "</table>\n",
              "</div>\n",
              "      <button class=\"colab-df-convert\" onclick=\"convertToInteractive('df-fda68dcf-3475-4b7f-9e27-0a999ff7805f')\"\n",
              "              title=\"Convert this dataframe to an interactive table.\"\n",
              "              style=\"display:none;\">\n",
              "        \n",
              "  <svg xmlns=\"http://www.w3.org/2000/svg\" height=\"24px\"viewBox=\"0 0 24 24\"\n",
              "       width=\"24px\">\n",
              "    <path d=\"M0 0h24v24H0V0z\" fill=\"none\"/>\n",
              "    <path d=\"M18.56 5.44l.94 2.06.94-2.06 2.06-.94-2.06-.94-.94-2.06-.94 2.06-2.06.94zm-11 1L8.5 8.5l.94-2.06 2.06-.94-2.06-.94L8.5 2.5l-.94 2.06-2.06.94zm10 10l.94 2.06.94-2.06 2.06-.94-2.06-.94-.94-2.06-.94 2.06-2.06.94z\"/><path d=\"M17.41 7.96l-1.37-1.37c-.4-.4-.92-.59-1.43-.59-.52 0-1.04.2-1.43.59L10.3 9.45l-7.72 7.72c-.78.78-.78 2.05 0 2.83L4 21.41c.39.39.9.59 1.41.59.51 0 1.02-.2 1.41-.59l7.78-7.78 2.81-2.81c.8-.78.8-2.07 0-2.86zM5.41 20L4 18.59l7.72-7.72 1.47 1.35L5.41 20z\"/>\n",
              "  </svg>\n",
              "      </button>\n",
              "      \n",
              "  <style>\n",
              "    .colab-df-container {\n",
              "      display:flex;\n",
              "      flex-wrap:wrap;\n",
              "      gap: 12px;\n",
              "    }\n",
              "\n",
              "    .colab-df-convert {\n",
              "      background-color: #E8F0FE;\n",
              "      border: none;\n",
              "      border-radius: 50%;\n",
              "      cursor: pointer;\n",
              "      display: none;\n",
              "      fill: #1967D2;\n",
              "      height: 32px;\n",
              "      padding: 0 0 0 0;\n",
              "      width: 32px;\n",
              "    }\n",
              "\n",
              "    .colab-df-convert:hover {\n",
              "      background-color: #E2EBFA;\n",
              "      box-shadow: 0px 1px 2px rgba(60, 64, 67, 0.3), 0px 1px 3px 1px rgba(60, 64, 67, 0.15);\n",
              "      fill: #174EA6;\n",
              "    }\n",
              "\n",
              "    [theme=dark] .colab-df-convert {\n",
              "      background-color: #3B4455;\n",
              "      fill: #D2E3FC;\n",
              "    }\n",
              "\n",
              "    [theme=dark] .colab-df-convert:hover {\n",
              "      background-color: #434B5C;\n",
              "      box-shadow: 0px 1px 3px 1px rgba(0, 0, 0, 0.15);\n",
              "      filter: drop-shadow(0px 1px 2px rgba(0, 0, 0, 0.3));\n",
              "      fill: #FFFFFF;\n",
              "    }\n",
              "  </style>\n",
              "\n",
              "      <script>\n",
              "        const buttonEl =\n",
              "          document.querySelector('#df-fda68dcf-3475-4b7f-9e27-0a999ff7805f button.colab-df-convert');\n",
              "        buttonEl.style.display =\n",
              "          google.colab.kernel.accessAllowed ? 'block' : 'none';\n",
              "\n",
              "        async function convertToInteractive(key) {\n",
              "          const element = document.querySelector('#df-fda68dcf-3475-4b7f-9e27-0a999ff7805f');\n",
              "          const dataTable =\n",
              "            await google.colab.kernel.invokeFunction('convertToInteractive',\n",
              "                                                     [key], {});\n",
              "          if (!dataTable) return;\n",
              "\n",
              "          const docLinkHtml = 'Like what you see? Visit the ' +\n",
              "            '<a target=\"_blank\" href=https://colab.research.google.com/notebooks/data_table.ipynb>data table notebook</a>'\n",
              "            + ' to learn more about interactive tables.';\n",
              "          element.innerHTML = '';\n",
              "          dataTable['output_type'] = 'display_data';\n",
              "          await google.colab.output.renderOutput(dataTable, element);\n",
              "          const docLink = document.createElement('div');\n",
              "          docLink.innerHTML = docLinkHtml;\n",
              "          element.appendChild(docLink);\n",
              "        }\n",
              "      </script>\n",
              "    </div>\n",
              "  </div>\n",
              "  "
            ]
          },
          "metadata": {},
          "execution_count": 7
        }
      ],
      "source": [
        "# read_csv function from pandas\n",
        "# url = 'https://drive.google.com/uc?id={}'.format(file_id)\n",
        "# file_id = 1Fm-Vt6HIGCT1f17YZ6olGkRlGLfa6i47\n",
        "# get file_id from shareable link of file (upload the file to google drive)\n",
        "\n",
        "url = 'https://drive.google.com/uc?id={}'.format('1Fm-Vt6HIGCT1f17YZ6olGkRlGLfa6i47')\n",
        "df=pd.read_csv(url)\n",
        "df.head(5)"
      ]
    },
    {
      "cell_type": "code",
      "execution_count": 8,
      "metadata": {
        "id": "GQGyTaTB8sUM",
        "colab": {
          "base_uri": "https://localhost:8080/"
        },
        "outputId": "68bdf1f9-1408-4b00-d16b-96503afc8401"
      },
      "outputs": [
        {
          "output_type": "stream",
          "name": "stdout",
          "text": [
            "<class 'pandas.core.frame.DataFrame'>\n",
            "RangeIndex: 251 entries, 0 to 250\n",
            "Data columns (total 7 columns):\n",
            " #   Column     Non-Null Count  Dtype  \n",
            "---  ------     --------------  -----  \n",
            " 0   Date       251 non-null    object \n",
            " 1   Open       251 non-null    float64\n",
            " 2   High       251 non-null    float64\n",
            " 3   Low        251 non-null    float64\n",
            " 4   Close      251 non-null    float64\n",
            " 5   Adj Close  251 non-null    float64\n",
            " 6   Volume     251 non-null    int64  \n",
            "dtypes: float64(5), int64(1), object(1)\n",
            "memory usage: 13.9+ KB\n"
          ]
        }
      ],
      "source": [
        "df.info()"
      ]
    },
    {
      "cell_type": "code",
      "execution_count": 9,
      "metadata": {
        "id": "xAifThcH8xUH",
        "colab": {
          "base_uri": "https://localhost:8080/",
          "height": 300
        },
        "outputId": "39cfe480-446c-4355-d7ef-2e4c1c48e735"
      },
      "outputs": [
        {
          "output_type": "execute_result",
          "data": {
            "text/plain": [
              "             Open        High         Low       Close   Adj Close  \\\n",
              "count  251.000000  251.000000  251.000000  251.000000  251.000000   \n",
              "mean   284.976693  290.725179  280.161674  285.733546  285.733546   \n",
              "std     60.009002   60.240438   59.670762   59.952251   59.952251   \n",
              "min    169.259995  172.059998  164.279999  167.539993  167.539993   \n",
              "25%    231.419998  237.139999  226.895004  233.000000  233.000000   \n",
              "50%    296.170013  299.820007  289.000000  294.959991  294.959991   \n",
              "75%    330.085007  333.135010  324.205002  330.029999  330.029999   \n",
              "max    424.500000  425.899994  414.760010  420.019989  420.019989   \n",
              "\n",
              "             Volume  \n",
              "count  2.510000e+02  \n",
              "mean   9.281248e+06  \n",
              "std    5.927140e+06  \n",
              "min    2.657900e+06  \n",
              "25%    5.797450e+06  \n",
              "50%    7.543300e+06  \n",
              "75%    1.079100e+07  \n",
              "max    5.392030e+07  "
            ],
            "text/html": [
              "\n",
              "  <div id=\"df-990a3fb8-d8fe-42b9-b792-7a1e2d4d940a\">\n",
              "    <div class=\"colab-df-container\">\n",
              "      <div>\n",
              "<style scoped>\n",
              "    .dataframe tbody tr th:only-of-type {\n",
              "        vertical-align: middle;\n",
              "    }\n",
              "\n",
              "    .dataframe tbody tr th {\n",
              "        vertical-align: top;\n",
              "    }\n",
              "\n",
              "    .dataframe thead th {\n",
              "        text-align: right;\n",
              "    }\n",
              "</style>\n",
              "<table border=\"1\" class=\"dataframe\">\n",
              "  <thead>\n",
              "    <tr style=\"text-align: right;\">\n",
              "      <th></th>\n",
              "      <th>Open</th>\n",
              "      <th>High</th>\n",
              "      <th>Low</th>\n",
              "      <th>Close</th>\n",
              "      <th>Adj Close</th>\n",
              "      <th>Volume</th>\n",
              "    </tr>\n",
              "  </thead>\n",
              "  <tbody>\n",
              "    <tr>\n",
              "      <th>count</th>\n",
              "      <td>251.000000</td>\n",
              "      <td>251.000000</td>\n",
              "      <td>251.000000</td>\n",
              "      <td>251.000000</td>\n",
              "      <td>251.000000</td>\n",
              "      <td>2.510000e+02</td>\n",
              "    </tr>\n",
              "    <tr>\n",
              "      <th>mean</th>\n",
              "      <td>284.976693</td>\n",
              "      <td>290.725179</td>\n",
              "      <td>280.161674</td>\n",
              "      <td>285.733546</td>\n",
              "      <td>285.733546</td>\n",
              "      <td>9.281248e+06</td>\n",
              "    </tr>\n",
              "    <tr>\n",
              "      <th>std</th>\n",
              "      <td>60.009002</td>\n",
              "      <td>60.240438</td>\n",
              "      <td>59.670762</td>\n",
              "      <td>59.952251</td>\n",
              "      <td>59.952251</td>\n",
              "      <td>5.927140e+06</td>\n",
              "    </tr>\n",
              "    <tr>\n",
              "      <th>min</th>\n",
              "      <td>169.259995</td>\n",
              "      <td>172.059998</td>\n",
              "      <td>164.279999</td>\n",
              "      <td>167.539993</td>\n",
              "      <td>167.539993</td>\n",
              "      <td>2.657900e+06</td>\n",
              "    </tr>\n",
              "    <tr>\n",
              "      <th>25%</th>\n",
              "      <td>231.419998</td>\n",
              "      <td>237.139999</td>\n",
              "      <td>226.895004</td>\n",
              "      <td>233.000000</td>\n",
              "      <td>233.000000</td>\n",
              "      <td>5.797450e+06</td>\n",
              "    </tr>\n",
              "    <tr>\n",
              "      <th>50%</th>\n",
              "      <td>296.170013</td>\n",
              "      <td>299.820007</td>\n",
              "      <td>289.000000</td>\n",
              "      <td>294.959991</td>\n",
              "      <td>294.959991</td>\n",
              "      <td>7.543300e+06</td>\n",
              "    </tr>\n",
              "    <tr>\n",
              "      <th>75%</th>\n",
              "      <td>330.085007</td>\n",
              "      <td>333.135010</td>\n",
              "      <td>324.205002</td>\n",
              "      <td>330.029999</td>\n",
              "      <td>330.029999</td>\n",
              "      <td>1.079100e+07</td>\n",
              "    </tr>\n",
              "    <tr>\n",
              "      <th>max</th>\n",
              "      <td>424.500000</td>\n",
              "      <td>425.899994</td>\n",
              "      <td>414.760010</td>\n",
              "      <td>420.019989</td>\n",
              "      <td>420.019989</td>\n",
              "      <td>5.392030e+07</td>\n",
              "    </tr>\n",
              "  </tbody>\n",
              "</table>\n",
              "</div>\n",
              "      <button class=\"colab-df-convert\" onclick=\"convertToInteractive('df-990a3fb8-d8fe-42b9-b792-7a1e2d4d940a')\"\n",
              "              title=\"Convert this dataframe to an interactive table.\"\n",
              "              style=\"display:none;\">\n",
              "        \n",
              "  <svg xmlns=\"http://www.w3.org/2000/svg\" height=\"24px\"viewBox=\"0 0 24 24\"\n",
              "       width=\"24px\">\n",
              "    <path d=\"M0 0h24v24H0V0z\" fill=\"none\"/>\n",
              "    <path d=\"M18.56 5.44l.94 2.06.94-2.06 2.06-.94-2.06-.94-.94-2.06-.94 2.06-2.06.94zm-11 1L8.5 8.5l.94-2.06 2.06-.94-2.06-.94L8.5 2.5l-.94 2.06-2.06.94zm10 10l.94 2.06.94-2.06 2.06-.94-2.06-.94-.94-2.06-.94 2.06-2.06.94z\"/><path d=\"M17.41 7.96l-1.37-1.37c-.4-.4-.92-.59-1.43-.59-.52 0-1.04.2-1.43.59L10.3 9.45l-7.72 7.72c-.78.78-.78 2.05 0 2.83L4 21.41c.39.39.9.59 1.41.59.51 0 1.02-.2 1.41-.59l7.78-7.78 2.81-2.81c.8-.78.8-2.07 0-2.86zM5.41 20L4 18.59l7.72-7.72 1.47 1.35L5.41 20z\"/>\n",
              "  </svg>\n",
              "      </button>\n",
              "      \n",
              "  <style>\n",
              "    .colab-df-container {\n",
              "      display:flex;\n",
              "      flex-wrap:wrap;\n",
              "      gap: 12px;\n",
              "    }\n",
              "\n",
              "    .colab-df-convert {\n",
              "      background-color: #E8F0FE;\n",
              "      border: none;\n",
              "      border-radius: 50%;\n",
              "      cursor: pointer;\n",
              "      display: none;\n",
              "      fill: #1967D2;\n",
              "      height: 32px;\n",
              "      padding: 0 0 0 0;\n",
              "      width: 32px;\n",
              "    }\n",
              "\n",
              "    .colab-df-convert:hover {\n",
              "      background-color: #E2EBFA;\n",
              "      box-shadow: 0px 1px 2px rgba(60, 64, 67, 0.3), 0px 1px 3px 1px rgba(60, 64, 67, 0.15);\n",
              "      fill: #174EA6;\n",
              "    }\n",
              "\n",
              "    [theme=dark] .colab-df-convert {\n",
              "      background-color: #3B4455;\n",
              "      fill: #D2E3FC;\n",
              "    }\n",
              "\n",
              "    [theme=dark] .colab-df-convert:hover {\n",
              "      background-color: #434B5C;\n",
              "      box-shadow: 0px 1px 3px 1px rgba(0, 0, 0, 0.15);\n",
              "      filter: drop-shadow(0px 1px 2px rgba(0, 0, 0, 0.3));\n",
              "      fill: #FFFFFF;\n",
              "    }\n",
              "  </style>\n",
              "\n",
              "      <script>\n",
              "        const buttonEl =\n",
              "          document.querySelector('#df-990a3fb8-d8fe-42b9-b792-7a1e2d4d940a button.colab-df-convert');\n",
              "        buttonEl.style.display =\n",
              "          google.colab.kernel.accessAllowed ? 'block' : 'none';\n",
              "\n",
              "        async function convertToInteractive(key) {\n",
              "          const element = document.querySelector('#df-990a3fb8-d8fe-42b9-b792-7a1e2d4d940a');\n",
              "          const dataTable =\n",
              "            await google.colab.kernel.invokeFunction('convertToInteractive',\n",
              "                                                     [key], {});\n",
              "          if (!dataTable) return;\n",
              "\n",
              "          const docLinkHtml = 'Like what you see? Visit the ' +\n",
              "            '<a target=\"_blank\" href=https://colab.research.google.com/notebooks/data_table.ipynb>data table notebook</a>'\n",
              "            + ' to learn more about interactive tables.';\n",
              "          element.innerHTML = '';\n",
              "          dataTable['output_type'] = 'display_data';\n",
              "          await google.colab.output.renderOutput(dataTable, element);\n",
              "          const docLink = document.createElement('div');\n",
              "          docLink.innerHTML = docLinkHtml;\n",
              "          element.appendChild(docLink);\n",
              "        }\n",
              "      </script>\n",
              "    </div>\n",
              "  </div>\n",
              "  "
            ]
          },
          "metadata": {},
          "execution_count": 9
        }
      ],
      "source": [
        "df.describe()"
      ]
    },
    {
      "cell_type": "markdown",
      "metadata": {
        "id": "v3X8Z1fFb6or"
      },
      "source": [
        "# Data Visualization using plotly express- Visualizing the historical performance of Netflix\n"
      ]
    },
    {
      "cell_type": "code",
      "execution_count": 10,
      "metadata": {
        "id": "2PKVDQq2ih4S"
      },
      "outputs": [],
      "source": [
        "#Line graph, Area graph , box plot (Analyzing price and volume)"
      ]
    },
    {
      "cell_type": "code",
      "execution_count": 11,
      "metadata": {
        "id": "sBuNquI5Qpe3",
        "colab": {
          "base_uri": "https://localhost:8080/",
          "height": 542
        },
        "outputId": "e64cb8ed-c25a-4c36-d00f-dd8b85dda7af"
      },
      "outputs": [
        {
          "output_type": "display_data",
          "data": {
            "text/html": [
              "<html>\n",
              "<head><meta charset=\"utf-8\" /></head>\n",
              "<body>\n",
              "    <div>            <script src=\"https://cdnjs.cloudflare.com/ajax/libs/mathjax/2.7.5/MathJax.js?config=TeX-AMS-MML_SVG\"></script><script type=\"text/javascript\">if (window.MathJax && window.MathJax.Hub && window.MathJax.Hub.Config) {window.MathJax.Hub.Config({SVG: {font: \"STIX-Web\"}});}</script>                <script type=\"text/javascript\">window.PlotlyConfig = {MathJaxConfig: 'local'};</script>\n",
              "        <script src=\"https://cdn.plot.ly/plotly-2.18.2.min.js\"></script>                <div id=\"742a8020-09bb-41e2-a27b-6f89a3980891\" class=\"plotly-graph-div\" style=\"height:525px; width:100%;\"></div>            <script type=\"text/javascript\">                                    window.PLOTLYENV=window.PLOTLYENV || {};                                    if (document.getElementById(\"742a8020-09bb-41e2-a27b-6f89a3980891\")) {                    Plotly.newPlot(                        \"742a8020-09bb-41e2-a27b-6f89a3980891\",                        [{\"fillpattern\":{\"shape\":\"\"},\"hovertemplate\":\"Date=%{x}<br>Close=%{y}<extra></extra>\",\"legendgroup\":\"\",\"line\":{\"color\":\"#636efa\"},\"marker\":{\"symbol\":\"circle\"},\"mode\":\"lines\",\"name\":\"\",\"orientation\":\"v\",\"showlegend\":false,\"stackgroup\":\"1\",\"x\":[\"2022-06-10\",\"2022-06-13\",\"2022-06-14\",\"2022-06-15\",\"2022-06-16\",\"2022-06-17\",\"2022-06-21\",\"2022-06-22\",\"2022-06-23\",\"2022-06-24\",\"2022-06-27\",\"2022-06-28\",\"2022-06-29\",\"2022-06-30\",\"2022-07-01\",\"2022-07-05\",\"2022-07-06\",\"2022-07-07\",\"2022-07-08\",\"2022-07-11\",\"2022-07-12\",\"2022-07-13\",\"2022-07-14\",\"2022-07-15\",\"2022-07-18\",\"2022-07-19\",\"2022-07-20\",\"2022-07-21\",\"2022-07-22\",\"2022-07-25\",\"2022-07-26\",\"2022-07-27\",\"2022-07-28\",\"2022-07-29\",\"2022-08-01\",\"2022-08-02\",\"2022-08-03\",\"2022-08-04\",\"2022-08-05\",\"2022-08-08\",\"2022-08-09\",\"2022-08-10\",\"2022-08-11\",\"2022-08-12\",\"2022-08-15\",\"2022-08-16\",\"2022-08-17\",\"2022-08-18\",\"2022-08-19\",\"2022-08-22\",\"2022-08-23\",\"2022-08-24\",\"2022-08-25\",\"2022-08-26\",\"2022-08-29\",\"2022-08-30\",\"2022-08-31\",\"2022-09-01\",\"2022-09-02\",\"2022-09-06\",\"2022-09-07\",\"2022-09-08\",\"2022-09-09\",\"2022-09-12\",\"2022-09-13\",\"2022-09-14\",\"2022-09-15\",\"2022-09-16\",\"2022-09-19\",\"2022-09-20\",\"2022-09-21\",\"2022-09-22\",\"2022-09-23\",\"2022-09-26\",\"2022-09-27\",\"2022-09-28\",\"2022-09-29\",\"2022-09-30\",\"2022-10-03\",\"2022-10-04\",\"2022-10-05\",\"2022-10-06\",\"2022-10-07\",\"2022-10-10\",\"2022-10-11\",\"2022-10-12\",\"2022-10-13\",\"2022-10-14\",\"2022-10-17\",\"2022-10-18\",\"2022-10-19\",\"2022-10-20\",\"2022-10-21\",\"2022-10-24\",\"2022-10-25\",\"2022-10-26\",\"2022-10-27\",\"2022-10-28\",\"2022-10-31\",\"2022-11-01\",\"2022-11-02\",\"2022-11-03\",\"2022-11-04\",\"2022-11-07\",\"2022-11-08\",\"2022-11-09\",\"2022-11-10\",\"2022-11-11\",\"2022-11-14\",\"2022-11-15\",\"2022-11-16\",\"2022-11-17\",\"2022-11-18\",\"2022-11-21\",\"2022-11-22\",\"2022-11-23\",\"2022-11-25\",\"2022-11-28\",\"2022-11-29\",\"2022-11-30\",\"2022-12-01\",\"2022-12-02\",\"2022-12-05\",\"2022-12-06\",\"2022-12-07\",\"2022-12-08\",\"2022-12-09\",\"2022-12-12\",\"2022-12-13\",\"2022-12-14\",\"2022-12-15\",\"2022-12-16\",\"2022-12-19\",\"2022-12-20\",\"2022-12-21\",\"2022-12-22\",\"2022-12-23\",\"2022-12-27\",\"2022-12-28\",\"2022-12-29\",\"2022-12-30\",\"2023-01-03\",\"2023-01-04\",\"2023-01-05\",\"2023-01-06\",\"2023-01-09\",\"2023-01-10\",\"2023-01-11\",\"2023-01-12\",\"2023-01-13\",\"2023-01-17\",\"2023-01-18\",\"2023-01-19\",\"2023-01-20\",\"2023-01-23\",\"2023-01-24\",\"2023-01-25\",\"2023-01-26\",\"2023-01-27\",\"2023-01-30\",\"2023-01-31\",\"2023-02-01\",\"2023-02-02\",\"2023-02-03\",\"2023-02-06\",\"2023-02-07\",\"2023-02-08\",\"2023-02-09\",\"2023-02-10\",\"2023-02-13\",\"2023-02-14\",\"2023-02-15\",\"2023-02-16\",\"2023-02-17\",\"2023-02-21\",\"2023-02-22\",\"2023-02-23\",\"2023-02-24\",\"2023-02-27\",\"2023-02-28\",\"2023-03-01\",\"2023-03-02\",\"2023-03-03\",\"2023-03-06\",\"2023-03-07\",\"2023-03-08\",\"2023-03-09\",\"2023-03-10\",\"2023-03-13\",\"2023-03-14\",\"2023-03-15\",\"2023-03-16\",\"2023-03-17\",\"2023-03-20\",\"2023-03-21\",\"2023-03-22\",\"2023-03-23\",\"2023-03-24\",\"2023-03-27\",\"2023-03-28\",\"2023-03-29\",\"2023-03-30\",\"2023-03-31\",\"2023-04-03\",\"2023-04-04\",\"2023-04-05\",\"2023-04-06\",\"2023-04-10\",\"2023-04-11\",\"2023-04-12\",\"2023-04-13\",\"2023-04-14\",\"2023-04-17\",\"2023-04-18\",\"2023-04-19\",\"2023-04-20\",\"2023-04-21\",\"2023-04-24\",\"2023-04-25\",\"2023-04-26\",\"2023-04-27\",\"2023-04-28\",\"2023-05-01\",\"2023-05-02\",\"2023-05-03\",\"2023-05-04\",\"2023-05-05\",\"2023-05-08\",\"2023-05-09\",\"2023-05-10\",\"2023-05-11\",\"2023-05-12\",\"2023-05-15\",\"2023-05-16\",\"2023-05-17\",\"2023-05-18\",\"2023-05-19\",\"2023-05-22\",\"2023-05-23\",\"2023-05-24\",\"2023-05-25\",\"2023-05-26\",\"2023-05-30\",\"2023-05-31\",\"2023-06-01\",\"2023-06-02\",\"2023-06-05\",\"2023-06-06\",\"2023-06-07\",\"2023-06-08\",\"2023-06-09\"],\"xaxis\":\"x\",\"y\":[182.940002,169.690002,167.539993,180.110001,173.350006,175.509995,170.910004,178.889999,181.710007,190.850006,189.139999,179.600006,178.360001,174.869995,179.949997,185.880005,184.059998,189.270004,186.979996,177.339996,174.449997,176.559998,174.779999,189.110001,190.919998,201.630005,216.440002,223.880005,220.440002,218.509995,213.910004,226.75,226.020004,224.899994,226.210007,221.419998,226.729996,229.910004,226.779999,233.490005,229.940002,244.110001,242.699997,249.300003,249.110001,245.690002,241.149994,245.169998,241.160004,226.539993,224.550003,229.610001,233.979996,223.279999,224.570007,220.649994,223.559998,230.039993,226.110001,218.389999,228.960007,227.440002,233.570007,236.529999,218.130005,224.119995,235.380005,240.130005,243.630005,242.850006,236.869995,237.050003,226.410004,224.070007,224.360001,245.199997,239.710007,235.440002,239.039993,240.740005,236.729996,240.020004,224.75,229.979996,214.289993,220.869995,232.509995,230.0,245.100006,240.860001,272.380005,268.160004,289.570007,282.450012,291.019989,298.619995,296.940002,295.720001,291.880005,286.75,273.0,269.059998,260.790009,258.600006,263.459991,254.660004,274.970001,290.130005,299.269989,310.200012,306.019989,295.279999,287.980011,285.049988,286.690002,291.5,285.540009,281.170013,280.959991,305.529999,316.950012,320.410004,312.589996,305.559998,308.420013,310.26001,320.01001,315.179993,320.339996,317.829987,290.410004,290.709991,288.299988,288.190002,297.959991,297.75,294.959991,284.170013,276.880005,291.119995,294.880005,294.950012,309.410004,309.700012,315.549988,315.170013,327.540009,327.26001,330.130005,332.820007,326.220001,326.329987,315.779999,342.5,357.420013,363.829987,367.959991,364.869995,360.769989,353.109985,353.859985,361.98999,366.890015,365.899994,361.480011,362.950012,366.829987,362.5,347.359985,358.570007,359.959991,361.420013,350.709991,347.959991,337.5,334.880005,323.649994,317.149994,323.029999,322.130005,313.480011,311.880005,315.179993,312.029999,308.470001,311.790009,297.779999,292.76001,293.51001,294.940002,303.790009,310.059998,303.5,305.130005,305.790009,293.899994,320.369995,328.390015,327.660004,323.519989,332.029999,338.429993,345.480011,348.279999,346.75,342.350006,339.329987,338.98999,338.209991,331.029999,346.190002,338.630005,332.720001,333.700012,323.119995,325.350006,327.980011,329.019989,322.549988,321.149994,325.850006,329.929993,324.119995,317.549988,319.299988,320.779999,322.76001,331.209991,332.140015,335.420013,344.76001,339.890015,335.890015,333.75,339.959991,371.290009,365.359985,363.01001,355.98999,364.850006,359.0,378.880005,392.980011,395.230011,403.130005,400.470001,403.540009,399.290009,399.769989,409.369995,420.019989],\"yaxis\":\"y\",\"type\":\"scatter\"}],                        {\"template\":{\"data\":{\"histogram2dcontour\":[{\"type\":\"histogram2dcontour\",\"colorbar\":{\"outlinewidth\":0,\"ticks\":\"\"},\"colorscale\":[[0.0,\"#0d0887\"],[0.1111111111111111,\"#46039f\"],[0.2222222222222222,\"#7201a8\"],[0.3333333333333333,\"#9c179e\"],[0.4444444444444444,\"#bd3786\"],[0.5555555555555556,\"#d8576b\"],[0.6666666666666666,\"#ed7953\"],[0.7777777777777778,\"#fb9f3a\"],[0.8888888888888888,\"#fdca26\"],[1.0,\"#f0f921\"]]}],\"choropleth\":[{\"type\":\"choropleth\",\"colorbar\":{\"outlinewidth\":0,\"ticks\":\"\"}}],\"histogram2d\":[{\"type\":\"histogram2d\",\"colorbar\":{\"outlinewidth\":0,\"ticks\":\"\"},\"colorscale\":[[0.0,\"#0d0887\"],[0.1111111111111111,\"#46039f\"],[0.2222222222222222,\"#7201a8\"],[0.3333333333333333,\"#9c179e\"],[0.4444444444444444,\"#bd3786\"],[0.5555555555555556,\"#d8576b\"],[0.6666666666666666,\"#ed7953\"],[0.7777777777777778,\"#fb9f3a\"],[0.8888888888888888,\"#fdca26\"],[1.0,\"#f0f921\"]]}],\"heatmap\":[{\"type\":\"heatmap\",\"colorbar\":{\"outlinewidth\":0,\"ticks\":\"\"},\"colorscale\":[[0.0,\"#0d0887\"],[0.1111111111111111,\"#46039f\"],[0.2222222222222222,\"#7201a8\"],[0.3333333333333333,\"#9c179e\"],[0.4444444444444444,\"#bd3786\"],[0.5555555555555556,\"#d8576b\"],[0.6666666666666666,\"#ed7953\"],[0.7777777777777778,\"#fb9f3a\"],[0.8888888888888888,\"#fdca26\"],[1.0,\"#f0f921\"]]}],\"heatmapgl\":[{\"type\":\"heatmapgl\",\"colorbar\":{\"outlinewidth\":0,\"ticks\":\"\"},\"colorscale\":[[0.0,\"#0d0887\"],[0.1111111111111111,\"#46039f\"],[0.2222222222222222,\"#7201a8\"],[0.3333333333333333,\"#9c179e\"],[0.4444444444444444,\"#bd3786\"],[0.5555555555555556,\"#d8576b\"],[0.6666666666666666,\"#ed7953\"],[0.7777777777777778,\"#fb9f3a\"],[0.8888888888888888,\"#fdca26\"],[1.0,\"#f0f921\"]]}],\"contourcarpet\":[{\"type\":\"contourcarpet\",\"colorbar\":{\"outlinewidth\":0,\"ticks\":\"\"}}],\"contour\":[{\"type\":\"contour\",\"colorbar\":{\"outlinewidth\":0,\"ticks\":\"\"},\"colorscale\":[[0.0,\"#0d0887\"],[0.1111111111111111,\"#46039f\"],[0.2222222222222222,\"#7201a8\"],[0.3333333333333333,\"#9c179e\"],[0.4444444444444444,\"#bd3786\"],[0.5555555555555556,\"#d8576b\"],[0.6666666666666666,\"#ed7953\"],[0.7777777777777778,\"#fb9f3a\"],[0.8888888888888888,\"#fdca26\"],[1.0,\"#f0f921\"]]}],\"surface\":[{\"type\":\"surface\",\"colorbar\":{\"outlinewidth\":0,\"ticks\":\"\"},\"colorscale\":[[0.0,\"#0d0887\"],[0.1111111111111111,\"#46039f\"],[0.2222222222222222,\"#7201a8\"],[0.3333333333333333,\"#9c179e\"],[0.4444444444444444,\"#bd3786\"],[0.5555555555555556,\"#d8576b\"],[0.6666666666666666,\"#ed7953\"],[0.7777777777777778,\"#fb9f3a\"],[0.8888888888888888,\"#fdca26\"],[1.0,\"#f0f921\"]]}],\"mesh3d\":[{\"type\":\"mesh3d\",\"colorbar\":{\"outlinewidth\":0,\"ticks\":\"\"}}],\"scatter\":[{\"fillpattern\":{\"fillmode\":\"overlay\",\"size\":10,\"solidity\":0.2},\"type\":\"scatter\"}],\"parcoords\":[{\"type\":\"parcoords\",\"line\":{\"colorbar\":{\"outlinewidth\":0,\"ticks\":\"\"}}}],\"scatterpolargl\":[{\"type\":\"scatterpolargl\",\"marker\":{\"colorbar\":{\"outlinewidth\":0,\"ticks\":\"\"}}}],\"bar\":[{\"error_x\":{\"color\":\"#2a3f5f\"},\"error_y\":{\"color\":\"#2a3f5f\"},\"marker\":{\"line\":{\"color\":\"#E5ECF6\",\"width\":0.5},\"pattern\":{\"fillmode\":\"overlay\",\"size\":10,\"solidity\":0.2}},\"type\":\"bar\"}],\"scattergeo\":[{\"type\":\"scattergeo\",\"marker\":{\"colorbar\":{\"outlinewidth\":0,\"ticks\":\"\"}}}],\"scatterpolar\":[{\"type\":\"scatterpolar\",\"marker\":{\"colorbar\":{\"outlinewidth\":0,\"ticks\":\"\"}}}],\"histogram\":[{\"marker\":{\"pattern\":{\"fillmode\":\"overlay\",\"size\":10,\"solidity\":0.2}},\"type\":\"histogram\"}],\"scattergl\":[{\"type\":\"scattergl\",\"marker\":{\"colorbar\":{\"outlinewidth\":0,\"ticks\":\"\"}}}],\"scatter3d\":[{\"type\":\"scatter3d\",\"line\":{\"colorbar\":{\"outlinewidth\":0,\"ticks\":\"\"}},\"marker\":{\"colorbar\":{\"outlinewidth\":0,\"ticks\":\"\"}}}],\"scattermapbox\":[{\"type\":\"scattermapbox\",\"marker\":{\"colorbar\":{\"outlinewidth\":0,\"ticks\":\"\"}}}],\"scatterternary\":[{\"type\":\"scatterternary\",\"marker\":{\"colorbar\":{\"outlinewidth\":0,\"ticks\":\"\"}}}],\"scattercarpet\":[{\"type\":\"scattercarpet\",\"marker\":{\"colorbar\":{\"outlinewidth\":0,\"ticks\":\"\"}}}],\"carpet\":[{\"aaxis\":{\"endlinecolor\":\"#2a3f5f\",\"gridcolor\":\"white\",\"linecolor\":\"white\",\"minorgridcolor\":\"white\",\"startlinecolor\":\"#2a3f5f\"},\"baxis\":{\"endlinecolor\":\"#2a3f5f\",\"gridcolor\":\"white\",\"linecolor\":\"white\",\"minorgridcolor\":\"white\",\"startlinecolor\":\"#2a3f5f\"},\"type\":\"carpet\"}],\"table\":[{\"cells\":{\"fill\":{\"color\":\"#EBF0F8\"},\"line\":{\"color\":\"white\"}},\"header\":{\"fill\":{\"color\":\"#C8D4E3\"},\"line\":{\"color\":\"white\"}},\"type\":\"table\"}],\"barpolar\":[{\"marker\":{\"line\":{\"color\":\"#E5ECF6\",\"width\":0.5},\"pattern\":{\"fillmode\":\"overlay\",\"size\":10,\"solidity\":0.2}},\"type\":\"barpolar\"}],\"pie\":[{\"automargin\":true,\"type\":\"pie\"}]},\"layout\":{\"autotypenumbers\":\"strict\",\"colorway\":[\"#636efa\",\"#EF553B\",\"#00cc96\",\"#ab63fa\",\"#FFA15A\",\"#19d3f3\",\"#FF6692\",\"#B6E880\",\"#FF97FF\",\"#FECB52\"],\"font\":{\"color\":\"#2a3f5f\"},\"hovermode\":\"closest\",\"hoverlabel\":{\"align\":\"left\"},\"paper_bgcolor\":\"white\",\"plot_bgcolor\":\"#E5ECF6\",\"polar\":{\"bgcolor\":\"#E5ECF6\",\"angularaxis\":{\"gridcolor\":\"white\",\"linecolor\":\"white\",\"ticks\":\"\"},\"radialaxis\":{\"gridcolor\":\"white\",\"linecolor\":\"white\",\"ticks\":\"\"}},\"ternary\":{\"bgcolor\":\"#E5ECF6\",\"aaxis\":{\"gridcolor\":\"white\",\"linecolor\":\"white\",\"ticks\":\"\"},\"baxis\":{\"gridcolor\":\"white\",\"linecolor\":\"white\",\"ticks\":\"\"},\"caxis\":{\"gridcolor\":\"white\",\"linecolor\":\"white\",\"ticks\":\"\"}},\"coloraxis\":{\"colorbar\":{\"outlinewidth\":0,\"ticks\":\"\"}},\"colorscale\":{\"sequential\":[[0.0,\"#0d0887\"],[0.1111111111111111,\"#46039f\"],[0.2222222222222222,\"#7201a8\"],[0.3333333333333333,\"#9c179e\"],[0.4444444444444444,\"#bd3786\"],[0.5555555555555556,\"#d8576b\"],[0.6666666666666666,\"#ed7953\"],[0.7777777777777778,\"#fb9f3a\"],[0.8888888888888888,\"#fdca26\"],[1.0,\"#f0f921\"]],\"sequentialminus\":[[0.0,\"#0d0887\"],[0.1111111111111111,\"#46039f\"],[0.2222222222222222,\"#7201a8\"],[0.3333333333333333,\"#9c179e\"],[0.4444444444444444,\"#bd3786\"],[0.5555555555555556,\"#d8576b\"],[0.6666666666666666,\"#ed7953\"],[0.7777777777777778,\"#fb9f3a\"],[0.8888888888888888,\"#fdca26\"],[1.0,\"#f0f921\"]],\"diverging\":[[0,\"#8e0152\"],[0.1,\"#c51b7d\"],[0.2,\"#de77ae\"],[0.3,\"#f1b6da\"],[0.4,\"#fde0ef\"],[0.5,\"#f7f7f7\"],[0.6,\"#e6f5d0\"],[0.7,\"#b8e186\"],[0.8,\"#7fbc41\"],[0.9,\"#4d9221\"],[1,\"#276419\"]]},\"xaxis\":{\"gridcolor\":\"white\",\"linecolor\":\"white\",\"ticks\":\"\",\"title\":{\"standoff\":15},\"zerolinecolor\":\"white\",\"automargin\":true,\"zerolinewidth\":2},\"yaxis\":{\"gridcolor\":\"white\",\"linecolor\":\"white\",\"ticks\":\"\",\"title\":{\"standoff\":15},\"zerolinecolor\":\"white\",\"automargin\":true,\"zerolinewidth\":2},\"scene\":{\"xaxis\":{\"backgroundcolor\":\"#E5ECF6\",\"gridcolor\":\"white\",\"linecolor\":\"white\",\"showbackground\":true,\"ticks\":\"\",\"zerolinecolor\":\"white\",\"gridwidth\":2},\"yaxis\":{\"backgroundcolor\":\"#E5ECF6\",\"gridcolor\":\"white\",\"linecolor\":\"white\",\"showbackground\":true,\"ticks\":\"\",\"zerolinecolor\":\"white\",\"gridwidth\":2},\"zaxis\":{\"backgroundcolor\":\"#E5ECF6\",\"gridcolor\":\"white\",\"linecolor\":\"white\",\"showbackground\":true,\"ticks\":\"\",\"zerolinecolor\":\"white\",\"gridwidth\":2}},\"shapedefaults\":{\"line\":{\"color\":\"#2a3f5f\"}},\"annotationdefaults\":{\"arrowcolor\":\"#2a3f5f\",\"arrowhead\":0,\"arrowwidth\":1},\"geo\":{\"bgcolor\":\"white\",\"landcolor\":\"#E5ECF6\",\"subunitcolor\":\"white\",\"showland\":true,\"showlakes\":true,\"lakecolor\":\"white\"},\"title\":{\"x\":0.05},\"mapbox\":{\"style\":\"light\"}}},\"xaxis\":{\"anchor\":\"y\",\"domain\":[0.0,1.0],\"title\":{\"text\":\"Date\"}},\"yaxis\":{\"anchor\":\"x\",\"domain\":[0.0,1.0],\"title\":{\"text\":\"Close\"}},\"legend\":{\"tracegroupgap\":0},\"margin\":{\"t\":60}},                        {\"responsive\": true}                    ).then(function(){\n",
              "                            \n",
              "var gd = document.getElementById('742a8020-09bb-41e2-a27b-6f89a3980891');\n",
              "var x = new MutationObserver(function (mutations, observer) {{\n",
              "        var display = window.getComputedStyle(gd).display;\n",
              "        if (!display || display === 'none') {{\n",
              "            console.log([gd, 'removed!']);\n",
              "            Plotly.purge(gd);\n",
              "            observer.disconnect();\n",
              "        }}\n",
              "}});\n",
              "\n",
              "// Listen for the removal of the full notebook cells\n",
              "var notebookContainer = gd.closest('#notebook-container');\n",
              "if (notebookContainer) {{\n",
              "    x.observe(notebookContainer, {childList: true});\n",
              "}}\n",
              "\n",
              "// Listen for the clearing of the current output cell\n",
              "var outputEl = gd.closest('.output');\n",
              "if (outputEl) {{\n",
              "    x.observe(outputEl, {childList: true});\n",
              "}}\n",
              "\n",
              "                        })                };                            </script>        </div>\n",
              "</body>\n",
              "</html>"
            ]
          },
          "metadata": {}
        }
      ],
      "source": [
        "# We choose Close Price because it has the most accurate representation\n",
        "px.area(df,x=\"Date\",y=\"Close\")"
      ]
    },
    {
      "cell_type": "code",
      "execution_count": 12,
      "metadata": {
        "id": "CE08zJhPQoSb",
        "colab": {
          "base_uri": "https://localhost:8080/",
          "height": 542
        },
        "outputId": "731feb55-8e9d-45be-820a-60cb0e012e2f"
      },
      "outputs": [
        {
          "output_type": "display_data",
          "data": {
            "text/html": [
              "<html>\n",
              "<head><meta charset=\"utf-8\" /></head>\n",
              "<body>\n",
              "    <div>            <script src=\"https://cdnjs.cloudflare.com/ajax/libs/mathjax/2.7.5/MathJax.js?config=TeX-AMS-MML_SVG\"></script><script type=\"text/javascript\">if (window.MathJax && window.MathJax.Hub && window.MathJax.Hub.Config) {window.MathJax.Hub.Config({SVG: {font: \"STIX-Web\"}});}</script>                <script type=\"text/javascript\">window.PlotlyConfig = {MathJaxConfig: 'local'};</script>\n",
              "        <script src=\"https://cdn.plot.ly/plotly-2.18.2.min.js\"></script>                <div id=\"407205e9-75f5-4ff9-b74d-be6922c97027\" class=\"plotly-graph-div\" style=\"height:525px; width:100%;\"></div>            <script type=\"text/javascript\">                                    window.PLOTLYENV=window.PLOTLYENV || {};                                    if (document.getElementById(\"407205e9-75f5-4ff9-b74d-be6922c97027\")) {                    Plotly.newPlot(                        \"407205e9-75f5-4ff9-b74d-be6922c97027\",                        [{\"hovertemplate\":\"Date=%{x}<br>Close=%{y}<extra></extra>\",\"legendgroup\":\"\",\"line\":{\"color\":\"#636efa\",\"dash\":\"solid\"},\"marker\":{\"symbol\":\"circle\"},\"mode\":\"lines\",\"name\":\"\",\"orientation\":\"v\",\"showlegend\":false,\"x\":[\"2022-06-10\",\"2022-06-13\",\"2022-06-14\",\"2022-06-15\",\"2022-06-16\",\"2022-06-17\",\"2022-06-21\",\"2022-06-22\",\"2022-06-23\",\"2022-06-24\",\"2022-06-27\",\"2022-06-28\",\"2022-06-29\",\"2022-06-30\",\"2022-07-01\",\"2022-07-05\",\"2022-07-06\",\"2022-07-07\",\"2022-07-08\",\"2022-07-11\",\"2022-07-12\",\"2022-07-13\",\"2022-07-14\",\"2022-07-15\",\"2022-07-18\",\"2022-07-19\",\"2022-07-20\",\"2022-07-21\",\"2022-07-22\",\"2022-07-25\",\"2022-07-26\",\"2022-07-27\",\"2022-07-28\",\"2022-07-29\",\"2022-08-01\",\"2022-08-02\",\"2022-08-03\",\"2022-08-04\",\"2022-08-05\",\"2022-08-08\",\"2022-08-09\",\"2022-08-10\",\"2022-08-11\",\"2022-08-12\",\"2022-08-15\",\"2022-08-16\",\"2022-08-17\",\"2022-08-18\",\"2022-08-19\",\"2022-08-22\",\"2022-08-23\",\"2022-08-24\",\"2022-08-25\",\"2022-08-26\",\"2022-08-29\",\"2022-08-30\",\"2022-08-31\",\"2022-09-01\",\"2022-09-02\",\"2022-09-06\",\"2022-09-07\",\"2022-09-08\",\"2022-09-09\",\"2022-09-12\",\"2022-09-13\",\"2022-09-14\",\"2022-09-15\",\"2022-09-16\",\"2022-09-19\",\"2022-09-20\",\"2022-09-21\",\"2022-09-22\",\"2022-09-23\",\"2022-09-26\",\"2022-09-27\",\"2022-09-28\",\"2022-09-29\",\"2022-09-30\",\"2022-10-03\",\"2022-10-04\",\"2022-10-05\",\"2022-10-06\",\"2022-10-07\",\"2022-10-10\",\"2022-10-11\",\"2022-10-12\",\"2022-10-13\",\"2022-10-14\",\"2022-10-17\",\"2022-10-18\",\"2022-10-19\",\"2022-10-20\",\"2022-10-21\",\"2022-10-24\",\"2022-10-25\",\"2022-10-26\",\"2022-10-27\",\"2022-10-28\",\"2022-10-31\",\"2022-11-01\",\"2022-11-02\",\"2022-11-03\",\"2022-11-04\",\"2022-11-07\",\"2022-11-08\",\"2022-11-09\",\"2022-11-10\",\"2022-11-11\",\"2022-11-14\",\"2022-11-15\",\"2022-11-16\",\"2022-11-17\",\"2022-11-18\",\"2022-11-21\",\"2022-11-22\",\"2022-11-23\",\"2022-11-25\",\"2022-11-28\",\"2022-11-29\",\"2022-11-30\",\"2022-12-01\",\"2022-12-02\",\"2022-12-05\",\"2022-12-06\",\"2022-12-07\",\"2022-12-08\",\"2022-12-09\",\"2022-12-12\",\"2022-12-13\",\"2022-12-14\",\"2022-12-15\",\"2022-12-16\",\"2022-12-19\",\"2022-12-20\",\"2022-12-21\",\"2022-12-22\",\"2022-12-23\",\"2022-12-27\",\"2022-12-28\",\"2022-12-29\",\"2022-12-30\",\"2023-01-03\",\"2023-01-04\",\"2023-01-05\",\"2023-01-06\",\"2023-01-09\",\"2023-01-10\",\"2023-01-11\",\"2023-01-12\",\"2023-01-13\",\"2023-01-17\",\"2023-01-18\",\"2023-01-19\",\"2023-01-20\",\"2023-01-23\",\"2023-01-24\",\"2023-01-25\",\"2023-01-26\",\"2023-01-27\",\"2023-01-30\",\"2023-01-31\",\"2023-02-01\",\"2023-02-02\",\"2023-02-03\",\"2023-02-06\",\"2023-02-07\",\"2023-02-08\",\"2023-02-09\",\"2023-02-10\",\"2023-02-13\",\"2023-02-14\",\"2023-02-15\",\"2023-02-16\",\"2023-02-17\",\"2023-02-21\",\"2023-02-22\",\"2023-02-23\",\"2023-02-24\",\"2023-02-27\",\"2023-02-28\",\"2023-03-01\",\"2023-03-02\",\"2023-03-03\",\"2023-03-06\",\"2023-03-07\",\"2023-03-08\",\"2023-03-09\",\"2023-03-10\",\"2023-03-13\",\"2023-03-14\",\"2023-03-15\",\"2023-03-16\",\"2023-03-17\",\"2023-03-20\",\"2023-03-21\",\"2023-03-22\",\"2023-03-23\",\"2023-03-24\",\"2023-03-27\",\"2023-03-28\",\"2023-03-29\",\"2023-03-30\",\"2023-03-31\",\"2023-04-03\",\"2023-04-04\",\"2023-04-05\",\"2023-04-06\",\"2023-04-10\",\"2023-04-11\",\"2023-04-12\",\"2023-04-13\",\"2023-04-14\",\"2023-04-17\",\"2023-04-18\",\"2023-04-19\",\"2023-04-20\",\"2023-04-21\",\"2023-04-24\",\"2023-04-25\",\"2023-04-26\",\"2023-04-27\",\"2023-04-28\",\"2023-05-01\",\"2023-05-02\",\"2023-05-03\",\"2023-05-04\",\"2023-05-05\",\"2023-05-08\",\"2023-05-09\",\"2023-05-10\",\"2023-05-11\",\"2023-05-12\",\"2023-05-15\",\"2023-05-16\",\"2023-05-17\",\"2023-05-18\",\"2023-05-19\",\"2023-05-22\",\"2023-05-23\",\"2023-05-24\",\"2023-05-25\",\"2023-05-26\",\"2023-05-30\",\"2023-05-31\",\"2023-06-01\",\"2023-06-02\",\"2023-06-05\",\"2023-06-06\",\"2023-06-07\",\"2023-06-08\",\"2023-06-09\"],\"xaxis\":\"x\",\"y\":[182.940002,169.690002,167.539993,180.110001,173.350006,175.509995,170.910004,178.889999,181.710007,190.850006,189.139999,179.600006,178.360001,174.869995,179.949997,185.880005,184.059998,189.270004,186.979996,177.339996,174.449997,176.559998,174.779999,189.110001,190.919998,201.630005,216.440002,223.880005,220.440002,218.509995,213.910004,226.75,226.020004,224.899994,226.210007,221.419998,226.729996,229.910004,226.779999,233.490005,229.940002,244.110001,242.699997,249.300003,249.110001,245.690002,241.149994,245.169998,241.160004,226.539993,224.550003,229.610001,233.979996,223.279999,224.570007,220.649994,223.559998,230.039993,226.110001,218.389999,228.960007,227.440002,233.570007,236.529999,218.130005,224.119995,235.380005,240.130005,243.630005,242.850006,236.869995,237.050003,226.410004,224.070007,224.360001,245.199997,239.710007,235.440002,239.039993,240.740005,236.729996,240.020004,224.75,229.979996,214.289993,220.869995,232.509995,230.0,245.100006,240.860001,272.380005,268.160004,289.570007,282.450012,291.019989,298.619995,296.940002,295.720001,291.880005,286.75,273.0,269.059998,260.790009,258.600006,263.459991,254.660004,274.970001,290.130005,299.269989,310.200012,306.019989,295.279999,287.980011,285.049988,286.690002,291.5,285.540009,281.170013,280.959991,305.529999,316.950012,320.410004,312.589996,305.559998,308.420013,310.26001,320.01001,315.179993,320.339996,317.829987,290.410004,290.709991,288.299988,288.190002,297.959991,297.75,294.959991,284.170013,276.880005,291.119995,294.880005,294.950012,309.410004,309.700012,315.549988,315.170013,327.540009,327.26001,330.130005,332.820007,326.220001,326.329987,315.779999,342.5,357.420013,363.829987,367.959991,364.869995,360.769989,353.109985,353.859985,361.98999,366.890015,365.899994,361.480011,362.950012,366.829987,362.5,347.359985,358.570007,359.959991,361.420013,350.709991,347.959991,337.5,334.880005,323.649994,317.149994,323.029999,322.130005,313.480011,311.880005,315.179993,312.029999,308.470001,311.790009,297.779999,292.76001,293.51001,294.940002,303.790009,310.059998,303.5,305.130005,305.790009,293.899994,320.369995,328.390015,327.660004,323.519989,332.029999,338.429993,345.480011,348.279999,346.75,342.350006,339.329987,338.98999,338.209991,331.029999,346.190002,338.630005,332.720001,333.700012,323.119995,325.350006,327.980011,329.019989,322.549988,321.149994,325.850006,329.929993,324.119995,317.549988,319.299988,320.779999,322.76001,331.209991,332.140015,335.420013,344.76001,339.890015,335.890015,333.75,339.959991,371.290009,365.359985,363.01001,355.98999,364.850006,359.0,378.880005,392.980011,395.230011,403.130005,400.470001,403.540009,399.290009,399.769989,409.369995,420.019989],\"yaxis\":\"y\",\"type\":\"scatter\"}],                        {\"template\":{\"data\":{\"histogram2dcontour\":[{\"type\":\"histogram2dcontour\",\"colorbar\":{\"outlinewidth\":0,\"ticks\":\"\"},\"colorscale\":[[0.0,\"#0d0887\"],[0.1111111111111111,\"#46039f\"],[0.2222222222222222,\"#7201a8\"],[0.3333333333333333,\"#9c179e\"],[0.4444444444444444,\"#bd3786\"],[0.5555555555555556,\"#d8576b\"],[0.6666666666666666,\"#ed7953\"],[0.7777777777777778,\"#fb9f3a\"],[0.8888888888888888,\"#fdca26\"],[1.0,\"#f0f921\"]]}],\"choropleth\":[{\"type\":\"choropleth\",\"colorbar\":{\"outlinewidth\":0,\"ticks\":\"\"}}],\"histogram2d\":[{\"type\":\"histogram2d\",\"colorbar\":{\"outlinewidth\":0,\"ticks\":\"\"},\"colorscale\":[[0.0,\"#0d0887\"],[0.1111111111111111,\"#46039f\"],[0.2222222222222222,\"#7201a8\"],[0.3333333333333333,\"#9c179e\"],[0.4444444444444444,\"#bd3786\"],[0.5555555555555556,\"#d8576b\"],[0.6666666666666666,\"#ed7953\"],[0.7777777777777778,\"#fb9f3a\"],[0.8888888888888888,\"#fdca26\"],[1.0,\"#f0f921\"]]}],\"heatmap\":[{\"type\":\"heatmap\",\"colorbar\":{\"outlinewidth\":0,\"ticks\":\"\"},\"colorscale\":[[0.0,\"#0d0887\"],[0.1111111111111111,\"#46039f\"],[0.2222222222222222,\"#7201a8\"],[0.3333333333333333,\"#9c179e\"],[0.4444444444444444,\"#bd3786\"],[0.5555555555555556,\"#d8576b\"],[0.6666666666666666,\"#ed7953\"],[0.7777777777777778,\"#fb9f3a\"],[0.8888888888888888,\"#fdca26\"],[1.0,\"#f0f921\"]]}],\"heatmapgl\":[{\"type\":\"heatmapgl\",\"colorbar\":{\"outlinewidth\":0,\"ticks\":\"\"},\"colorscale\":[[0.0,\"#0d0887\"],[0.1111111111111111,\"#46039f\"],[0.2222222222222222,\"#7201a8\"],[0.3333333333333333,\"#9c179e\"],[0.4444444444444444,\"#bd3786\"],[0.5555555555555556,\"#d8576b\"],[0.6666666666666666,\"#ed7953\"],[0.7777777777777778,\"#fb9f3a\"],[0.8888888888888888,\"#fdca26\"],[1.0,\"#f0f921\"]]}],\"contourcarpet\":[{\"type\":\"contourcarpet\",\"colorbar\":{\"outlinewidth\":0,\"ticks\":\"\"}}],\"contour\":[{\"type\":\"contour\",\"colorbar\":{\"outlinewidth\":0,\"ticks\":\"\"},\"colorscale\":[[0.0,\"#0d0887\"],[0.1111111111111111,\"#46039f\"],[0.2222222222222222,\"#7201a8\"],[0.3333333333333333,\"#9c179e\"],[0.4444444444444444,\"#bd3786\"],[0.5555555555555556,\"#d8576b\"],[0.6666666666666666,\"#ed7953\"],[0.7777777777777778,\"#fb9f3a\"],[0.8888888888888888,\"#fdca26\"],[1.0,\"#f0f921\"]]}],\"surface\":[{\"type\":\"surface\",\"colorbar\":{\"outlinewidth\":0,\"ticks\":\"\"},\"colorscale\":[[0.0,\"#0d0887\"],[0.1111111111111111,\"#46039f\"],[0.2222222222222222,\"#7201a8\"],[0.3333333333333333,\"#9c179e\"],[0.4444444444444444,\"#bd3786\"],[0.5555555555555556,\"#d8576b\"],[0.6666666666666666,\"#ed7953\"],[0.7777777777777778,\"#fb9f3a\"],[0.8888888888888888,\"#fdca26\"],[1.0,\"#f0f921\"]]}],\"mesh3d\":[{\"type\":\"mesh3d\",\"colorbar\":{\"outlinewidth\":0,\"ticks\":\"\"}}],\"scatter\":[{\"fillpattern\":{\"fillmode\":\"overlay\",\"size\":10,\"solidity\":0.2},\"type\":\"scatter\"}],\"parcoords\":[{\"type\":\"parcoords\",\"line\":{\"colorbar\":{\"outlinewidth\":0,\"ticks\":\"\"}}}],\"scatterpolargl\":[{\"type\":\"scatterpolargl\",\"marker\":{\"colorbar\":{\"outlinewidth\":0,\"ticks\":\"\"}}}],\"bar\":[{\"error_x\":{\"color\":\"#2a3f5f\"},\"error_y\":{\"color\":\"#2a3f5f\"},\"marker\":{\"line\":{\"color\":\"#E5ECF6\",\"width\":0.5},\"pattern\":{\"fillmode\":\"overlay\",\"size\":10,\"solidity\":0.2}},\"type\":\"bar\"}],\"scattergeo\":[{\"type\":\"scattergeo\",\"marker\":{\"colorbar\":{\"outlinewidth\":0,\"ticks\":\"\"}}}],\"scatterpolar\":[{\"type\":\"scatterpolar\",\"marker\":{\"colorbar\":{\"outlinewidth\":0,\"ticks\":\"\"}}}],\"histogram\":[{\"marker\":{\"pattern\":{\"fillmode\":\"overlay\",\"size\":10,\"solidity\":0.2}},\"type\":\"histogram\"}],\"scattergl\":[{\"type\":\"scattergl\",\"marker\":{\"colorbar\":{\"outlinewidth\":0,\"ticks\":\"\"}}}],\"scatter3d\":[{\"type\":\"scatter3d\",\"line\":{\"colorbar\":{\"outlinewidth\":0,\"ticks\":\"\"}},\"marker\":{\"colorbar\":{\"outlinewidth\":0,\"ticks\":\"\"}}}],\"scattermapbox\":[{\"type\":\"scattermapbox\",\"marker\":{\"colorbar\":{\"outlinewidth\":0,\"ticks\":\"\"}}}],\"scatterternary\":[{\"type\":\"scatterternary\",\"marker\":{\"colorbar\":{\"outlinewidth\":0,\"ticks\":\"\"}}}],\"scattercarpet\":[{\"type\":\"scattercarpet\",\"marker\":{\"colorbar\":{\"outlinewidth\":0,\"ticks\":\"\"}}}],\"carpet\":[{\"aaxis\":{\"endlinecolor\":\"#2a3f5f\",\"gridcolor\":\"white\",\"linecolor\":\"white\",\"minorgridcolor\":\"white\",\"startlinecolor\":\"#2a3f5f\"},\"baxis\":{\"endlinecolor\":\"#2a3f5f\",\"gridcolor\":\"white\",\"linecolor\":\"white\",\"minorgridcolor\":\"white\",\"startlinecolor\":\"#2a3f5f\"},\"type\":\"carpet\"}],\"table\":[{\"cells\":{\"fill\":{\"color\":\"#EBF0F8\"},\"line\":{\"color\":\"white\"}},\"header\":{\"fill\":{\"color\":\"#C8D4E3\"},\"line\":{\"color\":\"white\"}},\"type\":\"table\"}],\"barpolar\":[{\"marker\":{\"line\":{\"color\":\"#E5ECF6\",\"width\":0.5},\"pattern\":{\"fillmode\":\"overlay\",\"size\":10,\"solidity\":0.2}},\"type\":\"barpolar\"}],\"pie\":[{\"automargin\":true,\"type\":\"pie\"}]},\"layout\":{\"autotypenumbers\":\"strict\",\"colorway\":[\"#636efa\",\"#EF553B\",\"#00cc96\",\"#ab63fa\",\"#FFA15A\",\"#19d3f3\",\"#FF6692\",\"#B6E880\",\"#FF97FF\",\"#FECB52\"],\"font\":{\"color\":\"#2a3f5f\"},\"hovermode\":\"closest\",\"hoverlabel\":{\"align\":\"left\"},\"paper_bgcolor\":\"white\",\"plot_bgcolor\":\"#E5ECF6\",\"polar\":{\"bgcolor\":\"#E5ECF6\",\"angularaxis\":{\"gridcolor\":\"white\",\"linecolor\":\"white\",\"ticks\":\"\"},\"radialaxis\":{\"gridcolor\":\"white\",\"linecolor\":\"white\",\"ticks\":\"\"}},\"ternary\":{\"bgcolor\":\"#E5ECF6\",\"aaxis\":{\"gridcolor\":\"white\",\"linecolor\":\"white\",\"ticks\":\"\"},\"baxis\":{\"gridcolor\":\"white\",\"linecolor\":\"white\",\"ticks\":\"\"},\"caxis\":{\"gridcolor\":\"white\",\"linecolor\":\"white\",\"ticks\":\"\"}},\"coloraxis\":{\"colorbar\":{\"outlinewidth\":0,\"ticks\":\"\"}},\"colorscale\":{\"sequential\":[[0.0,\"#0d0887\"],[0.1111111111111111,\"#46039f\"],[0.2222222222222222,\"#7201a8\"],[0.3333333333333333,\"#9c179e\"],[0.4444444444444444,\"#bd3786\"],[0.5555555555555556,\"#d8576b\"],[0.6666666666666666,\"#ed7953\"],[0.7777777777777778,\"#fb9f3a\"],[0.8888888888888888,\"#fdca26\"],[1.0,\"#f0f921\"]],\"sequentialminus\":[[0.0,\"#0d0887\"],[0.1111111111111111,\"#46039f\"],[0.2222222222222222,\"#7201a8\"],[0.3333333333333333,\"#9c179e\"],[0.4444444444444444,\"#bd3786\"],[0.5555555555555556,\"#d8576b\"],[0.6666666666666666,\"#ed7953\"],[0.7777777777777778,\"#fb9f3a\"],[0.8888888888888888,\"#fdca26\"],[1.0,\"#f0f921\"]],\"diverging\":[[0,\"#8e0152\"],[0.1,\"#c51b7d\"],[0.2,\"#de77ae\"],[0.3,\"#f1b6da\"],[0.4,\"#fde0ef\"],[0.5,\"#f7f7f7\"],[0.6,\"#e6f5d0\"],[0.7,\"#b8e186\"],[0.8,\"#7fbc41\"],[0.9,\"#4d9221\"],[1,\"#276419\"]]},\"xaxis\":{\"gridcolor\":\"white\",\"linecolor\":\"white\",\"ticks\":\"\",\"title\":{\"standoff\":15},\"zerolinecolor\":\"white\",\"automargin\":true,\"zerolinewidth\":2},\"yaxis\":{\"gridcolor\":\"white\",\"linecolor\":\"white\",\"ticks\":\"\",\"title\":{\"standoff\":15},\"zerolinecolor\":\"white\",\"automargin\":true,\"zerolinewidth\":2},\"scene\":{\"xaxis\":{\"backgroundcolor\":\"#E5ECF6\",\"gridcolor\":\"white\",\"linecolor\":\"white\",\"showbackground\":true,\"ticks\":\"\",\"zerolinecolor\":\"white\",\"gridwidth\":2},\"yaxis\":{\"backgroundcolor\":\"#E5ECF6\",\"gridcolor\":\"white\",\"linecolor\":\"white\",\"showbackground\":true,\"ticks\":\"\",\"zerolinecolor\":\"white\",\"gridwidth\":2},\"zaxis\":{\"backgroundcolor\":\"#E5ECF6\",\"gridcolor\":\"white\",\"linecolor\":\"white\",\"showbackground\":true,\"ticks\":\"\",\"zerolinecolor\":\"white\",\"gridwidth\":2}},\"shapedefaults\":{\"line\":{\"color\":\"#2a3f5f\"}},\"annotationdefaults\":{\"arrowcolor\":\"#2a3f5f\",\"arrowhead\":0,\"arrowwidth\":1},\"geo\":{\"bgcolor\":\"white\",\"landcolor\":\"#E5ECF6\",\"subunitcolor\":\"white\",\"showland\":true,\"showlakes\":true,\"lakecolor\":\"white\"},\"title\":{\"x\":0.05},\"mapbox\":{\"style\":\"light\"}}},\"xaxis\":{\"anchor\":\"y\",\"domain\":[0.0,1.0],\"title\":{\"text\":\"Date\"}},\"yaxis\":{\"anchor\":\"x\",\"domain\":[0.0,1.0],\"title\":{\"text\":\"Close\"}},\"legend\":{\"tracegroupgap\":0},\"margin\":{\"t\":60}},                        {\"responsive\": true}                    ).then(function(){\n",
              "                            \n",
              "var gd = document.getElementById('407205e9-75f5-4ff9-b74d-be6922c97027');\n",
              "var x = new MutationObserver(function (mutations, observer) {{\n",
              "        var display = window.getComputedStyle(gd).display;\n",
              "        if (!display || display === 'none') {{\n",
              "            console.log([gd, 'removed!']);\n",
              "            Plotly.purge(gd);\n",
              "            observer.disconnect();\n",
              "        }}\n",
              "}});\n",
              "\n",
              "// Listen for the removal of the full notebook cells\n",
              "var notebookContainer = gd.closest('#notebook-container');\n",
              "if (notebookContainer) {{\n",
              "    x.observe(notebookContainer, {childList: true});\n",
              "}}\n",
              "\n",
              "// Listen for the clearing of the current output cell\n",
              "var outputEl = gd.closest('.output');\n",
              "if (outputEl) {{\n",
              "    x.observe(outputEl, {childList: true});\n",
              "}}\n",
              "\n",
              "                        })                };                            </script>        </div>\n",
              "</body>\n",
              "</html>"
            ]
          },
          "metadata": {}
        }
      ],
      "source": [
        "# same as above except that now we want to see a line graph instead of the area\n",
        "px.line(df,x=\"Date\",y=\"Close\")"
      ]
    },
    {
      "cell_type": "code",
      "execution_count": 13,
      "metadata": {
        "id": "Wr0QEYDM9AyV",
        "colab": {
          "base_uri": "https://localhost:8080/",
          "height": 542
        },
        "outputId": "31464cde-e127-4f1b-9b1f-f2cb831ee36a"
      },
      "outputs": [
        {
          "output_type": "display_data",
          "data": {
            "text/html": [
              "<html>\n",
              "<head><meta charset=\"utf-8\" /></head>\n",
              "<body>\n",
              "    <div>            <script src=\"https://cdnjs.cloudflare.com/ajax/libs/mathjax/2.7.5/MathJax.js?config=TeX-AMS-MML_SVG\"></script><script type=\"text/javascript\">if (window.MathJax && window.MathJax.Hub && window.MathJax.Hub.Config) {window.MathJax.Hub.Config({SVG: {font: \"STIX-Web\"}});}</script>                <script type=\"text/javascript\">window.PlotlyConfig = {MathJaxConfig: 'local'};</script>\n",
              "        <script src=\"https://cdn.plot.ly/plotly-2.18.2.min.js\"></script>                <div id=\"8d8f590a-efe4-4b2f-8684-06c597b4d354\" class=\"plotly-graph-div\" style=\"height:525px; width:100%;\"></div>            <script type=\"text/javascript\">                                    window.PLOTLYENV=window.PLOTLYENV || {};                                    if (document.getElementById(\"8d8f590a-efe4-4b2f-8684-06c597b4d354\")) {                    Plotly.newPlot(                        \"8d8f590a-efe4-4b2f-8684-06c597b4d354\",                        [{\"fillpattern\":{\"shape\":\"\"},\"hovertemplate\":\"Date=%{x}<br>Volume=%{y}<extra></extra>\",\"legendgroup\":\"\",\"line\":{\"color\":\"#636efa\"},\"marker\":{\"symbol\":\"circle\"},\"mode\":\"lines\",\"name\":\"\",\"orientation\":\"v\",\"showlegend\":false,\"stackgroup\":\"1\",\"x\":[\"2022-06-10\",\"2022-06-13\",\"2022-06-14\",\"2022-06-15\",\"2022-06-16\",\"2022-06-17\",\"2022-06-21\",\"2022-06-22\",\"2022-06-23\",\"2022-06-24\",\"2022-06-27\",\"2022-06-28\",\"2022-06-29\",\"2022-06-30\",\"2022-07-01\",\"2022-07-05\",\"2022-07-06\",\"2022-07-07\",\"2022-07-08\",\"2022-07-11\",\"2022-07-12\",\"2022-07-13\",\"2022-07-14\",\"2022-07-15\",\"2022-07-18\",\"2022-07-19\",\"2022-07-20\",\"2022-07-21\",\"2022-07-22\",\"2022-07-25\",\"2022-07-26\",\"2022-07-27\",\"2022-07-28\",\"2022-07-29\",\"2022-08-01\",\"2022-08-02\",\"2022-08-03\",\"2022-08-04\",\"2022-08-05\",\"2022-08-08\",\"2022-08-09\",\"2022-08-10\",\"2022-08-11\",\"2022-08-12\",\"2022-08-15\",\"2022-08-16\",\"2022-08-17\",\"2022-08-18\",\"2022-08-19\",\"2022-08-22\",\"2022-08-23\",\"2022-08-24\",\"2022-08-25\",\"2022-08-26\",\"2022-08-29\",\"2022-08-30\",\"2022-08-31\",\"2022-09-01\",\"2022-09-02\",\"2022-09-06\",\"2022-09-07\",\"2022-09-08\",\"2022-09-09\",\"2022-09-12\",\"2022-09-13\",\"2022-09-14\",\"2022-09-15\",\"2022-09-16\",\"2022-09-19\",\"2022-09-20\",\"2022-09-21\",\"2022-09-22\",\"2022-09-23\",\"2022-09-26\",\"2022-09-27\",\"2022-09-28\",\"2022-09-29\",\"2022-09-30\",\"2022-10-03\",\"2022-10-04\",\"2022-10-05\",\"2022-10-06\",\"2022-10-07\",\"2022-10-10\",\"2022-10-11\",\"2022-10-12\",\"2022-10-13\",\"2022-10-14\",\"2022-10-17\",\"2022-10-18\",\"2022-10-19\",\"2022-10-20\",\"2022-10-21\",\"2022-10-24\",\"2022-10-25\",\"2022-10-26\",\"2022-10-27\",\"2022-10-28\",\"2022-10-31\",\"2022-11-01\",\"2022-11-02\",\"2022-11-03\",\"2022-11-04\",\"2022-11-07\",\"2022-11-08\",\"2022-11-09\",\"2022-11-10\",\"2022-11-11\",\"2022-11-14\",\"2022-11-15\",\"2022-11-16\",\"2022-11-17\",\"2022-11-18\",\"2022-11-21\",\"2022-11-22\",\"2022-11-23\",\"2022-11-25\",\"2022-11-28\",\"2022-11-29\",\"2022-11-30\",\"2022-12-01\",\"2022-12-02\",\"2022-12-05\",\"2022-12-06\",\"2022-12-07\",\"2022-12-08\",\"2022-12-09\",\"2022-12-12\",\"2022-12-13\",\"2022-12-14\",\"2022-12-15\",\"2022-12-16\",\"2022-12-19\",\"2022-12-20\",\"2022-12-21\",\"2022-12-22\",\"2022-12-23\",\"2022-12-27\",\"2022-12-28\",\"2022-12-29\",\"2022-12-30\",\"2023-01-03\",\"2023-01-04\",\"2023-01-05\",\"2023-01-06\",\"2023-01-09\",\"2023-01-10\",\"2023-01-11\",\"2023-01-12\",\"2023-01-13\",\"2023-01-17\",\"2023-01-18\",\"2023-01-19\",\"2023-01-20\",\"2023-01-23\",\"2023-01-24\",\"2023-01-25\",\"2023-01-26\",\"2023-01-27\",\"2023-01-30\",\"2023-01-31\",\"2023-02-01\",\"2023-02-02\",\"2023-02-03\",\"2023-02-06\",\"2023-02-07\",\"2023-02-08\",\"2023-02-09\",\"2023-02-10\",\"2023-02-13\",\"2023-02-14\",\"2023-02-15\",\"2023-02-16\",\"2023-02-17\",\"2023-02-21\",\"2023-02-22\",\"2023-02-23\",\"2023-02-24\",\"2023-02-27\",\"2023-02-28\",\"2023-03-01\",\"2023-03-02\",\"2023-03-03\",\"2023-03-06\",\"2023-03-07\",\"2023-03-08\",\"2023-03-09\",\"2023-03-10\",\"2023-03-13\",\"2023-03-14\",\"2023-03-15\",\"2023-03-16\",\"2023-03-17\",\"2023-03-20\",\"2023-03-21\",\"2023-03-22\",\"2023-03-23\",\"2023-03-24\",\"2023-03-27\",\"2023-03-28\",\"2023-03-29\",\"2023-03-30\",\"2023-03-31\",\"2023-04-03\",\"2023-04-04\",\"2023-04-05\",\"2023-04-06\",\"2023-04-10\",\"2023-04-11\",\"2023-04-12\",\"2023-04-13\",\"2023-04-14\",\"2023-04-17\",\"2023-04-18\",\"2023-04-19\",\"2023-04-20\",\"2023-04-21\",\"2023-04-24\",\"2023-04-25\",\"2023-04-26\",\"2023-04-27\",\"2023-04-28\",\"2023-05-01\",\"2023-05-02\",\"2023-05-03\",\"2023-05-04\",\"2023-05-05\",\"2023-05-08\",\"2023-05-09\",\"2023-05-10\",\"2023-05-11\",\"2023-05-12\",\"2023-05-15\",\"2023-05-16\",\"2023-05-17\",\"2023-05-18\",\"2023-05-19\",\"2023-05-22\",\"2023-05-23\",\"2023-05-24\",\"2023-05-25\",\"2023-05-26\",\"2023-05-30\",\"2023-05-31\",\"2023-06-01\",\"2023-06-02\",\"2023-06-05\",\"2023-06-06\",\"2023-06-07\",\"2023-06-08\",\"2023-06-09\"],\"xaxis\":\"x\",\"y\":[13065600,10222400,11555300,12396000,8201300,12133400,12177600,11992400,9538200,12424000,8363900,7185400,5766800,7894700,5201600,7334300,5753400,6334500,5835700,6038800,6845300,12734400,9039500,16319100,16322800,28178700,53920300,23430100,17805500,10935200,9508500,10508400,8972700,9064900,5525000,6361300,6400700,7142700,5539700,10982100,6181200,9254800,8780100,6098500,6527400,5136800,5627200,5280400,7504700,8630100,5276900,5426300,3766900,5349800,7109400,5740400,8615900,7292900,8164900,7469000,8149300,6737400,6699600,6047400,8000100,8230300,19454100,18914200,17912400,16037400,9166800,10018000,11207200,8234300,7762200,17579700,18994900,11848600,8657400,13925900,10825600,9188900,9806100,9991100,15282400,12952600,17505000,15293400,21057800,25776700,46685300,17207100,24889100,13326400,15100700,15714100,14612600,9960500,7505100,6916400,10367600,7057400,11124700,7927000,7683800,7266000,9667300,9573800,17978200,14626900,8038600,9838200,8400100,7256500,6245100,5919000,3236000,4703400,5786900,16070100,14664900,12690600,8423000,7195400,7821600,7205300,14364000,10148600,10756400,7543300,17724600,14080000,6163700,6918100,6376200,7856200,4251100,5778100,5964400,9588500,7566900,6764000,9345100,8328400,8959800,6766600,13072300,9579700,10856200,8286800,9247000,7814100,18008200,28430300,15646900,11796500,7766900,8256800,6703500,5127600,5660700,8005200,7857000,9402000,4994900,6289400,6253200,6901100,7291100,7134400,4624800,3966000,5215700,5294700,5710300,4546200,13238700,6830700,6142600,3676100,4911300,4911000,5953300,5660700,4553100,3479500,7443400,5759300,6292400,5956700,9215300,7903700,6918800,5113400,4886300,5808000,15653300,12991700,8625800,6489400,6287300,7131500,5610200,4413700,3298100,4205500,4660500,2657900,4044800,3965400,7406400,5350500,6136000,17944500,22128300,9947800,6348000,5586600,5426600,4623200,5618800,4221900,5341500,4318600,5064100,3879700,3988600,5488600,5544900,4289900,8033500,6079900,3653000,3332200,3958800,20925200,7850900,5406400,6866100,7973300,6263100,9360400,10865000,6988000,7160100,5897300,7247400,4991500,11932400,5991100,12363000],\"yaxis\":\"y\",\"type\":\"scatter\"}],                        {\"template\":{\"data\":{\"histogram2dcontour\":[{\"type\":\"histogram2dcontour\",\"colorbar\":{\"outlinewidth\":0,\"ticks\":\"\"},\"colorscale\":[[0.0,\"#0d0887\"],[0.1111111111111111,\"#46039f\"],[0.2222222222222222,\"#7201a8\"],[0.3333333333333333,\"#9c179e\"],[0.4444444444444444,\"#bd3786\"],[0.5555555555555556,\"#d8576b\"],[0.6666666666666666,\"#ed7953\"],[0.7777777777777778,\"#fb9f3a\"],[0.8888888888888888,\"#fdca26\"],[1.0,\"#f0f921\"]]}],\"choropleth\":[{\"type\":\"choropleth\",\"colorbar\":{\"outlinewidth\":0,\"ticks\":\"\"}}],\"histogram2d\":[{\"type\":\"histogram2d\",\"colorbar\":{\"outlinewidth\":0,\"ticks\":\"\"},\"colorscale\":[[0.0,\"#0d0887\"],[0.1111111111111111,\"#46039f\"],[0.2222222222222222,\"#7201a8\"],[0.3333333333333333,\"#9c179e\"],[0.4444444444444444,\"#bd3786\"],[0.5555555555555556,\"#d8576b\"],[0.6666666666666666,\"#ed7953\"],[0.7777777777777778,\"#fb9f3a\"],[0.8888888888888888,\"#fdca26\"],[1.0,\"#f0f921\"]]}],\"heatmap\":[{\"type\":\"heatmap\",\"colorbar\":{\"outlinewidth\":0,\"ticks\":\"\"},\"colorscale\":[[0.0,\"#0d0887\"],[0.1111111111111111,\"#46039f\"],[0.2222222222222222,\"#7201a8\"],[0.3333333333333333,\"#9c179e\"],[0.4444444444444444,\"#bd3786\"],[0.5555555555555556,\"#d8576b\"],[0.6666666666666666,\"#ed7953\"],[0.7777777777777778,\"#fb9f3a\"],[0.8888888888888888,\"#fdca26\"],[1.0,\"#f0f921\"]]}],\"heatmapgl\":[{\"type\":\"heatmapgl\",\"colorbar\":{\"outlinewidth\":0,\"ticks\":\"\"},\"colorscale\":[[0.0,\"#0d0887\"],[0.1111111111111111,\"#46039f\"],[0.2222222222222222,\"#7201a8\"],[0.3333333333333333,\"#9c179e\"],[0.4444444444444444,\"#bd3786\"],[0.5555555555555556,\"#d8576b\"],[0.6666666666666666,\"#ed7953\"],[0.7777777777777778,\"#fb9f3a\"],[0.8888888888888888,\"#fdca26\"],[1.0,\"#f0f921\"]]}],\"contourcarpet\":[{\"type\":\"contourcarpet\",\"colorbar\":{\"outlinewidth\":0,\"ticks\":\"\"}}],\"contour\":[{\"type\":\"contour\",\"colorbar\":{\"outlinewidth\":0,\"ticks\":\"\"},\"colorscale\":[[0.0,\"#0d0887\"],[0.1111111111111111,\"#46039f\"],[0.2222222222222222,\"#7201a8\"],[0.3333333333333333,\"#9c179e\"],[0.4444444444444444,\"#bd3786\"],[0.5555555555555556,\"#d8576b\"],[0.6666666666666666,\"#ed7953\"],[0.7777777777777778,\"#fb9f3a\"],[0.8888888888888888,\"#fdca26\"],[1.0,\"#f0f921\"]]}],\"surface\":[{\"type\":\"surface\",\"colorbar\":{\"outlinewidth\":0,\"ticks\":\"\"},\"colorscale\":[[0.0,\"#0d0887\"],[0.1111111111111111,\"#46039f\"],[0.2222222222222222,\"#7201a8\"],[0.3333333333333333,\"#9c179e\"],[0.4444444444444444,\"#bd3786\"],[0.5555555555555556,\"#d8576b\"],[0.6666666666666666,\"#ed7953\"],[0.7777777777777778,\"#fb9f3a\"],[0.8888888888888888,\"#fdca26\"],[1.0,\"#f0f921\"]]}],\"mesh3d\":[{\"type\":\"mesh3d\",\"colorbar\":{\"outlinewidth\":0,\"ticks\":\"\"}}],\"scatter\":[{\"fillpattern\":{\"fillmode\":\"overlay\",\"size\":10,\"solidity\":0.2},\"type\":\"scatter\"}],\"parcoords\":[{\"type\":\"parcoords\",\"line\":{\"colorbar\":{\"outlinewidth\":0,\"ticks\":\"\"}}}],\"scatterpolargl\":[{\"type\":\"scatterpolargl\",\"marker\":{\"colorbar\":{\"outlinewidth\":0,\"ticks\":\"\"}}}],\"bar\":[{\"error_x\":{\"color\":\"#2a3f5f\"},\"error_y\":{\"color\":\"#2a3f5f\"},\"marker\":{\"line\":{\"color\":\"#E5ECF6\",\"width\":0.5},\"pattern\":{\"fillmode\":\"overlay\",\"size\":10,\"solidity\":0.2}},\"type\":\"bar\"}],\"scattergeo\":[{\"type\":\"scattergeo\",\"marker\":{\"colorbar\":{\"outlinewidth\":0,\"ticks\":\"\"}}}],\"scatterpolar\":[{\"type\":\"scatterpolar\",\"marker\":{\"colorbar\":{\"outlinewidth\":0,\"ticks\":\"\"}}}],\"histogram\":[{\"marker\":{\"pattern\":{\"fillmode\":\"overlay\",\"size\":10,\"solidity\":0.2}},\"type\":\"histogram\"}],\"scattergl\":[{\"type\":\"scattergl\",\"marker\":{\"colorbar\":{\"outlinewidth\":0,\"ticks\":\"\"}}}],\"scatter3d\":[{\"type\":\"scatter3d\",\"line\":{\"colorbar\":{\"outlinewidth\":0,\"ticks\":\"\"}},\"marker\":{\"colorbar\":{\"outlinewidth\":0,\"ticks\":\"\"}}}],\"scattermapbox\":[{\"type\":\"scattermapbox\",\"marker\":{\"colorbar\":{\"outlinewidth\":0,\"ticks\":\"\"}}}],\"scatterternary\":[{\"type\":\"scatterternary\",\"marker\":{\"colorbar\":{\"outlinewidth\":0,\"ticks\":\"\"}}}],\"scattercarpet\":[{\"type\":\"scattercarpet\",\"marker\":{\"colorbar\":{\"outlinewidth\":0,\"ticks\":\"\"}}}],\"carpet\":[{\"aaxis\":{\"endlinecolor\":\"#2a3f5f\",\"gridcolor\":\"white\",\"linecolor\":\"white\",\"minorgridcolor\":\"white\",\"startlinecolor\":\"#2a3f5f\"},\"baxis\":{\"endlinecolor\":\"#2a3f5f\",\"gridcolor\":\"white\",\"linecolor\":\"white\",\"minorgridcolor\":\"white\",\"startlinecolor\":\"#2a3f5f\"},\"type\":\"carpet\"}],\"table\":[{\"cells\":{\"fill\":{\"color\":\"#EBF0F8\"},\"line\":{\"color\":\"white\"}},\"header\":{\"fill\":{\"color\":\"#C8D4E3\"},\"line\":{\"color\":\"white\"}},\"type\":\"table\"}],\"barpolar\":[{\"marker\":{\"line\":{\"color\":\"#E5ECF6\",\"width\":0.5},\"pattern\":{\"fillmode\":\"overlay\",\"size\":10,\"solidity\":0.2}},\"type\":\"barpolar\"}],\"pie\":[{\"automargin\":true,\"type\":\"pie\"}]},\"layout\":{\"autotypenumbers\":\"strict\",\"colorway\":[\"#636efa\",\"#EF553B\",\"#00cc96\",\"#ab63fa\",\"#FFA15A\",\"#19d3f3\",\"#FF6692\",\"#B6E880\",\"#FF97FF\",\"#FECB52\"],\"font\":{\"color\":\"#2a3f5f\"},\"hovermode\":\"closest\",\"hoverlabel\":{\"align\":\"left\"},\"paper_bgcolor\":\"white\",\"plot_bgcolor\":\"#E5ECF6\",\"polar\":{\"bgcolor\":\"#E5ECF6\",\"angularaxis\":{\"gridcolor\":\"white\",\"linecolor\":\"white\",\"ticks\":\"\"},\"radialaxis\":{\"gridcolor\":\"white\",\"linecolor\":\"white\",\"ticks\":\"\"}},\"ternary\":{\"bgcolor\":\"#E5ECF6\",\"aaxis\":{\"gridcolor\":\"white\",\"linecolor\":\"white\",\"ticks\":\"\"},\"baxis\":{\"gridcolor\":\"white\",\"linecolor\":\"white\",\"ticks\":\"\"},\"caxis\":{\"gridcolor\":\"white\",\"linecolor\":\"white\",\"ticks\":\"\"}},\"coloraxis\":{\"colorbar\":{\"outlinewidth\":0,\"ticks\":\"\"}},\"colorscale\":{\"sequential\":[[0.0,\"#0d0887\"],[0.1111111111111111,\"#46039f\"],[0.2222222222222222,\"#7201a8\"],[0.3333333333333333,\"#9c179e\"],[0.4444444444444444,\"#bd3786\"],[0.5555555555555556,\"#d8576b\"],[0.6666666666666666,\"#ed7953\"],[0.7777777777777778,\"#fb9f3a\"],[0.8888888888888888,\"#fdca26\"],[1.0,\"#f0f921\"]],\"sequentialminus\":[[0.0,\"#0d0887\"],[0.1111111111111111,\"#46039f\"],[0.2222222222222222,\"#7201a8\"],[0.3333333333333333,\"#9c179e\"],[0.4444444444444444,\"#bd3786\"],[0.5555555555555556,\"#d8576b\"],[0.6666666666666666,\"#ed7953\"],[0.7777777777777778,\"#fb9f3a\"],[0.8888888888888888,\"#fdca26\"],[1.0,\"#f0f921\"]],\"diverging\":[[0,\"#8e0152\"],[0.1,\"#c51b7d\"],[0.2,\"#de77ae\"],[0.3,\"#f1b6da\"],[0.4,\"#fde0ef\"],[0.5,\"#f7f7f7\"],[0.6,\"#e6f5d0\"],[0.7,\"#b8e186\"],[0.8,\"#7fbc41\"],[0.9,\"#4d9221\"],[1,\"#276419\"]]},\"xaxis\":{\"gridcolor\":\"white\",\"linecolor\":\"white\",\"ticks\":\"\",\"title\":{\"standoff\":15},\"zerolinecolor\":\"white\",\"automargin\":true,\"zerolinewidth\":2},\"yaxis\":{\"gridcolor\":\"white\",\"linecolor\":\"white\",\"ticks\":\"\",\"title\":{\"standoff\":15},\"zerolinecolor\":\"white\",\"automargin\":true,\"zerolinewidth\":2},\"scene\":{\"xaxis\":{\"backgroundcolor\":\"#E5ECF6\",\"gridcolor\":\"white\",\"linecolor\":\"white\",\"showbackground\":true,\"ticks\":\"\",\"zerolinecolor\":\"white\",\"gridwidth\":2},\"yaxis\":{\"backgroundcolor\":\"#E5ECF6\",\"gridcolor\":\"white\",\"linecolor\":\"white\",\"showbackground\":true,\"ticks\":\"\",\"zerolinecolor\":\"white\",\"gridwidth\":2},\"zaxis\":{\"backgroundcolor\":\"#E5ECF6\",\"gridcolor\":\"white\",\"linecolor\":\"white\",\"showbackground\":true,\"ticks\":\"\",\"zerolinecolor\":\"white\",\"gridwidth\":2}},\"shapedefaults\":{\"line\":{\"color\":\"#2a3f5f\"}},\"annotationdefaults\":{\"arrowcolor\":\"#2a3f5f\",\"arrowhead\":0,\"arrowwidth\":1},\"geo\":{\"bgcolor\":\"white\",\"landcolor\":\"#E5ECF6\",\"subunitcolor\":\"white\",\"showland\":true,\"showlakes\":true,\"lakecolor\":\"white\"},\"title\":{\"x\":0.05},\"mapbox\":{\"style\":\"light\"}}},\"xaxis\":{\"anchor\":\"y\",\"domain\":[0.0,1.0],\"title\":{\"text\":\"Date\"}},\"yaxis\":{\"anchor\":\"x\",\"domain\":[0.0,1.0],\"title\":{\"text\":\"Volume\"}},\"legend\":{\"tracegroupgap\":0},\"margin\":{\"t\":60}},                        {\"responsive\": true}                    ).then(function(){\n",
              "                            \n",
              "var gd = document.getElementById('8d8f590a-efe4-4b2f-8684-06c597b4d354');\n",
              "var x = new MutationObserver(function (mutations, observer) {{\n",
              "        var display = window.getComputedStyle(gd).display;\n",
              "        if (!display || display === 'none') {{\n",
              "            console.log([gd, 'removed!']);\n",
              "            Plotly.purge(gd);\n",
              "            observer.disconnect();\n",
              "        }}\n",
              "}});\n",
              "\n",
              "// Listen for the removal of the full notebook cells\n",
              "var notebookContainer = gd.closest('#notebook-container');\n",
              "if (notebookContainer) {{\n",
              "    x.observe(notebookContainer, {childList: true});\n",
              "}}\n",
              "\n",
              "// Listen for the clearing of the current output cell\n",
              "var outputEl = gd.closest('.output');\n",
              "if (outputEl) {{\n",
              "    x.observe(outputEl, {childList: true});\n",
              "}}\n",
              "\n",
              "                        })                };                            </script>        </div>\n",
              "</body>\n",
              "</html>"
            ]
          },
          "metadata": {}
        }
      ],
      "source": [
        "# y=Volume\n",
        "# Volume represents for the daily transactional volume of Netflix or\n",
        "# number of shares traded between its daily open and close\n",
        "px.area(df,x=\"Date\",y=\"Volume\")"
      ]
    },
    {
      "cell_type": "markdown",
      "source": [
        "===================================================================================================================<br>\n",
        "Average transactional volume of Netflix daily is between 10Million to 50Million. We can also analyze on what happen to Netflix when it's **transactional volume become so high on 20 July 2022 (Volume=53.9203M)**"
      ],
      "metadata": {
        "id": "1qVWFRPqalD1"
      }
    },
    {
      "cell_type": "markdown",
      "source": [
        "Here is the news on Netflix on that date: https://www.opb.org/article/2022/07/20/netflix-loses-nearly-1-million-subscribers-that-s-the-good-news/ <br><br>\n",
        "**Summary from the news:** <br>\n",
        "Netflix predicted the company will lose 2million subscribers and fortunately the prediction is wrong-only lose 900k subscribes (a big number but still less than 2Million.<br>\n",
        "Netflix cooperated with Microsoft to give a low price subscription in the future.<br>\n",
        "Netflix planned to explore the method which it thinks will result in around 100 million homes having free access to the service.\n"
      ],
      "metadata": {
        "id": "tkTXzqVVdq_S"
      }
    },
    {
      "cell_type": "markdown",
      "source": [
        "===================================================================================================================<br>\n",
        "**Lowest transactional volume** is on **10 April 2023 (Volume=2.6579M)**<br>\n",
        "Related news: https://economictimes.indiatimes.com/news/international/business/netflix-puts-an-end-to-password-sharing-for-subscribers-in-us/articleshow/100575196.cms <br><br>\n",
        "\n",
        "**Summary from the news:**<br>\n",
        "Increased competition from other streaming services (Disney+, Warner Bros, etc).<br>\n",
        "Netflix removed password sharing for US subscribers.<br>\n",
        "===================================================================================================================<br>\n",
        "\n"
      ],
      "metadata": {
        "id": "j_FZ7bIllx-1"
      }
    },
    {
      "cell_type": "code",
      "source": [
        "# can use px without value of x. Below is the bar graph\n",
        "px.bar(df, y='Volume')"
      ],
      "metadata": {
        "colab": {
          "base_uri": "https://localhost:8080/",
          "height": 542
        },
        "id": "xK43pMUYCDYo",
        "outputId": "9e166544-70b1-47e2-efb1-7469a0ed0307"
      },
      "execution_count": 14,
      "outputs": [
        {
          "output_type": "display_data",
          "data": {
            "text/html": [
              "<html>\n",
              "<head><meta charset=\"utf-8\" /></head>\n",
              "<body>\n",
              "    <div>            <script src=\"https://cdnjs.cloudflare.com/ajax/libs/mathjax/2.7.5/MathJax.js?config=TeX-AMS-MML_SVG\"></script><script type=\"text/javascript\">if (window.MathJax && window.MathJax.Hub && window.MathJax.Hub.Config) {window.MathJax.Hub.Config({SVG: {font: \"STIX-Web\"}});}</script>                <script type=\"text/javascript\">window.PlotlyConfig = {MathJaxConfig: 'local'};</script>\n",
              "        <script src=\"https://cdn.plot.ly/plotly-2.18.2.min.js\"></script>                <div id=\"08525961-5dc8-47af-a89c-52e36756d995\" class=\"plotly-graph-div\" style=\"height:525px; width:100%;\"></div>            <script type=\"text/javascript\">                                    window.PLOTLYENV=window.PLOTLYENV || {};                                    if (document.getElementById(\"08525961-5dc8-47af-a89c-52e36756d995\")) {                    Plotly.newPlot(                        \"08525961-5dc8-47af-a89c-52e36756d995\",                        [{\"alignmentgroup\":\"True\",\"hovertemplate\":\"index=%{x}<br>Volume=%{y}<extra></extra>\",\"legendgroup\":\"\",\"marker\":{\"color\":\"#636efa\",\"pattern\":{\"shape\":\"\"}},\"name\":\"\",\"offsetgroup\":\"\",\"orientation\":\"v\",\"showlegend\":false,\"textposition\":\"auto\",\"x\":[0,1,2,3,4,5,6,7,8,9,10,11,12,13,14,15,16,17,18,19,20,21,22,23,24,25,26,27,28,29,30,31,32,33,34,35,36,37,38,39,40,41,42,43,44,45,46,47,48,49,50,51,52,53,54,55,56,57,58,59,60,61,62,63,64,65,66,67,68,69,70,71,72,73,74,75,76,77,78,79,80,81,82,83,84,85,86,87,88,89,90,91,92,93,94,95,96,97,98,99,100,101,102,103,104,105,106,107,108,109,110,111,112,113,114,115,116,117,118,119,120,121,122,123,124,125,126,127,128,129,130,131,132,133,134,135,136,137,138,139,140,141,142,143,144,145,146,147,148,149,150,151,152,153,154,155,156,157,158,159,160,161,162,163,164,165,166,167,168,169,170,171,172,173,174,175,176,177,178,179,180,181,182,183,184,185,186,187,188,189,190,191,192,193,194,195,196,197,198,199,200,201,202,203,204,205,206,207,208,209,210,211,212,213,214,215,216,217,218,219,220,221,222,223,224,225,226,227,228,229,230,231,232,233,234,235,236,237,238,239,240,241,242,243,244,245,246,247,248,249,250],\"xaxis\":\"x\",\"y\":[13065600,10222400,11555300,12396000,8201300,12133400,12177600,11992400,9538200,12424000,8363900,7185400,5766800,7894700,5201600,7334300,5753400,6334500,5835700,6038800,6845300,12734400,9039500,16319100,16322800,28178700,53920300,23430100,17805500,10935200,9508500,10508400,8972700,9064900,5525000,6361300,6400700,7142700,5539700,10982100,6181200,9254800,8780100,6098500,6527400,5136800,5627200,5280400,7504700,8630100,5276900,5426300,3766900,5349800,7109400,5740400,8615900,7292900,8164900,7469000,8149300,6737400,6699600,6047400,8000100,8230300,19454100,18914200,17912400,16037400,9166800,10018000,11207200,8234300,7762200,17579700,18994900,11848600,8657400,13925900,10825600,9188900,9806100,9991100,15282400,12952600,17505000,15293400,21057800,25776700,46685300,17207100,24889100,13326400,15100700,15714100,14612600,9960500,7505100,6916400,10367600,7057400,11124700,7927000,7683800,7266000,9667300,9573800,17978200,14626900,8038600,9838200,8400100,7256500,6245100,5919000,3236000,4703400,5786900,16070100,14664900,12690600,8423000,7195400,7821600,7205300,14364000,10148600,10756400,7543300,17724600,14080000,6163700,6918100,6376200,7856200,4251100,5778100,5964400,9588500,7566900,6764000,9345100,8328400,8959800,6766600,13072300,9579700,10856200,8286800,9247000,7814100,18008200,28430300,15646900,11796500,7766900,8256800,6703500,5127600,5660700,8005200,7857000,9402000,4994900,6289400,6253200,6901100,7291100,7134400,4624800,3966000,5215700,5294700,5710300,4546200,13238700,6830700,6142600,3676100,4911300,4911000,5953300,5660700,4553100,3479500,7443400,5759300,6292400,5956700,9215300,7903700,6918800,5113400,4886300,5808000,15653300,12991700,8625800,6489400,6287300,7131500,5610200,4413700,3298100,4205500,4660500,2657900,4044800,3965400,7406400,5350500,6136000,17944500,22128300,9947800,6348000,5586600,5426600,4623200,5618800,4221900,5341500,4318600,5064100,3879700,3988600,5488600,5544900,4289900,8033500,6079900,3653000,3332200,3958800,20925200,7850900,5406400,6866100,7973300,6263100,9360400,10865000,6988000,7160100,5897300,7247400,4991500,11932400,5991100,12363000],\"yaxis\":\"y\",\"type\":\"bar\"}],                        {\"template\":{\"data\":{\"histogram2dcontour\":[{\"type\":\"histogram2dcontour\",\"colorbar\":{\"outlinewidth\":0,\"ticks\":\"\"},\"colorscale\":[[0.0,\"#0d0887\"],[0.1111111111111111,\"#46039f\"],[0.2222222222222222,\"#7201a8\"],[0.3333333333333333,\"#9c179e\"],[0.4444444444444444,\"#bd3786\"],[0.5555555555555556,\"#d8576b\"],[0.6666666666666666,\"#ed7953\"],[0.7777777777777778,\"#fb9f3a\"],[0.8888888888888888,\"#fdca26\"],[1.0,\"#f0f921\"]]}],\"choropleth\":[{\"type\":\"choropleth\",\"colorbar\":{\"outlinewidth\":0,\"ticks\":\"\"}}],\"histogram2d\":[{\"type\":\"histogram2d\",\"colorbar\":{\"outlinewidth\":0,\"ticks\":\"\"},\"colorscale\":[[0.0,\"#0d0887\"],[0.1111111111111111,\"#46039f\"],[0.2222222222222222,\"#7201a8\"],[0.3333333333333333,\"#9c179e\"],[0.4444444444444444,\"#bd3786\"],[0.5555555555555556,\"#d8576b\"],[0.6666666666666666,\"#ed7953\"],[0.7777777777777778,\"#fb9f3a\"],[0.8888888888888888,\"#fdca26\"],[1.0,\"#f0f921\"]]}],\"heatmap\":[{\"type\":\"heatmap\",\"colorbar\":{\"outlinewidth\":0,\"ticks\":\"\"},\"colorscale\":[[0.0,\"#0d0887\"],[0.1111111111111111,\"#46039f\"],[0.2222222222222222,\"#7201a8\"],[0.3333333333333333,\"#9c179e\"],[0.4444444444444444,\"#bd3786\"],[0.5555555555555556,\"#d8576b\"],[0.6666666666666666,\"#ed7953\"],[0.7777777777777778,\"#fb9f3a\"],[0.8888888888888888,\"#fdca26\"],[1.0,\"#f0f921\"]]}],\"heatmapgl\":[{\"type\":\"heatmapgl\",\"colorbar\":{\"outlinewidth\":0,\"ticks\":\"\"},\"colorscale\":[[0.0,\"#0d0887\"],[0.1111111111111111,\"#46039f\"],[0.2222222222222222,\"#7201a8\"],[0.3333333333333333,\"#9c179e\"],[0.4444444444444444,\"#bd3786\"],[0.5555555555555556,\"#d8576b\"],[0.6666666666666666,\"#ed7953\"],[0.7777777777777778,\"#fb9f3a\"],[0.8888888888888888,\"#fdca26\"],[1.0,\"#f0f921\"]]}],\"contourcarpet\":[{\"type\":\"contourcarpet\",\"colorbar\":{\"outlinewidth\":0,\"ticks\":\"\"}}],\"contour\":[{\"type\":\"contour\",\"colorbar\":{\"outlinewidth\":0,\"ticks\":\"\"},\"colorscale\":[[0.0,\"#0d0887\"],[0.1111111111111111,\"#46039f\"],[0.2222222222222222,\"#7201a8\"],[0.3333333333333333,\"#9c179e\"],[0.4444444444444444,\"#bd3786\"],[0.5555555555555556,\"#d8576b\"],[0.6666666666666666,\"#ed7953\"],[0.7777777777777778,\"#fb9f3a\"],[0.8888888888888888,\"#fdca26\"],[1.0,\"#f0f921\"]]}],\"surface\":[{\"type\":\"surface\",\"colorbar\":{\"outlinewidth\":0,\"ticks\":\"\"},\"colorscale\":[[0.0,\"#0d0887\"],[0.1111111111111111,\"#46039f\"],[0.2222222222222222,\"#7201a8\"],[0.3333333333333333,\"#9c179e\"],[0.4444444444444444,\"#bd3786\"],[0.5555555555555556,\"#d8576b\"],[0.6666666666666666,\"#ed7953\"],[0.7777777777777778,\"#fb9f3a\"],[0.8888888888888888,\"#fdca26\"],[1.0,\"#f0f921\"]]}],\"mesh3d\":[{\"type\":\"mesh3d\",\"colorbar\":{\"outlinewidth\":0,\"ticks\":\"\"}}],\"scatter\":[{\"fillpattern\":{\"fillmode\":\"overlay\",\"size\":10,\"solidity\":0.2},\"type\":\"scatter\"}],\"parcoords\":[{\"type\":\"parcoords\",\"line\":{\"colorbar\":{\"outlinewidth\":0,\"ticks\":\"\"}}}],\"scatterpolargl\":[{\"type\":\"scatterpolargl\",\"marker\":{\"colorbar\":{\"outlinewidth\":0,\"ticks\":\"\"}}}],\"bar\":[{\"error_x\":{\"color\":\"#2a3f5f\"},\"error_y\":{\"color\":\"#2a3f5f\"},\"marker\":{\"line\":{\"color\":\"#E5ECF6\",\"width\":0.5},\"pattern\":{\"fillmode\":\"overlay\",\"size\":10,\"solidity\":0.2}},\"type\":\"bar\"}],\"scattergeo\":[{\"type\":\"scattergeo\",\"marker\":{\"colorbar\":{\"outlinewidth\":0,\"ticks\":\"\"}}}],\"scatterpolar\":[{\"type\":\"scatterpolar\",\"marker\":{\"colorbar\":{\"outlinewidth\":0,\"ticks\":\"\"}}}],\"histogram\":[{\"marker\":{\"pattern\":{\"fillmode\":\"overlay\",\"size\":10,\"solidity\":0.2}},\"type\":\"histogram\"}],\"scattergl\":[{\"type\":\"scattergl\",\"marker\":{\"colorbar\":{\"outlinewidth\":0,\"ticks\":\"\"}}}],\"scatter3d\":[{\"type\":\"scatter3d\",\"line\":{\"colorbar\":{\"outlinewidth\":0,\"ticks\":\"\"}},\"marker\":{\"colorbar\":{\"outlinewidth\":0,\"ticks\":\"\"}}}],\"scattermapbox\":[{\"type\":\"scattermapbox\",\"marker\":{\"colorbar\":{\"outlinewidth\":0,\"ticks\":\"\"}}}],\"scatterternary\":[{\"type\":\"scatterternary\",\"marker\":{\"colorbar\":{\"outlinewidth\":0,\"ticks\":\"\"}}}],\"scattercarpet\":[{\"type\":\"scattercarpet\",\"marker\":{\"colorbar\":{\"outlinewidth\":0,\"ticks\":\"\"}}}],\"carpet\":[{\"aaxis\":{\"endlinecolor\":\"#2a3f5f\",\"gridcolor\":\"white\",\"linecolor\":\"white\",\"minorgridcolor\":\"white\",\"startlinecolor\":\"#2a3f5f\"},\"baxis\":{\"endlinecolor\":\"#2a3f5f\",\"gridcolor\":\"white\",\"linecolor\":\"white\",\"minorgridcolor\":\"white\",\"startlinecolor\":\"#2a3f5f\"},\"type\":\"carpet\"}],\"table\":[{\"cells\":{\"fill\":{\"color\":\"#EBF0F8\"},\"line\":{\"color\":\"white\"}},\"header\":{\"fill\":{\"color\":\"#C8D4E3\"},\"line\":{\"color\":\"white\"}},\"type\":\"table\"}],\"barpolar\":[{\"marker\":{\"line\":{\"color\":\"#E5ECF6\",\"width\":0.5},\"pattern\":{\"fillmode\":\"overlay\",\"size\":10,\"solidity\":0.2}},\"type\":\"barpolar\"}],\"pie\":[{\"automargin\":true,\"type\":\"pie\"}]},\"layout\":{\"autotypenumbers\":\"strict\",\"colorway\":[\"#636efa\",\"#EF553B\",\"#00cc96\",\"#ab63fa\",\"#FFA15A\",\"#19d3f3\",\"#FF6692\",\"#B6E880\",\"#FF97FF\",\"#FECB52\"],\"font\":{\"color\":\"#2a3f5f\"},\"hovermode\":\"closest\",\"hoverlabel\":{\"align\":\"left\"},\"paper_bgcolor\":\"white\",\"plot_bgcolor\":\"#E5ECF6\",\"polar\":{\"bgcolor\":\"#E5ECF6\",\"angularaxis\":{\"gridcolor\":\"white\",\"linecolor\":\"white\",\"ticks\":\"\"},\"radialaxis\":{\"gridcolor\":\"white\",\"linecolor\":\"white\",\"ticks\":\"\"}},\"ternary\":{\"bgcolor\":\"#E5ECF6\",\"aaxis\":{\"gridcolor\":\"white\",\"linecolor\":\"white\",\"ticks\":\"\"},\"baxis\":{\"gridcolor\":\"white\",\"linecolor\":\"white\",\"ticks\":\"\"},\"caxis\":{\"gridcolor\":\"white\",\"linecolor\":\"white\",\"ticks\":\"\"}},\"coloraxis\":{\"colorbar\":{\"outlinewidth\":0,\"ticks\":\"\"}},\"colorscale\":{\"sequential\":[[0.0,\"#0d0887\"],[0.1111111111111111,\"#46039f\"],[0.2222222222222222,\"#7201a8\"],[0.3333333333333333,\"#9c179e\"],[0.4444444444444444,\"#bd3786\"],[0.5555555555555556,\"#d8576b\"],[0.6666666666666666,\"#ed7953\"],[0.7777777777777778,\"#fb9f3a\"],[0.8888888888888888,\"#fdca26\"],[1.0,\"#f0f921\"]],\"sequentialminus\":[[0.0,\"#0d0887\"],[0.1111111111111111,\"#46039f\"],[0.2222222222222222,\"#7201a8\"],[0.3333333333333333,\"#9c179e\"],[0.4444444444444444,\"#bd3786\"],[0.5555555555555556,\"#d8576b\"],[0.6666666666666666,\"#ed7953\"],[0.7777777777777778,\"#fb9f3a\"],[0.8888888888888888,\"#fdca26\"],[1.0,\"#f0f921\"]],\"diverging\":[[0,\"#8e0152\"],[0.1,\"#c51b7d\"],[0.2,\"#de77ae\"],[0.3,\"#f1b6da\"],[0.4,\"#fde0ef\"],[0.5,\"#f7f7f7\"],[0.6,\"#e6f5d0\"],[0.7,\"#b8e186\"],[0.8,\"#7fbc41\"],[0.9,\"#4d9221\"],[1,\"#276419\"]]},\"xaxis\":{\"gridcolor\":\"white\",\"linecolor\":\"white\",\"ticks\":\"\",\"title\":{\"standoff\":15},\"zerolinecolor\":\"white\",\"automargin\":true,\"zerolinewidth\":2},\"yaxis\":{\"gridcolor\":\"white\",\"linecolor\":\"white\",\"ticks\":\"\",\"title\":{\"standoff\":15},\"zerolinecolor\":\"white\",\"automargin\":true,\"zerolinewidth\":2},\"scene\":{\"xaxis\":{\"backgroundcolor\":\"#E5ECF6\",\"gridcolor\":\"white\",\"linecolor\":\"white\",\"showbackground\":true,\"ticks\":\"\",\"zerolinecolor\":\"white\",\"gridwidth\":2},\"yaxis\":{\"backgroundcolor\":\"#E5ECF6\",\"gridcolor\":\"white\",\"linecolor\":\"white\",\"showbackground\":true,\"ticks\":\"\",\"zerolinecolor\":\"white\",\"gridwidth\":2},\"zaxis\":{\"backgroundcolor\":\"#E5ECF6\",\"gridcolor\":\"white\",\"linecolor\":\"white\",\"showbackground\":true,\"ticks\":\"\",\"zerolinecolor\":\"white\",\"gridwidth\":2}},\"shapedefaults\":{\"line\":{\"color\":\"#2a3f5f\"}},\"annotationdefaults\":{\"arrowcolor\":\"#2a3f5f\",\"arrowhead\":0,\"arrowwidth\":1},\"geo\":{\"bgcolor\":\"white\",\"landcolor\":\"#E5ECF6\",\"subunitcolor\":\"white\",\"showland\":true,\"showlakes\":true,\"lakecolor\":\"white\"},\"title\":{\"x\":0.05},\"mapbox\":{\"style\":\"light\"}}},\"xaxis\":{\"anchor\":\"y\",\"domain\":[0.0,1.0],\"title\":{\"text\":\"index\"}},\"yaxis\":{\"anchor\":\"x\",\"domain\":[0.0,1.0],\"title\":{\"text\":\"Volume\"}},\"legend\":{\"tracegroupgap\":0},\"margin\":{\"t\":60},\"barmode\":\"relative\"},                        {\"responsive\": true}                    ).then(function(){\n",
              "                            \n",
              "var gd = document.getElementById('08525961-5dc8-47af-a89c-52e36756d995');\n",
              "var x = new MutationObserver(function (mutations, observer) {{\n",
              "        var display = window.getComputedStyle(gd).display;\n",
              "        if (!display || display === 'none') {{\n",
              "            console.log([gd, 'removed!']);\n",
              "            Plotly.purge(gd);\n",
              "            observer.disconnect();\n",
              "        }}\n",
              "}});\n",
              "\n",
              "// Listen for the removal of the full notebook cells\n",
              "var notebookContainer = gd.closest('#notebook-container');\n",
              "if (notebookContainer) {{\n",
              "    x.observe(notebookContainer, {childList: true});\n",
              "}}\n",
              "\n",
              "// Listen for the clearing of the current output cell\n",
              "var outputEl = gd.closest('.output');\n",
              "if (outputEl) {{\n",
              "    x.observe(outputEl, {childList: true});\n",
              "}}\n",
              "\n",
              "                        })                };                            </script>        </div>\n",
              "</body>\n",
              "</html>"
            ]
          },
          "metadata": {}
        }
      ]
    },
    {
      "cell_type": "code",
      "source": [
        "# analyze Close Price\n",
        "# get statistical data--> mean, median, quartiles, maximum, minimum\n",
        "px.box(df, y='Close')"
      ],
      "metadata": {
        "colab": {
          "base_uri": "https://localhost:8080/",
          "height": 542
        },
        "id": "DPUHQJQMCjAo",
        "outputId": "e1c1f118-b88c-4e87-8bf3-f3f423b6011f"
      },
      "execution_count": 15,
      "outputs": [
        {
          "output_type": "display_data",
          "data": {
            "text/html": [
              "<html>\n",
              "<head><meta charset=\"utf-8\" /></head>\n",
              "<body>\n",
              "    <div>            <script src=\"https://cdnjs.cloudflare.com/ajax/libs/mathjax/2.7.5/MathJax.js?config=TeX-AMS-MML_SVG\"></script><script type=\"text/javascript\">if (window.MathJax && window.MathJax.Hub && window.MathJax.Hub.Config) {window.MathJax.Hub.Config({SVG: {font: \"STIX-Web\"}});}</script>                <script type=\"text/javascript\">window.PlotlyConfig = {MathJaxConfig: 'local'};</script>\n",
              "        <script src=\"https://cdn.plot.ly/plotly-2.18.2.min.js\"></script>                <div id=\"f1d779c5-9a94-429b-b4d9-1d4547c4b28e\" class=\"plotly-graph-div\" style=\"height:525px; width:100%;\"></div>            <script type=\"text/javascript\">                                    window.PLOTLYENV=window.PLOTLYENV || {};                                    if (document.getElementById(\"f1d779c5-9a94-429b-b4d9-1d4547c4b28e\")) {                    Plotly.newPlot(                        \"f1d779c5-9a94-429b-b4d9-1d4547c4b28e\",                        [{\"alignmentgroup\":\"True\",\"hovertemplate\":\"Close=%{y}<extra></extra>\",\"legendgroup\":\"\",\"marker\":{\"color\":\"#636efa\"},\"name\":\"\",\"notched\":false,\"offsetgroup\":\"\",\"orientation\":\"v\",\"showlegend\":false,\"x0\":\" \",\"xaxis\":\"x\",\"y\":[182.940002,169.690002,167.539993,180.110001,173.350006,175.509995,170.910004,178.889999,181.710007,190.850006,189.139999,179.600006,178.360001,174.869995,179.949997,185.880005,184.059998,189.270004,186.979996,177.339996,174.449997,176.559998,174.779999,189.110001,190.919998,201.630005,216.440002,223.880005,220.440002,218.509995,213.910004,226.75,226.020004,224.899994,226.210007,221.419998,226.729996,229.910004,226.779999,233.490005,229.940002,244.110001,242.699997,249.300003,249.110001,245.690002,241.149994,245.169998,241.160004,226.539993,224.550003,229.610001,233.979996,223.279999,224.570007,220.649994,223.559998,230.039993,226.110001,218.389999,228.960007,227.440002,233.570007,236.529999,218.130005,224.119995,235.380005,240.130005,243.630005,242.850006,236.869995,237.050003,226.410004,224.070007,224.360001,245.199997,239.710007,235.440002,239.039993,240.740005,236.729996,240.020004,224.75,229.979996,214.289993,220.869995,232.509995,230.0,245.100006,240.860001,272.380005,268.160004,289.570007,282.450012,291.019989,298.619995,296.940002,295.720001,291.880005,286.75,273.0,269.059998,260.790009,258.600006,263.459991,254.660004,274.970001,290.130005,299.269989,310.200012,306.019989,295.279999,287.980011,285.049988,286.690002,291.5,285.540009,281.170013,280.959991,305.529999,316.950012,320.410004,312.589996,305.559998,308.420013,310.26001,320.01001,315.179993,320.339996,317.829987,290.410004,290.709991,288.299988,288.190002,297.959991,297.75,294.959991,284.170013,276.880005,291.119995,294.880005,294.950012,309.410004,309.700012,315.549988,315.170013,327.540009,327.26001,330.130005,332.820007,326.220001,326.329987,315.779999,342.5,357.420013,363.829987,367.959991,364.869995,360.769989,353.109985,353.859985,361.98999,366.890015,365.899994,361.480011,362.950012,366.829987,362.5,347.359985,358.570007,359.959991,361.420013,350.709991,347.959991,337.5,334.880005,323.649994,317.149994,323.029999,322.130005,313.480011,311.880005,315.179993,312.029999,308.470001,311.790009,297.779999,292.76001,293.51001,294.940002,303.790009,310.059998,303.5,305.130005,305.790009,293.899994,320.369995,328.390015,327.660004,323.519989,332.029999,338.429993,345.480011,348.279999,346.75,342.350006,339.329987,338.98999,338.209991,331.029999,346.190002,338.630005,332.720001,333.700012,323.119995,325.350006,327.980011,329.019989,322.549988,321.149994,325.850006,329.929993,324.119995,317.549988,319.299988,320.779999,322.76001,331.209991,332.140015,335.420013,344.76001,339.890015,335.890015,333.75,339.959991,371.290009,365.359985,363.01001,355.98999,364.850006,359.0,378.880005,392.980011,395.230011,403.130005,400.470001,403.540009,399.290009,399.769989,409.369995,420.019989],\"y0\":\" \",\"yaxis\":\"y\",\"type\":\"box\"}],                        {\"template\":{\"data\":{\"histogram2dcontour\":[{\"type\":\"histogram2dcontour\",\"colorbar\":{\"outlinewidth\":0,\"ticks\":\"\"},\"colorscale\":[[0.0,\"#0d0887\"],[0.1111111111111111,\"#46039f\"],[0.2222222222222222,\"#7201a8\"],[0.3333333333333333,\"#9c179e\"],[0.4444444444444444,\"#bd3786\"],[0.5555555555555556,\"#d8576b\"],[0.6666666666666666,\"#ed7953\"],[0.7777777777777778,\"#fb9f3a\"],[0.8888888888888888,\"#fdca26\"],[1.0,\"#f0f921\"]]}],\"choropleth\":[{\"type\":\"choropleth\",\"colorbar\":{\"outlinewidth\":0,\"ticks\":\"\"}}],\"histogram2d\":[{\"type\":\"histogram2d\",\"colorbar\":{\"outlinewidth\":0,\"ticks\":\"\"},\"colorscale\":[[0.0,\"#0d0887\"],[0.1111111111111111,\"#46039f\"],[0.2222222222222222,\"#7201a8\"],[0.3333333333333333,\"#9c179e\"],[0.4444444444444444,\"#bd3786\"],[0.5555555555555556,\"#d8576b\"],[0.6666666666666666,\"#ed7953\"],[0.7777777777777778,\"#fb9f3a\"],[0.8888888888888888,\"#fdca26\"],[1.0,\"#f0f921\"]]}],\"heatmap\":[{\"type\":\"heatmap\",\"colorbar\":{\"outlinewidth\":0,\"ticks\":\"\"},\"colorscale\":[[0.0,\"#0d0887\"],[0.1111111111111111,\"#46039f\"],[0.2222222222222222,\"#7201a8\"],[0.3333333333333333,\"#9c179e\"],[0.4444444444444444,\"#bd3786\"],[0.5555555555555556,\"#d8576b\"],[0.6666666666666666,\"#ed7953\"],[0.7777777777777778,\"#fb9f3a\"],[0.8888888888888888,\"#fdca26\"],[1.0,\"#f0f921\"]]}],\"heatmapgl\":[{\"type\":\"heatmapgl\",\"colorbar\":{\"outlinewidth\":0,\"ticks\":\"\"},\"colorscale\":[[0.0,\"#0d0887\"],[0.1111111111111111,\"#46039f\"],[0.2222222222222222,\"#7201a8\"],[0.3333333333333333,\"#9c179e\"],[0.4444444444444444,\"#bd3786\"],[0.5555555555555556,\"#d8576b\"],[0.6666666666666666,\"#ed7953\"],[0.7777777777777778,\"#fb9f3a\"],[0.8888888888888888,\"#fdca26\"],[1.0,\"#f0f921\"]]}],\"contourcarpet\":[{\"type\":\"contourcarpet\",\"colorbar\":{\"outlinewidth\":0,\"ticks\":\"\"}}],\"contour\":[{\"type\":\"contour\",\"colorbar\":{\"outlinewidth\":0,\"ticks\":\"\"},\"colorscale\":[[0.0,\"#0d0887\"],[0.1111111111111111,\"#46039f\"],[0.2222222222222222,\"#7201a8\"],[0.3333333333333333,\"#9c179e\"],[0.4444444444444444,\"#bd3786\"],[0.5555555555555556,\"#d8576b\"],[0.6666666666666666,\"#ed7953\"],[0.7777777777777778,\"#fb9f3a\"],[0.8888888888888888,\"#fdca26\"],[1.0,\"#f0f921\"]]}],\"surface\":[{\"type\":\"surface\",\"colorbar\":{\"outlinewidth\":0,\"ticks\":\"\"},\"colorscale\":[[0.0,\"#0d0887\"],[0.1111111111111111,\"#46039f\"],[0.2222222222222222,\"#7201a8\"],[0.3333333333333333,\"#9c179e\"],[0.4444444444444444,\"#bd3786\"],[0.5555555555555556,\"#d8576b\"],[0.6666666666666666,\"#ed7953\"],[0.7777777777777778,\"#fb9f3a\"],[0.8888888888888888,\"#fdca26\"],[1.0,\"#f0f921\"]]}],\"mesh3d\":[{\"type\":\"mesh3d\",\"colorbar\":{\"outlinewidth\":0,\"ticks\":\"\"}}],\"scatter\":[{\"fillpattern\":{\"fillmode\":\"overlay\",\"size\":10,\"solidity\":0.2},\"type\":\"scatter\"}],\"parcoords\":[{\"type\":\"parcoords\",\"line\":{\"colorbar\":{\"outlinewidth\":0,\"ticks\":\"\"}}}],\"scatterpolargl\":[{\"type\":\"scatterpolargl\",\"marker\":{\"colorbar\":{\"outlinewidth\":0,\"ticks\":\"\"}}}],\"bar\":[{\"error_x\":{\"color\":\"#2a3f5f\"},\"error_y\":{\"color\":\"#2a3f5f\"},\"marker\":{\"line\":{\"color\":\"#E5ECF6\",\"width\":0.5},\"pattern\":{\"fillmode\":\"overlay\",\"size\":10,\"solidity\":0.2}},\"type\":\"bar\"}],\"scattergeo\":[{\"type\":\"scattergeo\",\"marker\":{\"colorbar\":{\"outlinewidth\":0,\"ticks\":\"\"}}}],\"scatterpolar\":[{\"type\":\"scatterpolar\",\"marker\":{\"colorbar\":{\"outlinewidth\":0,\"ticks\":\"\"}}}],\"histogram\":[{\"marker\":{\"pattern\":{\"fillmode\":\"overlay\",\"size\":10,\"solidity\":0.2}},\"type\":\"histogram\"}],\"scattergl\":[{\"type\":\"scattergl\",\"marker\":{\"colorbar\":{\"outlinewidth\":0,\"ticks\":\"\"}}}],\"scatter3d\":[{\"type\":\"scatter3d\",\"line\":{\"colorbar\":{\"outlinewidth\":0,\"ticks\":\"\"}},\"marker\":{\"colorbar\":{\"outlinewidth\":0,\"ticks\":\"\"}}}],\"scattermapbox\":[{\"type\":\"scattermapbox\",\"marker\":{\"colorbar\":{\"outlinewidth\":0,\"ticks\":\"\"}}}],\"scatterternary\":[{\"type\":\"scatterternary\",\"marker\":{\"colorbar\":{\"outlinewidth\":0,\"ticks\":\"\"}}}],\"scattercarpet\":[{\"type\":\"scattercarpet\",\"marker\":{\"colorbar\":{\"outlinewidth\":0,\"ticks\":\"\"}}}],\"carpet\":[{\"aaxis\":{\"endlinecolor\":\"#2a3f5f\",\"gridcolor\":\"white\",\"linecolor\":\"white\",\"minorgridcolor\":\"white\",\"startlinecolor\":\"#2a3f5f\"},\"baxis\":{\"endlinecolor\":\"#2a3f5f\",\"gridcolor\":\"white\",\"linecolor\":\"white\",\"minorgridcolor\":\"white\",\"startlinecolor\":\"#2a3f5f\"},\"type\":\"carpet\"}],\"table\":[{\"cells\":{\"fill\":{\"color\":\"#EBF0F8\"},\"line\":{\"color\":\"white\"}},\"header\":{\"fill\":{\"color\":\"#C8D4E3\"},\"line\":{\"color\":\"white\"}},\"type\":\"table\"}],\"barpolar\":[{\"marker\":{\"line\":{\"color\":\"#E5ECF6\",\"width\":0.5},\"pattern\":{\"fillmode\":\"overlay\",\"size\":10,\"solidity\":0.2}},\"type\":\"barpolar\"}],\"pie\":[{\"automargin\":true,\"type\":\"pie\"}]},\"layout\":{\"autotypenumbers\":\"strict\",\"colorway\":[\"#636efa\",\"#EF553B\",\"#00cc96\",\"#ab63fa\",\"#FFA15A\",\"#19d3f3\",\"#FF6692\",\"#B6E880\",\"#FF97FF\",\"#FECB52\"],\"font\":{\"color\":\"#2a3f5f\"},\"hovermode\":\"closest\",\"hoverlabel\":{\"align\":\"left\"},\"paper_bgcolor\":\"white\",\"plot_bgcolor\":\"#E5ECF6\",\"polar\":{\"bgcolor\":\"#E5ECF6\",\"angularaxis\":{\"gridcolor\":\"white\",\"linecolor\":\"white\",\"ticks\":\"\"},\"radialaxis\":{\"gridcolor\":\"white\",\"linecolor\":\"white\",\"ticks\":\"\"}},\"ternary\":{\"bgcolor\":\"#E5ECF6\",\"aaxis\":{\"gridcolor\":\"white\",\"linecolor\":\"white\",\"ticks\":\"\"},\"baxis\":{\"gridcolor\":\"white\",\"linecolor\":\"white\",\"ticks\":\"\"},\"caxis\":{\"gridcolor\":\"white\",\"linecolor\":\"white\",\"ticks\":\"\"}},\"coloraxis\":{\"colorbar\":{\"outlinewidth\":0,\"ticks\":\"\"}},\"colorscale\":{\"sequential\":[[0.0,\"#0d0887\"],[0.1111111111111111,\"#46039f\"],[0.2222222222222222,\"#7201a8\"],[0.3333333333333333,\"#9c179e\"],[0.4444444444444444,\"#bd3786\"],[0.5555555555555556,\"#d8576b\"],[0.6666666666666666,\"#ed7953\"],[0.7777777777777778,\"#fb9f3a\"],[0.8888888888888888,\"#fdca26\"],[1.0,\"#f0f921\"]],\"sequentialminus\":[[0.0,\"#0d0887\"],[0.1111111111111111,\"#46039f\"],[0.2222222222222222,\"#7201a8\"],[0.3333333333333333,\"#9c179e\"],[0.4444444444444444,\"#bd3786\"],[0.5555555555555556,\"#d8576b\"],[0.6666666666666666,\"#ed7953\"],[0.7777777777777778,\"#fb9f3a\"],[0.8888888888888888,\"#fdca26\"],[1.0,\"#f0f921\"]],\"diverging\":[[0,\"#8e0152\"],[0.1,\"#c51b7d\"],[0.2,\"#de77ae\"],[0.3,\"#f1b6da\"],[0.4,\"#fde0ef\"],[0.5,\"#f7f7f7\"],[0.6,\"#e6f5d0\"],[0.7,\"#b8e186\"],[0.8,\"#7fbc41\"],[0.9,\"#4d9221\"],[1,\"#276419\"]]},\"xaxis\":{\"gridcolor\":\"white\",\"linecolor\":\"white\",\"ticks\":\"\",\"title\":{\"standoff\":15},\"zerolinecolor\":\"white\",\"automargin\":true,\"zerolinewidth\":2},\"yaxis\":{\"gridcolor\":\"white\",\"linecolor\":\"white\",\"ticks\":\"\",\"title\":{\"standoff\":15},\"zerolinecolor\":\"white\",\"automargin\":true,\"zerolinewidth\":2},\"scene\":{\"xaxis\":{\"backgroundcolor\":\"#E5ECF6\",\"gridcolor\":\"white\",\"linecolor\":\"white\",\"showbackground\":true,\"ticks\":\"\",\"zerolinecolor\":\"white\",\"gridwidth\":2},\"yaxis\":{\"backgroundcolor\":\"#E5ECF6\",\"gridcolor\":\"white\",\"linecolor\":\"white\",\"showbackground\":true,\"ticks\":\"\",\"zerolinecolor\":\"white\",\"gridwidth\":2},\"zaxis\":{\"backgroundcolor\":\"#E5ECF6\",\"gridcolor\":\"white\",\"linecolor\":\"white\",\"showbackground\":true,\"ticks\":\"\",\"zerolinecolor\":\"white\",\"gridwidth\":2}},\"shapedefaults\":{\"line\":{\"color\":\"#2a3f5f\"}},\"annotationdefaults\":{\"arrowcolor\":\"#2a3f5f\",\"arrowhead\":0,\"arrowwidth\":1},\"geo\":{\"bgcolor\":\"white\",\"landcolor\":\"#E5ECF6\",\"subunitcolor\":\"white\",\"showland\":true,\"showlakes\":true,\"lakecolor\":\"white\"},\"title\":{\"x\":0.05},\"mapbox\":{\"style\":\"light\"}}},\"xaxis\":{\"anchor\":\"y\",\"domain\":[0.0,1.0]},\"yaxis\":{\"anchor\":\"x\",\"domain\":[0.0,1.0],\"title\":{\"text\":\"Close\"}},\"legend\":{\"tracegroupgap\":0},\"margin\":{\"t\":60},\"boxmode\":\"group\"},                        {\"responsive\": true}                    ).then(function(){\n",
              "                            \n",
              "var gd = document.getElementById('f1d779c5-9a94-429b-b4d9-1d4547c4b28e');\n",
              "var x = new MutationObserver(function (mutations, observer) {{\n",
              "        var display = window.getComputedStyle(gd).display;\n",
              "        if (!display || display === 'none') {{\n",
              "            console.log([gd, 'removed!']);\n",
              "            Plotly.purge(gd);\n",
              "            observer.disconnect();\n",
              "        }}\n",
              "}});\n",
              "\n",
              "// Listen for the removal of the full notebook cells\n",
              "var notebookContainer = gd.closest('#notebook-container');\n",
              "if (notebookContainer) {{\n",
              "    x.observe(notebookContainer, {childList: true});\n",
              "}}\n",
              "\n",
              "// Listen for the clearing of the current output cell\n",
              "var outputEl = gd.closest('.output');\n",
              "if (outputEl) {{\n",
              "    x.observe(outputEl, {childList: true});\n",
              "}}\n",
              "\n",
              "                        })                };                            </script>        </div>\n",
              "</body>\n",
              "</html>"
            ]
          },
          "metadata": {}
        }
      ]
    },
    {
      "cell_type": "markdown",
      "source": [
        "===================================================================================================================<br>\n",
        "**Understand the box plot**<br>\n",
        "1) Bottom horizontal line of box plot is minimum value -min: 167.54 <br>\n",
        "2) First horizontal line of rectangle shape of box plot is First quartile or 25% -q1: 232.755<br>\n",
        "3) Second horizontal line of rectangle shape of box plot is Second quartile or 50% or median. -median: 294.96<br>\n",
        "4) Third horizontal line of rectangle shape of box plot is third quartile or 75% -q3: 330.08<br>\n",
        "5) Top horizontal line of rectangle shape of box plot is maximum value -max:420.02\n",
        "<br>===================================================================================================================<br>\n"
      ],
      "metadata": {
        "id": "yphFI0QotaWQ"
      }
    },
    {
      "cell_type": "markdown",
      "metadata": {
        "id": "kkljOEhbcmXW"
      },
      "source": [
        "# Understanding Facebook Prophet"
      ]
    },
    {
      "cell_type": "markdown",
      "metadata": {
        "id": "VXv_Vi7c9cAb"
      },
      "source": [
        "![Facebook Prophet.jpg](data:image/jpeg;base64,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)"
      ]
    },
    {
      "cell_type": "markdown",
      "metadata": {
        "id": "ASIJnLjScv9B"
      },
      "source": [
        "## Data Preperation"
      ]
    },
    {
      "cell_type": "code",
      "execution_count": 16,
      "metadata": {
        "id": "8VU3NvfDczau",
        "colab": {
          "base_uri": "https://localhost:8080/",
          "height": 424
        },
        "outputId": "a96d5667-644b-4fb5-fc00-03a2a2c9cc7c"
      },
      "outputs": [
        {
          "output_type": "execute_result",
          "data": {
            "text/plain": [
              "           Date        Open        High         Low       Close   Adj Close  \\\n",
              "0    2022-06-10  182.639999  185.860001  180.850006  182.940002  182.940002   \n",
              "1    2022-06-13  177.070007  179.089996  168.960007  169.690002  169.690002   \n",
              "2    2022-06-14  169.750000  172.059998  164.279999  167.539993  167.539993   \n",
              "3    2022-06-15  169.259995  183.850006  168.529999  180.110001  180.110001   \n",
              "4    2022-06-16  174.000000  176.270004  171.559998  173.350006  173.350006   \n",
              "..          ...         ...         ...         ...         ...         ...   \n",
              "246  2023-06-05  400.470001  413.859985  400.149994  403.540009  403.540009   \n",
              "247  2023-06-06  405.000000  405.119995  396.929993  399.290009  399.290009   \n",
              "248  2023-06-07  410.429993  418.950012  399.230011  399.769989  399.769989   \n",
              "249  2023-06-08  399.769989  409.540009  396.339996  409.369995  409.369995   \n",
              "250  2023-06-09  424.500000  425.899994  414.760010  420.019989  420.019989   \n",
              "\n",
              "       Volume  \n",
              "0    13065600  \n",
              "1    10222400  \n",
              "2    11555300  \n",
              "3    12396000  \n",
              "4     8201300  \n",
              "..        ...  \n",
              "246   7247400  \n",
              "247   4991500  \n",
              "248  11932400  \n",
              "249   5991100  \n",
              "250  12363000  \n",
              "\n",
              "[251 rows x 7 columns]"
            ],
            "text/html": [
              "\n",
              "  <div id=\"df-657bf45c-dc50-41fe-980f-575958f0a61f\">\n",
              "    <div class=\"colab-df-container\">\n",
              "      <div>\n",
              "<style scoped>\n",
              "    .dataframe tbody tr th:only-of-type {\n",
              "        vertical-align: middle;\n",
              "    }\n",
              "\n",
              "    .dataframe tbody tr th {\n",
              "        vertical-align: top;\n",
              "    }\n",
              "\n",
              "    .dataframe thead th {\n",
              "        text-align: right;\n",
              "    }\n",
              "</style>\n",
              "<table border=\"1\" class=\"dataframe\">\n",
              "  <thead>\n",
              "    <tr style=\"text-align: right;\">\n",
              "      <th></th>\n",
              "      <th>Date</th>\n",
              "      <th>Open</th>\n",
              "      <th>High</th>\n",
              "      <th>Low</th>\n",
              "      <th>Close</th>\n",
              "      <th>Adj Close</th>\n",
              "      <th>Volume</th>\n",
              "    </tr>\n",
              "  </thead>\n",
              "  <tbody>\n",
              "    <tr>\n",
              "      <th>0</th>\n",
              "      <td>2022-06-10</td>\n",
              "      <td>182.639999</td>\n",
              "      <td>185.860001</td>\n",
              "      <td>180.850006</td>\n",
              "      <td>182.940002</td>\n",
              "      <td>182.940002</td>\n",
              "      <td>13065600</td>\n",
              "    </tr>\n",
              "    <tr>\n",
              "      <th>1</th>\n",
              "      <td>2022-06-13</td>\n",
              "      <td>177.070007</td>\n",
              "      <td>179.089996</td>\n",
              "      <td>168.960007</td>\n",
              "      <td>169.690002</td>\n",
              "      <td>169.690002</td>\n",
              "      <td>10222400</td>\n",
              "    </tr>\n",
              "    <tr>\n",
              "      <th>2</th>\n",
              "      <td>2022-06-14</td>\n",
              "      <td>169.750000</td>\n",
              "      <td>172.059998</td>\n",
              "      <td>164.279999</td>\n",
              "      <td>167.539993</td>\n",
              "      <td>167.539993</td>\n",
              "      <td>11555300</td>\n",
              "    </tr>\n",
              "    <tr>\n",
              "      <th>3</th>\n",
              "      <td>2022-06-15</td>\n",
              "      <td>169.259995</td>\n",
              "      <td>183.850006</td>\n",
              "      <td>168.529999</td>\n",
              "      <td>180.110001</td>\n",
              "      <td>180.110001</td>\n",
              "      <td>12396000</td>\n",
              "    </tr>\n",
              "    <tr>\n",
              "      <th>4</th>\n",
              "      <td>2022-06-16</td>\n",
              "      <td>174.000000</td>\n",
              "      <td>176.270004</td>\n",
              "      <td>171.559998</td>\n",
              "      <td>173.350006</td>\n",
              "      <td>173.350006</td>\n",
              "      <td>8201300</td>\n",
              "    </tr>\n",
              "    <tr>\n",
              "      <th>...</th>\n",
              "      <td>...</td>\n",
              "      <td>...</td>\n",
              "      <td>...</td>\n",
              "      <td>...</td>\n",
              "      <td>...</td>\n",
              "      <td>...</td>\n",
              "      <td>...</td>\n",
              "    </tr>\n",
              "    <tr>\n",
              "      <th>246</th>\n",
              "      <td>2023-06-05</td>\n",
              "      <td>400.470001</td>\n",
              "      <td>413.859985</td>\n",
              "      <td>400.149994</td>\n",
              "      <td>403.540009</td>\n",
              "      <td>403.540009</td>\n",
              "      <td>7247400</td>\n",
              "    </tr>\n",
              "    <tr>\n",
              "      <th>247</th>\n",
              "      <td>2023-06-06</td>\n",
              "      <td>405.000000</td>\n",
              "      <td>405.119995</td>\n",
              "      <td>396.929993</td>\n",
              "      <td>399.290009</td>\n",
              "      <td>399.290009</td>\n",
              "      <td>4991500</td>\n",
              "    </tr>\n",
              "    <tr>\n",
              "      <th>248</th>\n",
              "      <td>2023-06-07</td>\n",
              "      <td>410.429993</td>\n",
              "      <td>418.950012</td>\n",
              "      <td>399.230011</td>\n",
              "      <td>399.769989</td>\n",
              "      <td>399.769989</td>\n",
              "      <td>11932400</td>\n",
              "    </tr>\n",
              "    <tr>\n",
              "      <th>249</th>\n",
              "      <td>2023-06-08</td>\n",
              "      <td>399.769989</td>\n",
              "      <td>409.540009</td>\n",
              "      <td>396.339996</td>\n",
              "      <td>409.369995</td>\n",
              "      <td>409.369995</td>\n",
              "      <td>5991100</td>\n",
              "    </tr>\n",
              "    <tr>\n",
              "      <th>250</th>\n",
              "      <td>2023-06-09</td>\n",
              "      <td>424.500000</td>\n",
              "      <td>425.899994</td>\n",
              "      <td>414.760010</td>\n",
              "      <td>420.019989</td>\n",
              "      <td>420.019989</td>\n",
              "      <td>12363000</td>\n",
              "    </tr>\n",
              "  </tbody>\n",
              "</table>\n",
              "<p>251 rows × 7 columns</p>\n",
              "</div>\n",
              "      <button class=\"colab-df-convert\" onclick=\"convertToInteractive('df-657bf45c-dc50-41fe-980f-575958f0a61f')\"\n",
              "              title=\"Convert this dataframe to an interactive table.\"\n",
              "              style=\"display:none;\">\n",
              "        \n",
              "  <svg xmlns=\"http://www.w3.org/2000/svg\" height=\"24px\"viewBox=\"0 0 24 24\"\n",
              "       width=\"24px\">\n",
              "    <path d=\"M0 0h24v24H0V0z\" fill=\"none\"/>\n",
              "    <path d=\"M18.56 5.44l.94 2.06.94-2.06 2.06-.94-2.06-.94-.94-2.06-.94 2.06-2.06.94zm-11 1L8.5 8.5l.94-2.06 2.06-.94-2.06-.94L8.5 2.5l-.94 2.06-2.06.94zm10 10l.94 2.06.94-2.06 2.06-.94-2.06-.94-.94-2.06-.94 2.06-2.06.94z\"/><path d=\"M17.41 7.96l-1.37-1.37c-.4-.4-.92-.59-1.43-.59-.52 0-1.04.2-1.43.59L10.3 9.45l-7.72 7.72c-.78.78-.78 2.05 0 2.83L4 21.41c.39.39.9.59 1.41.59.51 0 1.02-.2 1.41-.59l7.78-7.78 2.81-2.81c.8-.78.8-2.07 0-2.86zM5.41 20L4 18.59l7.72-7.72 1.47 1.35L5.41 20z\"/>\n",
              "  </svg>\n",
              "      </button>\n",
              "      \n",
              "  <style>\n",
              "    .colab-df-container {\n",
              "      display:flex;\n",
              "      flex-wrap:wrap;\n",
              "      gap: 12px;\n",
              "    }\n",
              "\n",
              "    .colab-df-convert {\n",
              "      background-color: #E8F0FE;\n",
              "      border: none;\n",
              "      border-radius: 50%;\n",
              "      cursor: pointer;\n",
              "      display: none;\n",
              "      fill: #1967D2;\n",
              "      height: 32px;\n",
              "      padding: 0 0 0 0;\n",
              "      width: 32px;\n",
              "    }\n",
              "\n",
              "    .colab-df-convert:hover {\n",
              "      background-color: #E2EBFA;\n",
              "      box-shadow: 0px 1px 2px rgba(60, 64, 67, 0.3), 0px 1px 3px 1px rgba(60, 64, 67, 0.15);\n",
              "      fill: #174EA6;\n",
              "    }\n",
              "\n",
              "    [theme=dark] .colab-df-convert {\n",
              "      background-color: #3B4455;\n",
              "      fill: #D2E3FC;\n",
              "    }\n",
              "\n",
              "    [theme=dark] .colab-df-convert:hover {\n",
              "      background-color: #434B5C;\n",
              "      box-shadow: 0px 1px 3px 1px rgba(0, 0, 0, 0.15);\n",
              "      filter: drop-shadow(0px 1px 2px rgba(0, 0, 0, 0.3));\n",
              "      fill: #FFFFFF;\n",
              "    }\n",
              "  </style>\n",
              "\n",
              "      <script>\n",
              "        const buttonEl =\n",
              "          document.querySelector('#df-657bf45c-dc50-41fe-980f-575958f0a61f button.colab-df-convert');\n",
              "        buttonEl.style.display =\n",
              "          google.colab.kernel.accessAllowed ? 'block' : 'none';\n",
              "\n",
              "        async function convertToInteractive(key) {\n",
              "          const element = document.querySelector('#df-657bf45c-dc50-41fe-980f-575958f0a61f');\n",
              "          const dataTable =\n",
              "            await google.colab.kernel.invokeFunction('convertToInteractive',\n",
              "                                                     [key], {});\n",
              "          if (!dataTable) return;\n",
              "\n",
              "          const docLinkHtml = 'Like what you see? Visit the ' +\n",
              "            '<a target=\"_blank\" href=https://colab.research.google.com/notebooks/data_table.ipynb>data table notebook</a>'\n",
              "            + ' to learn more about interactive tables.';\n",
              "          element.innerHTML = '';\n",
              "          dataTable['output_type'] = 'display_data';\n",
              "          await google.colab.output.renderOutput(dataTable, element);\n",
              "          const docLink = document.createElement('div');\n",
              "          docLink.innerHTML = docLinkHtml;\n",
              "          element.appendChild(docLink);\n",
              "        }\n",
              "      </script>\n",
              "    </div>\n",
              "  </div>\n",
              "  "
            ]
          },
          "metadata": {},
          "execution_count": 16
        }
      ],
      "source": [
        "df"
      ]
    },
    {
      "cell_type": "markdown",
      "source": [
        "**Based on Investopedia-Stock Market Terms**<br>\n",
        "=A bar chart visually depicts the open, high, low, and close prices of an asset or security over a specified period of time.<br>\n",
        "=The vertical line on a price bar represents the high and low prices for the period.<br>\n",
        "=The left and right horizontal lines on each price bar represent the open and closing prices.<br>\n",
        "=Bar charts can be colored coded where if the close is above the open it may be colored black or green, and if the close is below the open the bar may be colored red.<br>"
      ],
      "metadata": {
        "id": "PT_lyq1fAXuC"
      }
    },
    {
      "cell_type": "code",
      "source": [
        "%%html\n",
        "<iframe src=\"https://drive.google.com/file/d/1ykaO-jPp18MeGIeO_ipf2x_H8866lbiX/preview\" width=\"650\" height=\"350\" allow=\"autoplay\"></iframe>"
      ],
      "metadata": {
        "colab": {
          "base_uri": "https://localhost:8080/",
          "height": 375
        },
        "id": "lmwKExZMNmlO",
        "outputId": "c82b3e3d-e5ea-49cf-c959-d0d54118eac3"
      },
      "execution_count": 17,
      "outputs": [
        {
          "output_type": "display_data",
          "data": {
            "text/plain": [
              "<IPython.core.display.HTML object>"
            ],
            "text/html": [
              "<iframe src=\"https://drive.google.com/file/d/1ykaO-jPp18MeGIeO_ipf2x_H8866lbiX/preview\" width=\"650\" height=\"350\" allow=\"autoplay\"></iframe>\n"
            ]
          },
          "metadata": {}
        }
      ]
    },
    {
      "cell_type": "markdown",
      "source": [
        "Picture above shows the trades prices on daily basis, source: Yahoo Finance <br><br>\n",
        "Prophet only needs two columns which are **ds for date and y for price**. In our case, the price is from column named Close."
      ],
      "metadata": {
        "id": "qq6C-S5STqW4"
      }
    },
    {
      "cell_type": "code",
      "execution_count": 18,
      "metadata": {
        "id": "sO8g9RCI95Xe"
      },
      "outputs": [],
      "source": [
        "  columns=['Date','Close']\n",
        "  ndf=pd.DataFrame(df,columns=columns)"
      ]
    },
    {
      "cell_type": "code",
      "source": [
        "ndf"
      ],
      "metadata": {
        "colab": {
          "base_uri": "https://localhost:8080/",
          "height": 424
        },
        "id": "ywxF_KGGGVT5",
        "outputId": "9072ba46-d143-4281-c257-91ebc7466b57"
      },
      "execution_count": 19,
      "outputs": [
        {
          "output_type": "execute_result",
          "data": {
            "text/plain": [
              "           Date       Close\n",
              "0    2022-06-10  182.940002\n",
              "1    2022-06-13  169.690002\n",
              "2    2022-06-14  167.539993\n",
              "3    2022-06-15  180.110001\n",
              "4    2022-06-16  173.350006\n",
              "..          ...         ...\n",
              "246  2023-06-05  403.540009\n",
              "247  2023-06-06  399.290009\n",
              "248  2023-06-07  399.769989\n",
              "249  2023-06-08  409.369995\n",
              "250  2023-06-09  420.019989\n",
              "\n",
              "[251 rows x 2 columns]"
            ],
            "text/html": [
              "\n",
              "  <div id=\"df-9bfdd93e-527e-44e3-a1fd-744010750dbe\">\n",
              "    <div class=\"colab-df-container\">\n",
              "      <div>\n",
              "<style scoped>\n",
              "    .dataframe tbody tr th:only-of-type {\n",
              "        vertical-align: middle;\n",
              "    }\n",
              "\n",
              "    .dataframe tbody tr th {\n",
              "        vertical-align: top;\n",
              "    }\n",
              "\n",
              "    .dataframe thead th {\n",
              "        text-align: right;\n",
              "    }\n",
              "</style>\n",
              "<table border=\"1\" class=\"dataframe\">\n",
              "  <thead>\n",
              "    <tr style=\"text-align: right;\">\n",
              "      <th></th>\n",
              "      <th>Date</th>\n",
              "      <th>Close</th>\n",
              "    </tr>\n",
              "  </thead>\n",
              "  <tbody>\n",
              "    <tr>\n",
              "      <th>0</th>\n",
              "      <td>2022-06-10</td>\n",
              "      <td>182.940002</td>\n",
              "    </tr>\n",
              "    <tr>\n",
              "      <th>1</th>\n",
              "      <td>2022-06-13</td>\n",
              "      <td>169.690002</td>\n",
              "    </tr>\n",
              "    <tr>\n",
              "      <th>2</th>\n",
              "      <td>2022-06-14</td>\n",
              "      <td>167.539993</td>\n",
              "    </tr>\n",
              "    <tr>\n",
              "      <th>3</th>\n",
              "      <td>2022-06-15</td>\n",
              "      <td>180.110001</td>\n",
              "    </tr>\n",
              "    <tr>\n",
              "      <th>4</th>\n",
              "      <td>2022-06-16</td>\n",
              "      <td>173.350006</td>\n",
              "    </tr>\n",
              "    <tr>\n",
              "      <th>...</th>\n",
              "      <td>...</td>\n",
              "      <td>...</td>\n",
              "    </tr>\n",
              "    <tr>\n",
              "      <th>246</th>\n",
              "      <td>2023-06-05</td>\n",
              "      <td>403.540009</td>\n",
              "    </tr>\n",
              "    <tr>\n",
              "      <th>247</th>\n",
              "      <td>2023-06-06</td>\n",
              "      <td>399.290009</td>\n",
              "    </tr>\n",
              "    <tr>\n",
              "      <th>248</th>\n",
              "      <td>2023-06-07</td>\n",
              "      <td>399.769989</td>\n",
              "    </tr>\n",
              "    <tr>\n",
              "      <th>249</th>\n",
              "      <td>2023-06-08</td>\n",
              "      <td>409.369995</td>\n",
              "    </tr>\n",
              "    <tr>\n",
              "      <th>250</th>\n",
              "      <td>2023-06-09</td>\n",
              "      <td>420.019989</td>\n",
              "    </tr>\n",
              "  </tbody>\n",
              "</table>\n",
              "<p>251 rows × 2 columns</p>\n",
              "</div>\n",
              "      <button class=\"colab-df-convert\" onclick=\"convertToInteractive('df-9bfdd93e-527e-44e3-a1fd-744010750dbe')\"\n",
              "              title=\"Convert this dataframe to an interactive table.\"\n",
              "              style=\"display:none;\">\n",
              "        \n",
              "  <svg xmlns=\"http://www.w3.org/2000/svg\" height=\"24px\"viewBox=\"0 0 24 24\"\n",
              "       width=\"24px\">\n",
              "    <path d=\"M0 0h24v24H0V0z\" fill=\"none\"/>\n",
              "    <path d=\"M18.56 5.44l.94 2.06.94-2.06 2.06-.94-2.06-.94-.94-2.06-.94 2.06-2.06.94zm-11 1L8.5 8.5l.94-2.06 2.06-.94-2.06-.94L8.5 2.5l-.94 2.06-2.06.94zm10 10l.94 2.06.94-2.06 2.06-.94-2.06-.94-.94-2.06-.94 2.06-2.06.94z\"/><path d=\"M17.41 7.96l-1.37-1.37c-.4-.4-.92-.59-1.43-.59-.52 0-1.04.2-1.43.59L10.3 9.45l-7.72 7.72c-.78.78-.78 2.05 0 2.83L4 21.41c.39.39.9.59 1.41.59.51 0 1.02-.2 1.41-.59l7.78-7.78 2.81-2.81c.8-.78.8-2.07 0-2.86zM5.41 20L4 18.59l7.72-7.72 1.47 1.35L5.41 20z\"/>\n",
              "  </svg>\n",
              "      </button>\n",
              "      \n",
              "  <style>\n",
              "    .colab-df-container {\n",
              "      display:flex;\n",
              "      flex-wrap:wrap;\n",
              "      gap: 12px;\n",
              "    }\n",
              "\n",
              "    .colab-df-convert {\n",
              "      background-color: #E8F0FE;\n",
              "      border: none;\n",
              "      border-radius: 50%;\n",
              "      cursor: pointer;\n",
              "      display: none;\n",
              "      fill: #1967D2;\n",
              "      height: 32px;\n",
              "      padding: 0 0 0 0;\n",
              "      width: 32px;\n",
              "    }\n",
              "\n",
              "    .colab-df-convert:hover {\n",
              "      background-color: #E2EBFA;\n",
              "      box-shadow: 0px 1px 2px rgba(60, 64, 67, 0.3), 0px 1px 3px 1px rgba(60, 64, 67, 0.15);\n",
              "      fill: #174EA6;\n",
              "    }\n",
              "\n",
              "    [theme=dark] .colab-df-convert {\n",
              "      background-color: #3B4455;\n",
              "      fill: #D2E3FC;\n",
              "    }\n",
              "\n",
              "    [theme=dark] .colab-df-convert:hover {\n",
              "      background-color: #434B5C;\n",
              "      box-shadow: 0px 1px 3px 1px rgba(0, 0, 0, 0.15);\n",
              "      filter: drop-shadow(0px 1px 2px rgba(0, 0, 0, 0.3));\n",
              "      fill: #FFFFFF;\n",
              "    }\n",
              "  </style>\n",
              "\n",
              "      <script>\n",
              "        const buttonEl =\n",
              "          document.querySelector('#df-9bfdd93e-527e-44e3-a1fd-744010750dbe button.colab-df-convert');\n",
              "        buttonEl.style.display =\n",
              "          google.colab.kernel.accessAllowed ? 'block' : 'none';\n",
              "\n",
              "        async function convertToInteractive(key) {\n",
              "          const element = document.querySelector('#df-9bfdd93e-527e-44e3-a1fd-744010750dbe');\n",
              "          const dataTable =\n",
              "            await google.colab.kernel.invokeFunction('convertToInteractive',\n",
              "                                                     [key], {});\n",
              "          if (!dataTable) return;\n",
              "\n",
              "          const docLinkHtml = 'Like what you see? Visit the ' +\n",
              "            '<a target=\"_blank\" href=https://colab.research.google.com/notebooks/data_table.ipynb>data table notebook</a>'\n",
              "            + ' to learn more about interactive tables.';\n",
              "          element.innerHTML = '';\n",
              "          dataTable['output_type'] = 'display_data';\n",
              "          await google.colab.output.renderOutput(dataTable, element);\n",
              "          const docLink = document.createElement('div');\n",
              "          docLink.innerHTML = docLinkHtml;\n",
              "          element.appendChild(docLink);\n",
              "        }\n",
              "      </script>\n",
              "    </div>\n",
              "  </div>\n",
              "  "
            ]
          },
          "metadata": {},
          "execution_count": 19
        }
      ]
    },
    {
      "cell_type": "code",
      "source": [
        "# Change the columns name so that Prophet can understand\n",
        "prophet_df=ndf.rename(columns={'Date':'ds', 'Close':'y'})\n",
        "prophet_df"
      ],
      "metadata": {
        "colab": {
          "base_uri": "https://localhost:8080/",
          "height": 424
        },
        "id": "0fK-eksvGbp8",
        "outputId": "ce895c22-bd45-460b-8755-9d9761563e4c"
      },
      "execution_count": 20,
      "outputs": [
        {
          "output_type": "execute_result",
          "data": {
            "text/plain": [
              "             ds           y\n",
              "0    2022-06-10  182.940002\n",
              "1    2022-06-13  169.690002\n",
              "2    2022-06-14  167.539993\n",
              "3    2022-06-15  180.110001\n",
              "4    2022-06-16  173.350006\n",
              "..          ...         ...\n",
              "246  2023-06-05  403.540009\n",
              "247  2023-06-06  399.290009\n",
              "248  2023-06-07  399.769989\n",
              "249  2023-06-08  409.369995\n",
              "250  2023-06-09  420.019989\n",
              "\n",
              "[251 rows x 2 columns]"
            ],
            "text/html": [
              "\n",
              "  <div id=\"df-9e118390-e33a-4e14-bc94-ca147f577df0\">\n",
              "    <div class=\"colab-df-container\">\n",
              "      <div>\n",
              "<style scoped>\n",
              "    .dataframe tbody tr th:only-of-type {\n",
              "        vertical-align: middle;\n",
              "    }\n",
              "\n",
              "    .dataframe tbody tr th {\n",
              "        vertical-align: top;\n",
              "    }\n",
              "\n",
              "    .dataframe thead th {\n",
              "        text-align: right;\n",
              "    }\n",
              "</style>\n",
              "<table border=\"1\" class=\"dataframe\">\n",
              "  <thead>\n",
              "    <tr style=\"text-align: right;\">\n",
              "      <th></th>\n",
              "      <th>ds</th>\n",
              "      <th>y</th>\n",
              "    </tr>\n",
              "  </thead>\n",
              "  <tbody>\n",
              "    <tr>\n",
              "      <th>0</th>\n",
              "      <td>2022-06-10</td>\n",
              "      <td>182.940002</td>\n",
              "    </tr>\n",
              "    <tr>\n",
              "      <th>1</th>\n",
              "      <td>2022-06-13</td>\n",
              "      <td>169.690002</td>\n",
              "    </tr>\n",
              "    <tr>\n",
              "      <th>2</th>\n",
              "      <td>2022-06-14</td>\n",
              "      <td>167.539993</td>\n",
              "    </tr>\n",
              "    <tr>\n",
              "      <th>3</th>\n",
              "      <td>2022-06-15</td>\n",
              "      <td>180.110001</td>\n",
              "    </tr>\n",
              "    <tr>\n",
              "      <th>4</th>\n",
              "      <td>2022-06-16</td>\n",
              "      <td>173.350006</td>\n",
              "    </tr>\n",
              "    <tr>\n",
              "      <th>...</th>\n",
              "      <td>...</td>\n",
              "      <td>...</td>\n",
              "    </tr>\n",
              "    <tr>\n",
              "      <th>246</th>\n",
              "      <td>2023-06-05</td>\n",
              "      <td>403.540009</td>\n",
              "    </tr>\n",
              "    <tr>\n",
              "      <th>247</th>\n",
              "      <td>2023-06-06</td>\n",
              "      <td>399.290009</td>\n",
              "    </tr>\n",
              "    <tr>\n",
              "      <th>248</th>\n",
              "      <td>2023-06-07</td>\n",
              "      <td>399.769989</td>\n",
              "    </tr>\n",
              "    <tr>\n",
              "      <th>249</th>\n",
              "      <td>2023-06-08</td>\n",
              "      <td>409.369995</td>\n",
              "    </tr>\n",
              "    <tr>\n",
              "      <th>250</th>\n",
              "      <td>2023-06-09</td>\n",
              "      <td>420.019989</td>\n",
              "    </tr>\n",
              "  </tbody>\n",
              "</table>\n",
              "<p>251 rows × 2 columns</p>\n",
              "</div>\n",
              "      <button class=\"colab-df-convert\" onclick=\"convertToInteractive('df-9e118390-e33a-4e14-bc94-ca147f577df0')\"\n",
              "              title=\"Convert this dataframe to an interactive table.\"\n",
              "              style=\"display:none;\">\n",
              "        \n",
              "  <svg xmlns=\"http://www.w3.org/2000/svg\" height=\"24px\"viewBox=\"0 0 24 24\"\n",
              "       width=\"24px\">\n",
              "    <path d=\"M0 0h24v24H0V0z\" fill=\"none\"/>\n",
              "    <path d=\"M18.56 5.44l.94 2.06.94-2.06 2.06-.94-2.06-.94-.94-2.06-.94 2.06-2.06.94zm-11 1L8.5 8.5l.94-2.06 2.06-.94-2.06-.94L8.5 2.5l-.94 2.06-2.06.94zm10 10l.94 2.06.94-2.06 2.06-.94-2.06-.94-.94-2.06-.94 2.06-2.06.94z\"/><path d=\"M17.41 7.96l-1.37-1.37c-.4-.4-.92-.59-1.43-.59-.52 0-1.04.2-1.43.59L10.3 9.45l-7.72 7.72c-.78.78-.78 2.05 0 2.83L4 21.41c.39.39.9.59 1.41.59.51 0 1.02-.2 1.41-.59l7.78-7.78 2.81-2.81c.8-.78.8-2.07 0-2.86zM5.41 20L4 18.59l7.72-7.72 1.47 1.35L5.41 20z\"/>\n",
              "  </svg>\n",
              "      </button>\n",
              "      \n",
              "  <style>\n",
              "    .colab-df-container {\n",
              "      display:flex;\n",
              "      flex-wrap:wrap;\n",
              "      gap: 12px;\n",
              "    }\n",
              "\n",
              "    .colab-df-convert {\n",
              "      background-color: #E8F0FE;\n",
              "      border: none;\n",
              "      border-radius: 50%;\n",
              "      cursor: pointer;\n",
              "      display: none;\n",
              "      fill: #1967D2;\n",
              "      height: 32px;\n",
              "      padding: 0 0 0 0;\n",
              "      width: 32px;\n",
              "    }\n",
              "\n",
              "    .colab-df-convert:hover {\n",
              "      background-color: #E2EBFA;\n",
              "      box-shadow: 0px 1px 2px rgba(60, 64, 67, 0.3), 0px 1px 3px 1px rgba(60, 64, 67, 0.15);\n",
              "      fill: #174EA6;\n",
              "    }\n",
              "\n",
              "    [theme=dark] .colab-df-convert {\n",
              "      background-color: #3B4455;\n",
              "      fill: #D2E3FC;\n",
              "    }\n",
              "\n",
              "    [theme=dark] .colab-df-convert:hover {\n",
              "      background-color: #434B5C;\n",
              "      box-shadow: 0px 1px 3px 1px rgba(0, 0, 0, 0.15);\n",
              "      filter: drop-shadow(0px 1px 2px rgba(0, 0, 0, 0.3));\n",
              "      fill: #FFFFFF;\n",
              "    }\n",
              "  </style>\n",
              "\n",
              "      <script>\n",
              "        const buttonEl =\n",
              "          document.querySelector('#df-9e118390-e33a-4e14-bc94-ca147f577df0 button.colab-df-convert');\n",
              "        buttonEl.style.display =\n",
              "          google.colab.kernel.accessAllowed ? 'block' : 'none';\n",
              "\n",
              "        async function convertToInteractive(key) {\n",
              "          const element = document.querySelector('#df-9e118390-e33a-4e14-bc94-ca147f577df0');\n",
              "          const dataTable =\n",
              "            await google.colab.kernel.invokeFunction('convertToInteractive',\n",
              "                                                     [key], {});\n",
              "          if (!dataTable) return;\n",
              "\n",
              "          const docLinkHtml = 'Like what you see? Visit the ' +\n",
              "            '<a target=\"_blank\" href=https://colab.research.google.com/notebooks/data_table.ipynb>data table notebook</a>'\n",
              "            + ' to learn more about interactive tables.';\n",
              "          element.innerHTML = '';\n",
              "          dataTable['output_type'] = 'display_data';\n",
              "          await google.colab.output.renderOutput(dataTable, element);\n",
              "          const docLink = document.createElement('div');\n",
              "          docLink.innerHTML = docLinkHtml;\n",
              "          element.appendChild(docLink);\n",
              "        }\n",
              "      </script>\n",
              "    </div>\n",
              "  </div>\n",
              "  "
            ]
          },
          "metadata": {},
          "execution_count": 20
        }
      ]
    },
    {
      "cell_type": "markdown",
      "metadata": {
        "id": "j57-ly4Jc5va"
      },
      "source": [
        "## Creating Facebook Prophet Model"
      ]
    },
    {
      "cell_type": "code",
      "execution_count": 21,
      "metadata": {
        "id": "GdFXAfTFc7iw",
        "colab": {
          "base_uri": "https://localhost:8080/"
        },
        "outputId": "2094b453-1ab7-420a-f1f3-91aadbf9d779"
      },
      "outputs": [
        {
          "output_type": "stream",
          "name": "stderr",
          "text": [
            "INFO:prophet:Disabling yearly seasonality. Run prophet with yearly_seasonality=True to override this.\n",
            "INFO:prophet:Disabling daily seasonality. Run prophet with daily_seasonality=True to override this.\n",
            "DEBUG:cmdstanpy:input tempfile: /tmp/tmpcnyhf5q0/2jcvfkr_.json\n",
            "DEBUG:cmdstanpy:input tempfile: /tmp/tmpcnyhf5q0/a0zo51fb.json\n",
            "DEBUG:cmdstanpy:idx 0\n",
            "DEBUG:cmdstanpy:running CmdStan, num_threads: None\n",
            "DEBUG:cmdstanpy:CmdStan args: ['/usr/local/lib/python3.10/dist-packages/prophet/stan_model/prophet_model.bin', 'random', 'seed=64848', 'data', 'file=/tmp/tmpcnyhf5q0/2jcvfkr_.json', 'init=/tmp/tmpcnyhf5q0/a0zo51fb.json', 'output', 'file=/tmp/tmpcnyhf5q0/prophet_modelmnssnz5q/prophet_model-20230629145125.csv', 'method=optimize', 'algorithm=lbfgs', 'iter=10000']\n",
            "14:51:25 - cmdstanpy - INFO - Chain [1] start processing\n",
            "INFO:cmdstanpy:Chain [1] start processing\n",
            "14:51:25 - cmdstanpy - INFO - Chain [1] done processing\n",
            "INFO:cmdstanpy:Chain [1] done processing\n"
          ]
        },
        {
          "output_type": "execute_result",
          "data": {
            "text/plain": [
              "<prophet.forecaster.Prophet at 0x7f8b9793f4f0>"
            ]
          },
          "metadata": {},
          "execution_count": 21
        }
      ],
      "source": [
        "m=Prophet()\n",
        "m.fit(prophet_df) #fitted the data into model"
      ]
    },
    {
      "cell_type": "markdown",
      "metadata": {
        "id": "T-0eY9xOdA4S"
      },
      "source": [
        "##Forecasting"
      ]
    },
    {
      "cell_type": "markdown",
      "source": [
        "We are going to forecast the price of Netflix\n",
        "30 days into the future.Create a dataframe \"Future\" with \"m\" represents Prophet."
      ],
      "metadata": {
        "id": "7_7iqmbLVfy9"
      }
    },
    {
      "cell_type": "code",
      "execution_count": 22,
      "metadata": {
        "id": "qGPpV0kmdCjh"
      },
      "outputs": [],
      "source": [
        "future = m.make_future_dataframe(periods=30)\n",
        "forecast = m.predict(future)"
      ]
    },
    {
      "cell_type": "code",
      "execution_count": 23,
      "metadata": {
        "id": "JzPozfvMDUUX",
        "colab": {
          "base_uri": "https://localhost:8080/",
          "height": 661
        },
        "outputId": "34ce237f-8490-4eab-80ff-aecd8bd432b9"
      },
      "outputs": [
        {
          "output_type": "execute_result",
          "data": {
            "text/plain": [
              "            ds       trend  yhat_lower  yhat_upper  trend_lower  trend_upper  \\\n",
              "0   2022-06-10  175.620018  150.919165  200.064140   175.620018   175.620018   \n",
              "1   2022-06-13  177.689213  152.187567  200.636102   177.689213   177.689213   \n",
              "2   2022-06-14  178.378945  147.810293  198.940625   178.378945   178.378945   \n",
              "3   2022-06-15  179.068676  152.175165  203.426376   179.068676   179.068676   \n",
              "4   2022-06-16  179.758408  153.900634  204.448077   179.758408   179.758408   \n",
              "..         ...         ...         ...         ...          ...          ...   \n",
              "276 2023-07-05  386.492863  362.123311  408.868180   384.964272   388.021335   \n",
              "277 2023-07-06  387.052230  361.962260  411.141290   385.467438   388.678822   \n",
              "278 2023-07-07  387.611597  364.135421  411.205278   385.938337   389.329253   \n",
              "279 2023-07-08  388.170964  366.639506  416.212152   386.379734   389.972242   \n",
              "280 2023-07-09  388.730332  368.447171  418.072163   386.902200   390.627698   \n",
              "\n",
              "     additive_terms  additive_terms_lower  additive_terms_upper    weekly  \\\n",
              "0          0.496611              0.496611              0.496611  0.496611   \n",
              "1         -1.939909             -1.939909             -1.939909 -1.939909   \n",
              "2         -4.249491             -4.249491             -4.249491 -4.249491   \n",
              "3         -1.380050             -1.380050             -1.380050 -1.380050   \n",
              "4          0.049580              0.049580              0.049580  0.049580   \n",
              "..              ...                   ...                   ...       ...   \n",
              "276       -1.380050             -1.380050             -1.380050 -1.380050   \n",
              "277        0.049580              0.049580              0.049580  0.049580   \n",
              "278        0.496611              0.496611              0.496611  0.496611   \n",
              "279        3.511629              3.511629              3.511629  3.511629   \n",
              "280        3.511630              3.511630              3.511630  3.511630   \n",
              "\n",
              "     weekly_lower  weekly_upper  multiplicative_terms  \\\n",
              "0        0.496611      0.496611                   0.0   \n",
              "1       -1.939909     -1.939909                   0.0   \n",
              "2       -4.249491     -4.249491                   0.0   \n",
              "3       -1.380050     -1.380050                   0.0   \n",
              "4        0.049580      0.049580                   0.0   \n",
              "..            ...           ...                   ...   \n",
              "276     -1.380050     -1.380050                   0.0   \n",
              "277      0.049580      0.049580                   0.0   \n",
              "278      0.496611      0.496611                   0.0   \n",
              "279      3.511629      3.511629                   0.0   \n",
              "280      3.511630      3.511630                   0.0   \n",
              "\n",
              "     multiplicative_terms_lower  multiplicative_terms_upper        yhat  \n",
              "0                           0.0                         0.0  176.116629  \n",
              "1                           0.0                         0.0  175.749304  \n",
              "2                           0.0                         0.0  174.129453  \n",
              "3                           0.0                         0.0  177.688627  \n",
              "4                           0.0                         0.0  179.807988  \n",
              "..                          ...                         ...         ...  \n",
              "276                         0.0                         0.0  385.112813  \n",
              "277                         0.0                         0.0  387.101810  \n",
              "278                         0.0                         0.0  388.108208  \n",
              "279                         0.0                         0.0  391.682593  \n",
              "280                         0.0                         0.0  392.241962  \n",
              "\n",
              "[281 rows x 16 columns]"
            ],
            "text/html": [
              "\n",
              "  <div id=\"df-3a76a44a-a2fa-4474-a78b-6c1653a1e530\">\n",
              "    <div class=\"colab-df-container\">\n",
              "      <div>\n",
              "<style scoped>\n",
              "    .dataframe tbody tr th:only-of-type {\n",
              "        vertical-align: middle;\n",
              "    }\n",
              "\n",
              "    .dataframe tbody tr th {\n",
              "        vertical-align: top;\n",
              "    }\n",
              "\n",
              "    .dataframe thead th {\n",
              "        text-align: right;\n",
              "    }\n",
              "</style>\n",
              "<table border=\"1\" class=\"dataframe\">\n",
              "  <thead>\n",
              "    <tr style=\"text-align: right;\">\n",
              "      <th></th>\n",
              "      <th>ds</th>\n",
              "      <th>trend</th>\n",
              "      <th>yhat_lower</th>\n",
              "      <th>yhat_upper</th>\n",
              "      <th>trend_lower</th>\n",
              "      <th>trend_upper</th>\n",
              "      <th>additive_terms</th>\n",
              "      <th>additive_terms_lower</th>\n",
              "      <th>additive_terms_upper</th>\n",
              "      <th>weekly</th>\n",
              "      <th>weekly_lower</th>\n",
              "      <th>weekly_upper</th>\n",
              "      <th>multiplicative_terms</th>\n",
              "      <th>multiplicative_terms_lower</th>\n",
              "      <th>multiplicative_terms_upper</th>\n",
              "      <th>yhat</th>\n",
              "    </tr>\n",
              "  </thead>\n",
              "  <tbody>\n",
              "    <tr>\n",
              "      <th>0</th>\n",
              "      <td>2022-06-10</td>\n",
              "      <td>175.620018</td>\n",
              "      <td>150.919165</td>\n",
              "      <td>200.064140</td>\n",
              "      <td>175.620018</td>\n",
              "      <td>175.620018</td>\n",
              "      <td>0.496611</td>\n",
              "      <td>0.496611</td>\n",
              "      <td>0.496611</td>\n",
              "      <td>0.496611</td>\n",
              "      <td>0.496611</td>\n",
              "      <td>0.496611</td>\n",
              "      <td>0.0</td>\n",
              "      <td>0.0</td>\n",
              "      <td>0.0</td>\n",
              "      <td>176.116629</td>\n",
              "    </tr>\n",
              "    <tr>\n",
              "      <th>1</th>\n",
              "      <td>2022-06-13</td>\n",
              "      <td>177.689213</td>\n",
              "      <td>152.187567</td>\n",
              "      <td>200.636102</td>\n",
              "      <td>177.689213</td>\n",
              "      <td>177.689213</td>\n",
              "      <td>-1.939909</td>\n",
              "      <td>-1.939909</td>\n",
              "      <td>-1.939909</td>\n",
              "      <td>-1.939909</td>\n",
              "      <td>-1.939909</td>\n",
              "      <td>-1.939909</td>\n",
              "      <td>0.0</td>\n",
              "      <td>0.0</td>\n",
              "      <td>0.0</td>\n",
              "      <td>175.749304</td>\n",
              "    </tr>\n",
              "    <tr>\n",
              "      <th>2</th>\n",
              "      <td>2022-06-14</td>\n",
              "      <td>178.378945</td>\n",
              "      <td>147.810293</td>\n",
              "      <td>198.940625</td>\n",
              "      <td>178.378945</td>\n",
              "      <td>178.378945</td>\n",
              "      <td>-4.249491</td>\n",
              "      <td>-4.249491</td>\n",
              "      <td>-4.249491</td>\n",
              "      <td>-4.249491</td>\n",
              "      <td>-4.249491</td>\n",
              "      <td>-4.249491</td>\n",
              "      <td>0.0</td>\n",
              "      <td>0.0</td>\n",
              "      <td>0.0</td>\n",
              "      <td>174.129453</td>\n",
              "    </tr>\n",
              "    <tr>\n",
              "      <th>3</th>\n",
              "      <td>2022-06-15</td>\n",
              "      <td>179.068676</td>\n",
              "      <td>152.175165</td>\n",
              "      <td>203.426376</td>\n",
              "      <td>179.068676</td>\n",
              "      <td>179.068676</td>\n",
              "      <td>-1.380050</td>\n",
              "      <td>-1.380050</td>\n",
              "      <td>-1.380050</td>\n",
              "      <td>-1.380050</td>\n",
              "      <td>-1.380050</td>\n",
              "      <td>-1.380050</td>\n",
              "      <td>0.0</td>\n",
              "      <td>0.0</td>\n",
              "      <td>0.0</td>\n",
              "      <td>177.688627</td>\n",
              "    </tr>\n",
              "    <tr>\n",
              "      <th>4</th>\n",
              "      <td>2022-06-16</td>\n",
              "      <td>179.758408</td>\n",
              "      <td>153.900634</td>\n",
              "      <td>204.448077</td>\n",
              "      <td>179.758408</td>\n",
              "      <td>179.758408</td>\n",
              "      <td>0.049580</td>\n",
              "      <td>0.049580</td>\n",
              "      <td>0.049580</td>\n",
              "      <td>0.049580</td>\n",
              "      <td>0.049580</td>\n",
              "      <td>0.049580</td>\n",
              "      <td>0.0</td>\n",
              "      <td>0.0</td>\n",
              "      <td>0.0</td>\n",
              "      <td>179.807988</td>\n",
              "    </tr>\n",
              "    <tr>\n",
              "      <th>...</th>\n",
              "      <td>...</td>\n",
              "      <td>...</td>\n",
              "      <td>...</td>\n",
              "      <td>...</td>\n",
              "      <td>...</td>\n",
              "      <td>...</td>\n",
              "      <td>...</td>\n",
              "      <td>...</td>\n",
              "      <td>...</td>\n",
              "      <td>...</td>\n",
              "      <td>...</td>\n",
              "      <td>...</td>\n",
              "      <td>...</td>\n",
              "      <td>...</td>\n",
              "      <td>...</td>\n",
              "      <td>...</td>\n",
              "    </tr>\n",
              "    <tr>\n",
              "      <th>276</th>\n",
              "      <td>2023-07-05</td>\n",
              "      <td>386.492863</td>\n",
              "      <td>362.123311</td>\n",
              "      <td>408.868180</td>\n",
              "      <td>384.964272</td>\n",
              "      <td>388.021335</td>\n",
              "      <td>-1.380050</td>\n",
              "      <td>-1.380050</td>\n",
              "      <td>-1.380050</td>\n",
              "      <td>-1.380050</td>\n",
              "      <td>-1.380050</td>\n",
              "      <td>-1.380050</td>\n",
              "      <td>0.0</td>\n",
              "      <td>0.0</td>\n",
              "      <td>0.0</td>\n",
              "      <td>385.112813</td>\n",
              "    </tr>\n",
              "    <tr>\n",
              "      <th>277</th>\n",
              "      <td>2023-07-06</td>\n",
              "      <td>387.052230</td>\n",
              "      <td>361.962260</td>\n",
              "      <td>411.141290</td>\n",
              "      <td>385.467438</td>\n",
              "      <td>388.678822</td>\n",
              "      <td>0.049580</td>\n",
              "      <td>0.049580</td>\n",
              "      <td>0.049580</td>\n",
              "      <td>0.049580</td>\n",
              "      <td>0.049580</td>\n",
              "      <td>0.049580</td>\n",
              "      <td>0.0</td>\n",
              "      <td>0.0</td>\n",
              "      <td>0.0</td>\n",
              "      <td>387.101810</td>\n",
              "    </tr>\n",
              "    <tr>\n",
              "      <th>278</th>\n",
              "      <td>2023-07-07</td>\n",
              "      <td>387.611597</td>\n",
              "      <td>364.135421</td>\n",
              "      <td>411.205278</td>\n",
              "      <td>385.938337</td>\n",
              "      <td>389.329253</td>\n",
              "      <td>0.496611</td>\n",
              "      <td>0.496611</td>\n",
              "      <td>0.496611</td>\n",
              "      <td>0.496611</td>\n",
              "      <td>0.496611</td>\n",
              "      <td>0.496611</td>\n",
              "      <td>0.0</td>\n",
              "      <td>0.0</td>\n",
              "      <td>0.0</td>\n",
              "      <td>388.108208</td>\n",
              "    </tr>\n",
              "    <tr>\n",
              "      <th>279</th>\n",
              "      <td>2023-07-08</td>\n",
              "      <td>388.170964</td>\n",
              "      <td>366.639506</td>\n",
              "      <td>416.212152</td>\n",
              "      <td>386.379734</td>\n",
              "      <td>389.972242</td>\n",
              "      <td>3.511629</td>\n",
              "      <td>3.511629</td>\n",
              "      <td>3.511629</td>\n",
              "      <td>3.511629</td>\n",
              "      <td>3.511629</td>\n",
              "      <td>3.511629</td>\n",
              "      <td>0.0</td>\n",
              "      <td>0.0</td>\n",
              "      <td>0.0</td>\n",
              "      <td>391.682593</td>\n",
              "    </tr>\n",
              "    <tr>\n",
              "      <th>280</th>\n",
              "      <td>2023-07-09</td>\n",
              "      <td>388.730332</td>\n",
              "      <td>368.447171</td>\n",
              "      <td>418.072163</td>\n",
              "      <td>386.902200</td>\n",
              "      <td>390.627698</td>\n",
              "      <td>3.511630</td>\n",
              "      <td>3.511630</td>\n",
              "      <td>3.511630</td>\n",
              "      <td>3.511630</td>\n",
              "      <td>3.511630</td>\n",
              "      <td>3.511630</td>\n",
              "      <td>0.0</td>\n",
              "      <td>0.0</td>\n",
              "      <td>0.0</td>\n",
              "      <td>392.241962</td>\n",
              "    </tr>\n",
              "  </tbody>\n",
              "</table>\n",
              "<p>281 rows × 16 columns</p>\n",
              "</div>\n",
              "      <button class=\"colab-df-convert\" onclick=\"convertToInteractive('df-3a76a44a-a2fa-4474-a78b-6c1653a1e530')\"\n",
              "              title=\"Convert this dataframe to an interactive table.\"\n",
              "              style=\"display:none;\">\n",
              "        \n",
              "  <svg xmlns=\"http://www.w3.org/2000/svg\" height=\"24px\"viewBox=\"0 0 24 24\"\n",
              "       width=\"24px\">\n",
              "    <path d=\"M0 0h24v24H0V0z\" fill=\"none\"/>\n",
              "    <path d=\"M18.56 5.44l.94 2.06.94-2.06 2.06-.94-2.06-.94-.94-2.06-.94 2.06-2.06.94zm-11 1L8.5 8.5l.94-2.06 2.06-.94-2.06-.94L8.5 2.5l-.94 2.06-2.06.94zm10 10l.94 2.06.94-2.06 2.06-.94-2.06-.94-.94-2.06-.94 2.06-2.06.94z\"/><path d=\"M17.41 7.96l-1.37-1.37c-.4-.4-.92-.59-1.43-.59-.52 0-1.04.2-1.43.59L10.3 9.45l-7.72 7.72c-.78.78-.78 2.05 0 2.83L4 21.41c.39.39.9.59 1.41.59.51 0 1.02-.2 1.41-.59l7.78-7.78 2.81-2.81c.8-.78.8-2.07 0-2.86zM5.41 20L4 18.59l7.72-7.72 1.47 1.35L5.41 20z\"/>\n",
              "  </svg>\n",
              "      </button>\n",
              "      \n",
              "  <style>\n",
              "    .colab-df-container {\n",
              "      display:flex;\n",
              "      flex-wrap:wrap;\n",
              "      gap: 12px;\n",
              "    }\n",
              "\n",
              "    .colab-df-convert {\n",
              "      background-color: #E8F0FE;\n",
              "      border: none;\n",
              "      border-radius: 50%;\n",
              "      cursor: pointer;\n",
              "      display: none;\n",
              "      fill: #1967D2;\n",
              "      height: 32px;\n",
              "      padding: 0 0 0 0;\n",
              "      width: 32px;\n",
              "    }\n",
              "\n",
              "    .colab-df-convert:hover {\n",
              "      background-color: #E2EBFA;\n",
              "      box-shadow: 0px 1px 2px rgba(60, 64, 67, 0.3), 0px 1px 3px 1px rgba(60, 64, 67, 0.15);\n",
              "      fill: #174EA6;\n",
              "    }\n",
              "\n",
              "    [theme=dark] .colab-df-convert {\n",
              "      background-color: #3B4455;\n",
              "      fill: #D2E3FC;\n",
              "    }\n",
              "\n",
              "    [theme=dark] .colab-df-convert:hover {\n",
              "      background-color: #434B5C;\n",
              "      box-shadow: 0px 1px 3px 1px rgba(0, 0, 0, 0.15);\n",
              "      filter: drop-shadow(0px 1px 2px rgba(0, 0, 0, 0.3));\n",
              "      fill: #FFFFFF;\n",
              "    }\n",
              "  </style>\n",
              "\n",
              "      <script>\n",
              "        const buttonEl =\n",
              "          document.querySelector('#df-3a76a44a-a2fa-4474-a78b-6c1653a1e530 button.colab-df-convert');\n",
              "        buttonEl.style.display =\n",
              "          google.colab.kernel.accessAllowed ? 'block' : 'none';\n",
              "\n",
              "        async function convertToInteractive(key) {\n",
              "          const element = document.querySelector('#df-3a76a44a-a2fa-4474-a78b-6c1653a1e530');\n",
              "          const dataTable =\n",
              "            await google.colab.kernel.invokeFunction('convertToInteractive',\n",
              "                                                     [key], {});\n",
              "          if (!dataTable) return;\n",
              "\n",
              "          const docLinkHtml = 'Like what you see? Visit the ' +\n",
              "            '<a target=\"_blank\" href=https://colab.research.google.com/notebooks/data_table.ipynb>data table notebook</a>'\n",
              "            + ' to learn more about interactive tables.';\n",
              "          element.innerHTML = '';\n",
              "          dataTable['output_type'] = 'display_data';\n",
              "          await google.colab.output.renderOutput(dataTable, element);\n",
              "          const docLink = document.createElement('div');\n",
              "          docLink.innerHTML = docLinkHtml;\n",
              "          element.appendChild(docLink);\n",
              "        }\n",
              "      </script>\n",
              "    </div>\n",
              "  </div>\n",
              "  "
            ]
          },
          "metadata": {},
          "execution_count": 23
        }
      ],
      "source": [
        "forecast"
      ]
    },
    {
      "cell_type": "markdown",
      "source": [
        "From the forecast datarame, the most important value is **yhat column-our predicted value**"
      ],
      "metadata": {
        "id": "ArAryxEbWQrj"
      }
    },
    {
      "cell_type": "code",
      "execution_count": 24,
      "metadata": {
        "id": "19-Qc5qDdH8K",
        "colab": {
          "base_uri": "https://localhost:8080/",
          "height": 542
        },
        "outputId": "9330fd04-c8ee-4699-c49e-e44c09f6e8ab"
      },
      "outputs": [
        {
          "output_type": "display_data",
          "data": {
            "text/html": [
              "<html>\n",
              "<head><meta charset=\"utf-8\" /></head>\n",
              "<body>\n",
              "    <div>            <script src=\"https://cdnjs.cloudflare.com/ajax/libs/mathjax/2.7.5/MathJax.js?config=TeX-AMS-MML_SVG\"></script><script type=\"text/javascript\">if (window.MathJax && window.MathJax.Hub && window.MathJax.Hub.Config) {window.MathJax.Hub.Config({SVG: {font: \"STIX-Web\"}});}</script>                <script type=\"text/javascript\">window.PlotlyConfig = {MathJaxConfig: 'local'};</script>\n",
              "        <script src=\"https://cdn.plot.ly/plotly-2.18.2.min.js\"></script>                <div id=\"b0e6ed53-5706-411d-817c-10c2f0602e8f\" class=\"plotly-graph-div\" style=\"height:525px; width:100%;\"></div>            <script type=\"text/javascript\">                                    window.PLOTLYENV=window.PLOTLYENV || {};                                    if (document.getElementById(\"b0e6ed53-5706-411d-817c-10c2f0602e8f\")) {                    Plotly.newPlot(                        \"b0e6ed53-5706-411d-817c-10c2f0602e8f\",                        [{\"hovertemplate\":\"ds=%{x}<br>yhat=%{y}<extra></extra>\",\"legendgroup\":\"\",\"line\":{\"color\":\"#636efa\",\"dash\":\"solid\"},\"marker\":{\"symbol\":\"circle\"},\"mode\":\"lines\",\"name\":\"\",\"orientation\":\"v\",\"showlegend\":false,\"x\":[\"2022-06-10T00:00:00\",\"2022-06-13T00:00:00\",\"2022-06-14T00:00:00\",\"2022-06-15T00:00:00\",\"2022-06-16T00:00:00\",\"2022-06-17T00:00:00\",\"2022-06-21T00:00:00\",\"2022-06-22T00:00:00\",\"2022-06-23T00:00:00\",\"2022-06-24T00:00:00\",\"2022-06-27T00:00:00\",\"2022-06-28T00:00:00\",\"2022-06-29T00:00:00\",\"2022-06-30T00:00:00\",\"2022-07-01T00:00:00\",\"2022-07-05T00:00:00\",\"2022-07-06T00:00:00\",\"2022-07-07T00:00:00\",\"2022-07-08T00:00:00\",\"2022-07-11T00:00:00\",\"2022-07-12T00:00:00\",\"2022-07-13T00:00:00\",\"2022-07-14T00:00:00\",\"2022-07-15T00:00:00\",\"2022-07-18T00:00:00\",\"2022-07-19T00:00:00\",\"2022-07-20T00:00:00\",\"2022-07-21T00:00:00\",\"2022-07-22T00:00:00\",\"2022-07-25T00:00:00\",\"2022-07-26T00:00:00\",\"2022-07-27T00:00:00\",\"2022-07-28T00:00:00\",\"2022-07-29T00:00:00\",\"2022-08-01T00:00:00\",\"2022-08-02T00:00:00\",\"2022-08-03T00:00:00\",\"2022-08-04T00:00:00\",\"2022-08-05T00:00:00\",\"2022-08-08T00:00:00\",\"2022-08-09T00:00:00\",\"2022-08-10T00:00:00\",\"2022-08-11T00:00:00\",\"2022-08-12T00:00:00\",\"2022-08-15T00:00:00\",\"2022-08-16T00:00:00\",\"2022-08-17T00:00:00\",\"2022-08-18T00:00:00\",\"2022-08-19T00:00:00\",\"2022-08-22T00:00:00\",\"2022-08-23T00:00:00\",\"2022-08-24T00:00:00\",\"2022-08-25T00:00:00\",\"2022-08-26T00:00:00\",\"2022-08-29T00:00:00\",\"2022-08-30T00:00:00\",\"2022-08-31T00:00:00\",\"2022-09-01T00:00:00\",\"2022-09-02T00:00:00\",\"2022-09-06T00:00:00\",\"2022-09-07T00:00:00\",\"2022-09-08T00:00:00\",\"2022-09-09T00:00:00\",\"2022-09-12T00:00:00\",\"2022-09-13T00:00:00\",\"2022-09-14T00:00:00\",\"2022-09-15T00:00:00\",\"2022-09-16T00:00:00\",\"2022-09-19T00:00:00\",\"2022-09-20T00:00:00\",\"2022-09-21T00:00:00\",\"2022-09-22T00:00:00\",\"2022-09-23T00:00:00\",\"2022-09-26T00:00:00\",\"2022-09-27T00:00:00\",\"2022-09-28T00:00:00\",\"2022-09-29T00:00:00\",\"2022-09-30T00:00:00\",\"2022-10-03T00:00:00\",\"2022-10-04T00:00:00\",\"2022-10-05T00:00:00\",\"2022-10-06T00:00:00\",\"2022-10-07T00:00:00\",\"2022-10-10T00:00:00\",\"2022-10-11T00:00:00\",\"2022-10-12T00:00:00\",\"2022-10-13T00:00:00\",\"2022-10-14T00:00:00\",\"2022-10-17T00:00:00\",\"2022-10-18T00:00:00\",\"2022-10-19T00:00:00\",\"2022-10-20T00:00:00\",\"2022-10-21T00:00:00\",\"2022-10-24T00:00:00\",\"2022-10-25T00:00:00\",\"2022-10-26T00:00:00\",\"2022-10-27T00:00:00\",\"2022-10-28T00:00:00\",\"2022-10-31T00:00:00\",\"2022-11-01T00:00:00\",\"2022-11-02T00:00:00\",\"2022-11-03T00:00:00\",\"2022-11-04T00:00:00\",\"2022-11-07T00:00:00\",\"2022-11-08T00:00:00\",\"2022-11-09T00:00:00\",\"2022-11-10T00:00:00\",\"2022-11-11T00:00:00\",\"2022-11-14T00:00:00\",\"2022-11-15T00:00:00\",\"2022-11-16T00:00:00\",\"2022-11-17T00:00:00\",\"2022-11-18T00:00:00\",\"2022-11-21T00:00:00\",\"2022-11-22T00:00:00\",\"2022-11-23T00:00:00\",\"2022-11-25T00:00:00\",\"2022-11-28T00:00:00\",\"2022-11-29T00:00:00\",\"2022-11-30T00:00:00\",\"2022-12-01T00:00:00\",\"2022-12-02T00:00:00\",\"2022-12-05T00:00:00\",\"2022-12-06T00:00:00\",\"2022-12-07T00:00:00\",\"2022-12-08T00:00:00\",\"2022-12-09T00:00:00\",\"2022-12-12T00:00:00\",\"2022-12-13T00:00:00\",\"2022-12-14T00:00:00\",\"2022-12-15T00:00:00\",\"2022-12-16T00:00:00\",\"2022-12-19T00:00:00\",\"2022-12-20T00:00:00\",\"2022-12-21T00:00:00\",\"2022-12-22T00:00:00\",\"2022-12-23T00:00:00\",\"2022-12-27T00:00:00\",\"2022-12-28T00:00:00\",\"2022-12-29T00:00:00\",\"2022-12-30T00:00:00\",\"2023-01-03T00:00:00\",\"2023-01-04T00:00:00\",\"2023-01-05T00:00:00\",\"2023-01-06T00:00:00\",\"2023-01-09T00:00:00\",\"2023-01-10T00:00:00\",\"2023-01-11T00:00:00\",\"2023-01-12T00:00:00\",\"2023-01-13T00:00:00\",\"2023-01-17T00:00:00\",\"2023-01-18T00:00:00\",\"2023-01-19T00:00:00\",\"2023-01-20T00:00:00\",\"2023-01-23T00:00:00\",\"2023-01-24T00:00:00\",\"2023-01-25T00:00:00\",\"2023-01-26T00:00:00\",\"2023-01-27T00:00:00\",\"2023-01-30T00:00:00\",\"2023-01-31T00:00:00\",\"2023-02-01T00:00:00\",\"2023-02-02T00:00:00\",\"2023-02-03T00:00:00\",\"2023-02-06T00:00:00\",\"2023-02-07T00:00:00\",\"2023-02-08T00:00:00\",\"2023-02-09T00:00:00\",\"2023-02-10T00:00:00\",\"2023-02-13T00:00:00\",\"2023-02-14T00:00:00\",\"2023-02-15T00:00:00\",\"2023-02-16T00:00:00\",\"2023-02-17T00:00:00\",\"2023-02-21T00:00:00\",\"2023-02-22T00:00:00\",\"2023-02-23T00:00:00\",\"2023-02-24T00:00:00\",\"2023-02-27T00:00:00\",\"2023-02-28T00:00:00\",\"2023-03-01T00:00:00\",\"2023-03-02T00:00:00\",\"2023-03-03T00:00:00\",\"2023-03-06T00:00:00\",\"2023-03-07T00:00:00\",\"2023-03-08T00:00:00\",\"2023-03-09T00:00:00\",\"2023-03-10T00:00:00\",\"2023-03-13T00:00:00\",\"2023-03-14T00:00:00\",\"2023-03-15T00:00:00\",\"2023-03-16T00:00:00\",\"2023-03-17T00:00:00\",\"2023-03-20T00:00:00\",\"2023-03-21T00:00:00\",\"2023-03-22T00:00:00\",\"2023-03-23T00:00:00\",\"2023-03-24T00:00:00\",\"2023-03-27T00:00:00\",\"2023-03-28T00:00:00\",\"2023-03-29T00:00:00\",\"2023-03-30T00:00:00\",\"2023-03-31T00:00:00\",\"2023-04-03T00:00:00\",\"2023-04-04T00:00:00\",\"2023-04-05T00:00:00\",\"2023-04-06T00:00:00\",\"2023-04-10T00:00:00\",\"2023-04-11T00:00:00\",\"2023-04-12T00:00:00\",\"2023-04-13T00:00:00\",\"2023-04-14T00:00:00\",\"2023-04-17T00:00:00\",\"2023-04-18T00:00:00\",\"2023-04-19T00:00:00\",\"2023-04-20T00:00:00\",\"2023-04-21T00:00:00\",\"2023-04-24T00:00:00\",\"2023-04-25T00:00:00\",\"2023-04-26T00:00:00\",\"2023-04-27T00:00:00\",\"2023-04-28T00:00:00\",\"2023-05-01T00:00:00\",\"2023-05-02T00:00:00\",\"2023-05-03T00:00:00\",\"2023-05-04T00:00:00\",\"2023-05-05T00:00:00\",\"2023-05-08T00:00:00\",\"2023-05-09T00:00:00\",\"2023-05-10T00:00:00\",\"2023-05-11T00:00:00\",\"2023-05-12T00:00:00\",\"2023-05-15T00:00:00\",\"2023-05-16T00:00:00\",\"2023-05-17T00:00:00\",\"2023-05-18T00:00:00\",\"2023-05-19T00:00:00\",\"2023-05-22T00:00:00\",\"2023-05-23T00:00:00\",\"2023-05-24T00:00:00\",\"2023-05-25T00:00:00\",\"2023-05-26T00:00:00\",\"2023-05-30T00:00:00\",\"2023-05-31T00:00:00\",\"2023-06-01T00:00:00\",\"2023-06-02T00:00:00\",\"2023-06-05T00:00:00\",\"2023-06-06T00:00:00\",\"2023-06-07T00:00:00\",\"2023-06-08T00:00:00\",\"2023-06-09T00:00:00\",\"2023-06-10T00:00:00\",\"2023-06-11T00:00:00\",\"2023-06-12T00:00:00\",\"2023-06-13T00:00:00\",\"2023-06-14T00:00:00\",\"2023-06-15T00:00:00\",\"2023-06-16T00:00:00\",\"2023-06-17T00:00:00\",\"2023-06-18T00:00:00\",\"2023-06-19T00:00:00\",\"2023-06-20T00:00:00\",\"2023-06-21T00:00:00\",\"2023-06-22T00:00:00\",\"2023-06-23T00:00:00\",\"2023-06-24T00:00:00\",\"2023-06-25T00:00:00\",\"2023-06-26T00:00:00\",\"2023-06-27T00:00:00\",\"2023-06-28T00:00:00\",\"2023-06-29T00:00:00\",\"2023-06-30T00:00:00\",\"2023-07-01T00:00:00\",\"2023-07-02T00:00:00\",\"2023-07-03T00:00:00\",\"2023-07-04T00:00:00\",\"2023-07-05T00:00:00\",\"2023-07-06T00:00:00\",\"2023-07-07T00:00:00\",\"2023-07-08T00:00:00\",\"2023-07-09T00:00:00\"],\"xaxis\":\"x\",\"y\":[176.11662892998982,175.74930428749218,174.1294532170016,177.6886265816053,179.80798771753544,180.94475062623863,178.95757491324994,182.5167482778427,184.636109413783,185.77287231309006,185.40554764238922,183.78569656251085,187.34486991770746,189.46423104424818,190.60099394355652,188.61381819297674,192.17299154817468,194.29235266250564,195.4291155496076,195.0617908422949,193.44193975019647,197.00111309318822,199.12047420751657,200.25723709462002,199.88991238730208,198.27006128440078,201.82923461659564,203.94859572011887,205.08535859641304,204.71803385668832,203.09818275379192,206.65735608597575,208.77671718950918,209.91347794481905,209.5461468421324,207.9262936182553,211.48546482945488,213.60482381200038,214.74158456731217,214.3742534646198,212.75440024074754,216.31357144395636,218.43293041850754,219.56969116582064,219.2023600391541,217.58250680729458,221.14167801050488,223.2610369850538,224.3977977323683,224.03046659764996,222.41061336307894,225.9697845636059,228.08914353546317,229.2259042800893,228.85857314536565,227.23871991079955,230.79789111132789,232.9172500983674,234.05401085817968,232.0668265496281,235.6259977653425,237.74535675237982,238.8821175121935,238.51478642301294,236.89493320364122,240.45410443353722,242.57346343477752,243.71022420878535,243.3428931621998,241.72303995700364,245.2822111869011,247.40157018813915,248.53833096214828,248.17100617255124,246.55115505302462,250.11032836858806,252.2296894554885,253.3664523151561,252.99912752556133,251.37927640603954,254.938449721592,257.0589300613839,258.1968121739342,257.8328451429778,256.2141132763375,259.77440584477733,261.8948861845668,263.03276829711854,262.66880126615695,261.05006939961794,264.61036196815587,266.7308423080396,267.8687244206892,267.5047573900117,265.88602552347766,269.4463180920169,271.5667984318986,272.70468054403875,272.34071351182433,270.7219816447798,274.2822742128145,276.40275455218335,277.5406366643252,277.1766696321272,275.5579377727213,279.11823034841325,281.2387106954355,282.37659281523446,282.01262580599865,280.3938939465976,283.9541865222909,286.074666869311,287.2125489881183,286.8485819759277,285.22985011554584,288.79014269024265,292.0485051550958,291.684538142922,290.06580628252306,293.6260988572211,295.74657920260614,296.88446132075865,296.5204943066072,294.9017624455556,298.46205501959787,300.5825353649804,301.72041748312677,301.35645046897747,299.73771852205243,303.2980110102175,305.41849126971954,306.5563733019889,306.19240603019904,304.5736740832741,308.13396657144534,310.25444683094514,311.39232886066094,309.4096296317266,312.9699221173444,315.09040237428724,316.2282844040046,314.24558517506955,317.8058776606888,319.92635791762945,320.9468166667968,320.230579545673,318.4944243156567,321.93729352071387,323.94035049711334,324.9608092462821,322.50841689514164,325.9512861002002,327.66911488703437,328.40434544664146,326.8324237568398,324.8110403372482,327.96868135274497,329.6865101395769,330.4217406991777,328.84981900937845,326.5347308429781,329.39866711165024,330.8227911516787,331.2643169644676,328.8112810342219,326.49619286782166,329.3601291364999,330.7842531765261,331.17942909118943,328.58734346655814,326.22590540203595,329.0434917725889,330.42126591448607,330.81644182915073,325.8629181399967,328.68050451055103,330.05827865337926,330.45345456897076,327.8613689471358,325.4999308835517,328.31751725504535,329.69529139787136,330.0904673134642,327.4983816916459,325.1369436276171,327.9545299986847,329.33230414108056,329.7274800562476,327.13539443314113,324.77395636911723,327.5915427401861,328.96931688257996,329.5993289737409,327.71175187860706,325.58514999058076,328.6375725376313,330.250182856028,330.88019494719026,328.9926178520732,326.8660159640297,330.2948248850704,332.28382157745386,333.2902200426065,332.5318020694505,330.7815865554008,334.2103954764429,336.19939216882415,336.4473726608168,334.6971571467719,338.12596606781545,340.1149627601942,341.12136122534207,340.3629432521831,338.61272773813823,342.041536659188,344.0305333515645,345.03693181671355,344.2785138435492,342.52829832950937,345.957107250548,347.94610394293466,348.9525024080851,348.1940844349155,346.44386892088045,349.8726778419205,351.861674534305,352.86807299945684,352.10965502628176,350.3594395122516,353.78824843329295,355.77724512567517,356.7836435908284,356.02522561767,354.27501010362255,357.70381902466556,359.69281571704545,360.6992141822,359.94079620903625,358.1905806949937,361.619389616038,363.6083863084157,364.61478477356405,362.10615128636,365.53496020739806,367.5239568997859,368.5303553649357,367.7719373917687,366.0217218777311,369.45053079877056,371.439527491156,372.4459259563073,376.02031082195566,376.57967927966496,371.68750798313494,369.93729246910226,373.36610139014306,375.3550980825263,376.36149654767127,379.93588141332816,380.49524987103257,375.6030785745011,373.85286306047334,377.2816719815155,379.27066867389664,380.27706713904286,383.85145200470055,384.41082046240035,379.5186491658894,377.76843365183964,381.19724257288794,383.1862392652668,384.1926377304146,387.76702259607276,388.32639105376785,383.4342197572556,381.6840042432108,385.11281316426044,387.101809856637,388.10820832178615,391.6825931874334,392.24196164513535],\"yaxis\":\"y\",\"type\":\"scatter\"}],                        {\"template\":{\"data\":{\"histogram2dcontour\":[{\"type\":\"histogram2dcontour\",\"colorbar\":{\"outlinewidth\":0,\"ticks\":\"\"},\"colorscale\":[[0.0,\"#0d0887\"],[0.1111111111111111,\"#46039f\"],[0.2222222222222222,\"#7201a8\"],[0.3333333333333333,\"#9c179e\"],[0.4444444444444444,\"#bd3786\"],[0.5555555555555556,\"#d8576b\"],[0.6666666666666666,\"#ed7953\"],[0.7777777777777778,\"#fb9f3a\"],[0.8888888888888888,\"#fdca26\"],[1.0,\"#f0f921\"]]}],\"choropleth\":[{\"type\":\"choropleth\",\"colorbar\":{\"outlinewidth\":0,\"ticks\":\"\"}}],\"histogram2d\":[{\"type\":\"histogram2d\",\"colorbar\":{\"outlinewidth\":0,\"ticks\":\"\"},\"colorscale\":[[0.0,\"#0d0887\"],[0.1111111111111111,\"#46039f\"],[0.2222222222222222,\"#7201a8\"],[0.3333333333333333,\"#9c179e\"],[0.4444444444444444,\"#bd3786\"],[0.5555555555555556,\"#d8576b\"],[0.6666666666666666,\"#ed7953\"],[0.7777777777777778,\"#fb9f3a\"],[0.8888888888888888,\"#fdca26\"],[1.0,\"#f0f921\"]]}],\"heatmap\":[{\"type\":\"heatmap\",\"colorbar\":{\"outlinewidth\":0,\"ticks\":\"\"},\"colorscale\":[[0.0,\"#0d0887\"],[0.1111111111111111,\"#46039f\"],[0.2222222222222222,\"#7201a8\"],[0.3333333333333333,\"#9c179e\"],[0.4444444444444444,\"#bd3786\"],[0.5555555555555556,\"#d8576b\"],[0.6666666666666666,\"#ed7953\"],[0.7777777777777778,\"#fb9f3a\"],[0.8888888888888888,\"#fdca26\"],[1.0,\"#f0f921\"]]}],\"heatmapgl\":[{\"type\":\"heatmapgl\",\"colorbar\":{\"outlinewidth\":0,\"ticks\":\"\"},\"colorscale\":[[0.0,\"#0d0887\"],[0.1111111111111111,\"#46039f\"],[0.2222222222222222,\"#7201a8\"],[0.3333333333333333,\"#9c179e\"],[0.4444444444444444,\"#bd3786\"],[0.5555555555555556,\"#d8576b\"],[0.6666666666666666,\"#ed7953\"],[0.7777777777777778,\"#fb9f3a\"],[0.8888888888888888,\"#fdca26\"],[1.0,\"#f0f921\"]]}],\"contourcarpet\":[{\"type\":\"contourcarpet\",\"colorbar\":{\"outlinewidth\":0,\"ticks\":\"\"}}],\"contour\":[{\"type\":\"contour\",\"colorbar\":{\"outlinewidth\":0,\"ticks\":\"\"},\"colorscale\":[[0.0,\"#0d0887\"],[0.1111111111111111,\"#46039f\"],[0.2222222222222222,\"#7201a8\"],[0.3333333333333333,\"#9c179e\"],[0.4444444444444444,\"#bd3786\"],[0.5555555555555556,\"#d8576b\"],[0.6666666666666666,\"#ed7953\"],[0.7777777777777778,\"#fb9f3a\"],[0.8888888888888888,\"#fdca26\"],[1.0,\"#f0f921\"]]}],\"surface\":[{\"type\":\"surface\",\"colorbar\":{\"outlinewidth\":0,\"ticks\":\"\"},\"colorscale\":[[0.0,\"#0d0887\"],[0.1111111111111111,\"#46039f\"],[0.2222222222222222,\"#7201a8\"],[0.3333333333333333,\"#9c179e\"],[0.4444444444444444,\"#bd3786\"],[0.5555555555555556,\"#d8576b\"],[0.6666666666666666,\"#ed7953\"],[0.7777777777777778,\"#fb9f3a\"],[0.8888888888888888,\"#fdca26\"],[1.0,\"#f0f921\"]]}],\"mesh3d\":[{\"type\":\"mesh3d\",\"colorbar\":{\"outlinewidth\":0,\"ticks\":\"\"}}],\"scatter\":[{\"fillpattern\":{\"fillmode\":\"overlay\",\"size\":10,\"solidity\":0.2},\"type\":\"scatter\"}],\"parcoords\":[{\"type\":\"parcoords\",\"line\":{\"colorbar\":{\"outlinewidth\":0,\"ticks\":\"\"}}}],\"scatterpolargl\":[{\"type\":\"scatterpolargl\",\"marker\":{\"colorbar\":{\"outlinewidth\":0,\"ticks\":\"\"}}}],\"bar\":[{\"error_x\":{\"color\":\"#2a3f5f\"},\"error_y\":{\"color\":\"#2a3f5f\"},\"marker\":{\"line\":{\"color\":\"#E5ECF6\",\"width\":0.5},\"pattern\":{\"fillmode\":\"overlay\",\"size\":10,\"solidity\":0.2}},\"type\":\"bar\"}],\"scattergeo\":[{\"type\":\"scattergeo\",\"marker\":{\"colorbar\":{\"outlinewidth\":0,\"ticks\":\"\"}}}],\"scatterpolar\":[{\"type\":\"scatterpolar\",\"marker\":{\"colorbar\":{\"outlinewidth\":0,\"ticks\":\"\"}}}],\"histogram\":[{\"marker\":{\"pattern\":{\"fillmode\":\"overlay\",\"size\":10,\"solidity\":0.2}},\"type\":\"histogram\"}],\"scattergl\":[{\"type\":\"scattergl\",\"marker\":{\"colorbar\":{\"outlinewidth\":0,\"ticks\":\"\"}}}],\"scatter3d\":[{\"type\":\"scatter3d\",\"line\":{\"colorbar\":{\"outlinewidth\":0,\"ticks\":\"\"}},\"marker\":{\"colorbar\":{\"outlinewidth\":0,\"ticks\":\"\"}}}],\"scattermapbox\":[{\"type\":\"scattermapbox\",\"marker\":{\"colorbar\":{\"outlinewidth\":0,\"ticks\":\"\"}}}],\"scatterternary\":[{\"type\":\"scatterternary\",\"marker\":{\"colorbar\":{\"outlinewidth\":0,\"ticks\":\"\"}}}],\"scattercarpet\":[{\"type\":\"scattercarpet\",\"marker\":{\"colorbar\":{\"outlinewidth\":0,\"ticks\":\"\"}}}],\"carpet\":[{\"aaxis\":{\"endlinecolor\":\"#2a3f5f\",\"gridcolor\":\"white\",\"linecolor\":\"white\",\"minorgridcolor\":\"white\",\"startlinecolor\":\"#2a3f5f\"},\"baxis\":{\"endlinecolor\":\"#2a3f5f\",\"gridcolor\":\"white\",\"linecolor\":\"white\",\"minorgridcolor\":\"white\",\"startlinecolor\":\"#2a3f5f\"},\"type\":\"carpet\"}],\"table\":[{\"cells\":{\"fill\":{\"color\":\"#EBF0F8\"},\"line\":{\"color\":\"white\"}},\"header\":{\"fill\":{\"color\":\"#C8D4E3\"},\"line\":{\"color\":\"white\"}},\"type\":\"table\"}],\"barpolar\":[{\"marker\":{\"line\":{\"color\":\"#E5ECF6\",\"width\":0.5},\"pattern\":{\"fillmode\":\"overlay\",\"size\":10,\"solidity\":0.2}},\"type\":\"barpolar\"}],\"pie\":[{\"automargin\":true,\"type\":\"pie\"}]},\"layout\":{\"autotypenumbers\":\"strict\",\"colorway\":[\"#636efa\",\"#EF553B\",\"#00cc96\",\"#ab63fa\",\"#FFA15A\",\"#19d3f3\",\"#FF6692\",\"#B6E880\",\"#FF97FF\",\"#FECB52\"],\"font\":{\"color\":\"#2a3f5f\"},\"hovermode\":\"closest\",\"hoverlabel\":{\"align\":\"left\"},\"paper_bgcolor\":\"white\",\"plot_bgcolor\":\"#E5ECF6\",\"polar\":{\"bgcolor\":\"#E5ECF6\",\"angularaxis\":{\"gridcolor\":\"white\",\"linecolor\":\"white\",\"ticks\":\"\"},\"radialaxis\":{\"gridcolor\":\"white\",\"linecolor\":\"white\",\"ticks\":\"\"}},\"ternary\":{\"bgcolor\":\"#E5ECF6\",\"aaxis\":{\"gridcolor\":\"white\",\"linecolor\":\"white\",\"ticks\":\"\"},\"baxis\":{\"gridcolor\":\"white\",\"linecolor\":\"white\",\"ticks\":\"\"},\"caxis\":{\"gridcolor\":\"white\",\"linecolor\":\"white\",\"ticks\":\"\"}},\"coloraxis\":{\"colorbar\":{\"outlinewidth\":0,\"ticks\":\"\"}},\"colorscale\":{\"sequential\":[[0.0,\"#0d0887\"],[0.1111111111111111,\"#46039f\"],[0.2222222222222222,\"#7201a8\"],[0.3333333333333333,\"#9c179e\"],[0.4444444444444444,\"#bd3786\"],[0.5555555555555556,\"#d8576b\"],[0.6666666666666666,\"#ed7953\"],[0.7777777777777778,\"#fb9f3a\"],[0.8888888888888888,\"#fdca26\"],[1.0,\"#f0f921\"]],\"sequentialminus\":[[0.0,\"#0d0887\"],[0.1111111111111111,\"#46039f\"],[0.2222222222222222,\"#7201a8\"],[0.3333333333333333,\"#9c179e\"],[0.4444444444444444,\"#bd3786\"],[0.5555555555555556,\"#d8576b\"],[0.6666666666666666,\"#ed7953\"],[0.7777777777777778,\"#fb9f3a\"],[0.8888888888888888,\"#fdca26\"],[1.0,\"#f0f921\"]],\"diverging\":[[0,\"#8e0152\"],[0.1,\"#c51b7d\"],[0.2,\"#de77ae\"],[0.3,\"#f1b6da\"],[0.4,\"#fde0ef\"],[0.5,\"#f7f7f7\"],[0.6,\"#e6f5d0\"],[0.7,\"#b8e186\"],[0.8,\"#7fbc41\"],[0.9,\"#4d9221\"],[1,\"#276419\"]]},\"xaxis\":{\"gridcolor\":\"white\",\"linecolor\":\"white\",\"ticks\":\"\",\"title\":{\"standoff\":15},\"zerolinecolor\":\"white\",\"automargin\":true,\"zerolinewidth\":2},\"yaxis\":{\"gridcolor\":\"white\",\"linecolor\":\"white\",\"ticks\":\"\",\"title\":{\"standoff\":15},\"zerolinecolor\":\"white\",\"automargin\":true,\"zerolinewidth\":2},\"scene\":{\"xaxis\":{\"backgroundcolor\":\"#E5ECF6\",\"gridcolor\":\"white\",\"linecolor\":\"white\",\"showbackground\":true,\"ticks\":\"\",\"zerolinecolor\":\"white\",\"gridwidth\":2},\"yaxis\":{\"backgroundcolor\":\"#E5ECF6\",\"gridcolor\":\"white\",\"linecolor\":\"white\",\"showbackground\":true,\"ticks\":\"\",\"zerolinecolor\":\"white\",\"gridwidth\":2},\"zaxis\":{\"backgroundcolor\":\"#E5ECF6\",\"gridcolor\":\"white\",\"linecolor\":\"white\",\"showbackground\":true,\"ticks\":\"\",\"zerolinecolor\":\"white\",\"gridwidth\":2}},\"shapedefaults\":{\"line\":{\"color\":\"#2a3f5f\"}},\"annotationdefaults\":{\"arrowcolor\":\"#2a3f5f\",\"arrowhead\":0,\"arrowwidth\":1},\"geo\":{\"bgcolor\":\"white\",\"landcolor\":\"#E5ECF6\",\"subunitcolor\":\"white\",\"showland\":true,\"showlakes\":true,\"lakecolor\":\"white\"},\"title\":{\"x\":0.05},\"mapbox\":{\"style\":\"light\"}}},\"xaxis\":{\"anchor\":\"y\",\"domain\":[0.0,1.0],\"title\":{\"text\":\"ds\"}},\"yaxis\":{\"anchor\":\"x\",\"domain\":[0.0,1.0],\"title\":{\"text\":\"yhat\"}},\"legend\":{\"tracegroupgap\":0},\"margin\":{\"t\":60}},                        {\"responsive\": true}                    ).then(function(){\n",
              "                            \n",
              "var gd = document.getElementById('b0e6ed53-5706-411d-817c-10c2f0602e8f');\n",
              "var x = new MutationObserver(function (mutations, observer) {{\n",
              "        var display = window.getComputedStyle(gd).display;\n",
              "        if (!display || display === 'none') {{\n",
              "            console.log([gd, 'removed!']);\n",
              "            Plotly.purge(gd);\n",
              "            observer.disconnect();\n",
              "        }}\n",
              "}});\n",
              "\n",
              "// Listen for the removal of the full notebook cells\n",
              "var notebookContainer = gd.closest('#notebook-container');\n",
              "if (notebookContainer) {{\n",
              "    x.observe(notebookContainer, {childList: true});\n",
              "}}\n",
              "\n",
              "// Listen for the clearing of the current output cell\n",
              "var outputEl = gd.closest('.output');\n",
              "if (outputEl) {{\n",
              "    x.observe(outputEl, {childList: true});\n",
              "}}\n",
              "\n",
              "                        })                };                            </script>        </div>\n",
              "</body>\n",
              "</html>"
            ]
          },
          "metadata": {}
        }
      ],
      "source": [
        "# Plot the forecast dataframe\n",
        "px.line(forecast,x='ds',y='yhat')"
      ]
    },
    {
      "cell_type": "code",
      "source": [
        "figure = m.plot(forecast,xlabel='ds',ylabel='y')"
      ],
      "metadata": {
        "colab": {
          "base_uri": "https://localhost:8080/",
          "height": 607
        },
        "id": "OqBH1Jb9JjVF",
        "outputId": "02ac0c61-cb54-457c-af35-ec2d24d1232c"
      },
      "execution_count": 25,
      "outputs": [
        {
          "output_type": "display_data",
          "data": {
            "text/plain": [
              "<Figure size 1000x600 with 1 Axes>"
            ],
            "image/png": "[encoded data removed]"
          },
          "metadata": {}
        }
      ]
    },
    {
      "cell_type": "markdown",
      "source": [
        "**Black dots** represent the actual price of Netflix.<br>\n",
        "**Blue line** represent forecasted price.<br>\n",
        "The **shaded region** is between y_hat lower and y_hat upper"
      ],
      "metadata": {
        "id": "FfqlmIa3XMdW"
      }
    },
    {
      "cell_type": "markdown",
      "source": [
        "Currently, the black dots is higher that y_hat upper and the forecasted price. It is a bad buying opportunity and good selling opportunity since the price will going down."
      ],
      "metadata": {
        "id": "ldG9nGa7YFw5"
      }
    },
    {
      "cell_type": "code",
      "source": [
        "# Visualize the trend\n",
        "figure2=m.plot_components(forecast)"
      ],
      "metadata": {
        "colab": {
          "base_uri": "https://localhost:8080/",
          "height": 606
        },
        "id": "s_y5CLDkJ6Ic",
        "outputId": "411591e4-f850-41c1-d5ec-a749fc2d8733"
      },
      "execution_count": 26,
      "outputs": [
        {
          "output_type": "display_data",
          "data": {
            "text/plain": [
              "<Figure size 900x600 with 2 Axes>"
            ],
            "image/png": "[encoded data removed]"
          },
          "metadata": {}
        }
      ]
    },
    {
      "cell_type": "markdown",
      "metadata": {
        "id": "6csAGFe7DTij"
      },
      "source": [
        "##Downloading the Forecast data"
      ]
    },
    {
      "cell_type": "code",
      "execution_count": 27,
      "metadata": {
        "id": "FFchZPzWDY9c",
        "colab": {
          "base_uri": "https://localhost:8080/",
          "height": 17
        },
        "outputId": "8aa07b0a-b8f2-464e-eec9-ae12b4942754"
      },
      "outputs": [
        {
          "output_type": "display_data",
          "data": {
            "text/plain": [
              "<IPython.core.display.Javascript object>"
            ],
            "application/javascript": [
              "\n",
              "    async function download(id, filename, size) {\n",
              "      if (!google.colab.kernel.accessAllowed) {\n",
              "        return;\n",
              "      }\n",
              "      const div = document.createElement('div');\n",
              "      const label = document.createElement('label');\n",
              "      label.textContent = `Downloading \"${filename}\": `;\n",
              "      div.appendChild(label);\n",
              "      const progress = document.createElement('progress');\n",
              "      progress.max = size;\n",
              "      div.appendChild(progress);\n",
              "      document.body.appendChild(div);\n",
              "\n",
              "      const buffers = [];\n",
              "      let downloaded = 0;\n",
              "\n",
              "      const channel = await google.colab.kernel.comms.open(id);\n",
              "      // Send a message to notify the kernel that we're ready.\n",
              "      channel.send({})\n",
              "\n",
              "      for await (const message of channel.messages) {\n",
              "        // Send a message to notify the kernel that we're ready.\n",
              "        channel.send({})\n",
              "        if (message.buffers) {\n",
              "          for (const buffer of message.buffers) {\n",
              "            buffers.push(buffer);\n",
              "            downloaded += buffer.byteLength;\n",
              "            progress.value = downloaded;\n",
              "          }\n",
              "        }\n",
              "      }\n",
              "      const blob = new Blob(buffers, {type: 'application/binary'});\n",
              "      const a = document.createElement('a');\n",
              "      a.href = window.URL.createObjectURL(blob);\n",
              "      a.download = filename;\n",
              "      div.appendChild(a);\n",
              "      a.click();\n",
              "      div.remove();\n",
              "    }\n",
              "  "
            ]
          },
          "metadata": {}
        },
        {
          "output_type": "display_data",
          "data": {
            "text/plain": [
              "<IPython.core.display.Javascript object>"
            ],
            "application/javascript": [
              "download(\"download_a2c281e4-035d-493a-98c2-e8862ce29333\", \"nflx_forecast.csv\", 71969)"
            ]
          },
          "metadata": {}
        }
      ],
      "source": [
        "from google.colab import files\n",
        "forecast.to_csv('nflx_forecast.csv')\n",
        "files.download('nflx_forecast.csv')"
      ]
    }
  ],
  "metadata": {
    "colab": {
      "provenance": [],
      "gpuType": "T4",
      "include_colab_link": true
    },
    "kernelspec": {
      "display_name": "Python 3",
      "name": "python3"
    },
    "language_info": {
      "codemirror_mode": {
        "name": "ipython",
        "version": 3
      },
      "file_extension": ".py",
      "mimetype": "text/x-python",
      "name": "python",
      "nbconvert_exporter": "python",
      "pygments_lexer": "ipython3",
      "version": "3.9.13"
    }
  },
  "nbformat": 4,
  "nbformat_minor": 0
}